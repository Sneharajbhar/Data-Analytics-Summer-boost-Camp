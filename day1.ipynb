{
 "cells": [
  {
   "cell_type": "code",
   "execution_count": 7,
   "id": "43135d99-8f81-4a55-8dc4-cd0696a64aa0",
   "metadata": {},
   "outputs": [
    {
     "name": "stdout",
     "output_type": "stream",
     "text": [
      "40\n"
     ]
    }
   ],
   "source": [
    "# Que1: Variable Assigement & Sum\n",
    "num1 = 15\n",
    "num2 = 25\n",
    "print(num1+num2)"
   ]
  },
  {
   "cell_type": "code",
   "execution_count": 6,
   "id": "7962eab1-8096-4c53-82c0-3511ba58f026",
   "metadata": {},
   "outputs": [
    {
     "name": "stdout",
     "output_type": "stream",
     "text": [
      "32\n",
      "84\n"
     ]
    }
   ],
   "source": [
    "# Que2: Difference & Product\n",
    "num1 = 50\n",
    "num2 = 18\n",
    "num3 = 12\n",
    "num4 = 7\n",
    "print(num1-num2)\n",
    "print(num3*num4)"
   ]
  },
  {
   "cell_type": "code",
   "execution_count": 8,
   "id": "f3468f82-8344-4793-b3b8-d9d7eb286f3b",
   "metadata": {},
   "outputs": [
    {
     "name": "stdout",
     "output_type": "stream",
     "text": [
      "33.333333333333336\n",
      "1\n"
     ]
    }
   ],
   "source": [
    "# Que3: Division & Modulus\n",
    "num1 = 100\n",
    "num2 = 3\n",
    "print(100/3)\n",
    "print(100%3)"
   ]
  },
  {
   "cell_type": "code",
   "execution_count": 9,
   "id": "57c8befd-ea7b-4512-bf5f-73e20abf215d",
   "metadata": {},
   "outputs": [
    {
     "name": "stdout",
     "output_type": "stream",
     "text": [
      "True\n",
      "True\n",
      "True\n"
     ]
    }
   ],
   "source": [
    "# Que4: Boolean Expressions\n",
    "a = (5+3)>(10-4)\n",
    "b = (20/2) == 10\n",
    "c = (7<5) or (9!=8)\n",
    "print(a)\n",
    "print(b)\n",
    "print(c)"
   ]
  },
  {
   "cell_type": "code",
   "execution_count": 18,
   "id": "b8bf9d74-15f1-4194-82ed-4561d499910b",
   "metadata": {},
   "outputs": [
    {
     "name": "stdout",
     "output_type": "stream",
     "text": [
      "45\n",
      "33.0\n"
     ]
    }
   ],
   "source": [
    "# Que5: Type Conversion\n",
    "num1 = 45.8\n",
    "num2 = 33\n",
    "print(int(num1))\n",
    "print(float(num2))"
   ]
  },
  {
   "cell_type": "code",
   "execution_count": 12,
   "id": "72653604-32f9-4724-97f8-1ce95c30b345",
   "metadata": {},
   "outputs": [
    {
     "name": "stdin",
     "output_type": "stream",
     "text": [
      "Enter the first number: 12\n",
      "Enter the Second number: 34\n",
      "Enter the thrid number: 45\n"
     ]
    },
    {
     "name": "stdout",
     "output_type": "stream",
     "text": [
      "61.0\n"
     ]
    }
   ],
   "source": [
    "# Que6: Average of Three Numbers\n",
    "a = int(input(\"Enter the first number:\"))\n",
    "b = int(input(\"Enter the Second number:\"))\n",
    "c = int(input(\"Enter the thrid number:\"))\n",
    "print(((a+b+c/3)))"
   ]
  },
  {
   "cell_type": "code",
   "execution_count": 13,
   "id": "6ab065a6-89f8-4253-a06f-473505f9ec7b",
   "metadata": {},
   "outputs": [
    {
     "name": "stdout",
     "output_type": "stream",
     "text": [
      "125\n"
     ]
    }
   ],
   "source": [
    "# Que7: Power Calculation\n",
    "print(5**3)"
   ]
  },
  {
   "cell_type": "code",
   "execution_count": 15,
   "id": "91201e2d-b565-452e-938a-0d575d1ab6a0",
   "metadata": {},
   "outputs": [
    {
     "name": "stdin",
     "output_type": "stream",
     "text": [
      "Enter A Temperature in Fahrenheit to convert into celsius: 32\n"
     ]
    },
    {
     "name": "stdout",
     "output_type": "stream",
     "text": [
      "0.0\n"
     ]
    }
   ],
   "source": [
    "# Que8: Temperature Conversion \n",
    "f = float(input(\"Enter A Temperature in Fahrenheit to convert into celsius:\"))\n",
    "celsius = (f-32)*(5/9)\n",
    "print(celsius)"
   ]
  },
  {
   "cell_type": "code",
   "execution_count": 16,
   "id": "854369fc-4954-4886-b93c-c58144fe350e",
   "metadata": {},
   "outputs": [
    {
     "name": "stdout",
     "output_type": "stream",
     "text": [
      "100.0\n"
     ]
    }
   ],
   "source": [
    "# Que9: Simple interest Calculation\n",
    "p = 1000\n",
    "r = 5\n",
    "t = 2\n",
    "si = (p*r*t)/100\n",
    "print(si)"
   ]
  },
  {
   "cell_type": "code",
   "execution_count": 17,
   "id": "b3f22a37-2d96-446c-bc4d-28239b1b6163",
   "metadata": {},
   "outputs": [
    {
     "name": "stdout",
     "output_type": "stream",
     "text": [
      "60.0\n"
     ]
    }
   ],
   "source": [
    "# Que10: Mixed Arithmetic\n",
    "exp = (15+5)*(20-8)/4\n",
    "print(exp)"
   ]
  },
  {
   "cell_type": "code",
   "execution_count": null,
   "id": "048642bd-7520-419b-87c7-cf00d64bb8a5",
   "metadata": {},
   "outputs": [],
   "source": []
  }
 ],
 "metadata": {
  "kernelspec": {
   "display_name": "Python 3 (ipykernel)",
   "language": "python",
   "name": "python3"
  },
  "language_info": {
   "codemirror_mode": {
    "name": "ipython",
    "version": 3
   },
   "file_extension": ".py",
   "mimetype": "text/x-python",
   "name": "python",
   "nbconvert_exporter": "python",
   "pygments_lexer": "ipython3",
   "version": "3.13.5"
  }
 },
 "nbformat": 4,
 "nbformat_minor": 5
}
