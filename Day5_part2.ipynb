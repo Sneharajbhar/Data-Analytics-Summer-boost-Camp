{
 "cells": [
  {
   "cell_type": "code",
   "execution_count": 2,
   "id": "af229ee2-f897-40a0-8565-2c5260100994",
   "metadata": {},
   "outputs": [
    {
     "name": "stdout",
     "output_type": "stream",
     "text": [
      "1\n"
     ]
    }
   ],
   "source": [
    "# tuple\n",
    "# ordered\n",
    "# immutable\n",
    "# indexed\n",
    "t = (1,2,2,3,4,5)\n",
    "# count()\n",
    "t.count(2)\n",
    "# index()\n",
    "print(t.index(2))"
   ]
  },
  {
   "cell_type": "code",
   "execution_count": 8,
   "id": "1169f98b-1bbd-4fe8-ae1f-72aa117b215d",
   "metadata": {},
   "outputs": [
    {
     "name": "stdin",
     "output_type": "stream",
     "text": [
      "Enter a element: 1\n",
      "Enter a element: 2\n",
      "Enter a element: 56\n",
      "Enter a element: 78\n",
      "Enter a element: 89\n",
      "Enter a element: 12\n",
      "Enter a element: 90\n",
      "Enter a element: 34\n",
      "Enter a element: 4\n",
      "Enter a element: 3\n"
     ]
    },
    {
     "name": "stdout",
     "output_type": "stream",
     "text": [
      "[1, 2, 56, 78, 89, 12, 90, 34, 4, 3]\n",
      "Second largest number is: 89\n"
     ]
    }
   ],
   "source": []
  },
  {
   "cell_type": "code",
   "execution_count": null,
   "id": "439876e8-fb2e-4c0d-96b4-e71a6edf3123",
   "metadata": {},
   "outputs": [],
   "source": []
  }
 ],
 "metadata": {
  "kernelspec": {
   "display_name": "Python 3 (ipykernel)",
   "language": "python",
   "name": "python3"
  },
  "language_info": {
   "codemirror_mode": {
    "name": "ipython",
    "version": 3
   },
   "file_extension": ".py",
   "mimetype": "text/x-python",
   "name": "python",
   "nbconvert_exporter": "python",
   "pygments_lexer": "ipython3",
   "version": "3.13.5"
  }
 },
 "nbformat": 4,
 "nbformat_minor": 5
}
