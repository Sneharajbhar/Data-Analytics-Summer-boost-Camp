{
 "cells": [
  {
   "cell_type": "code",
   "execution_count": 43,
   "id": "5f672545-0b0e-4995-aaf6-8bde68e78c44",
   "metadata": {},
   "outputs": [
    {
     "name": "stdout",
     "output_type": "stream",
     "text": [
      "[1, 2, 3, 4]\n"
     ]
    }
   ],
   "source": [
    "# Data Structure\n",
    "# list mutable \n",
    "# append()\n",
    "a = [1,2,3]\n",
    "a.append(4)\n",
    "print(a)"
   ]
  },
  {
   "cell_type": "code",
   "execution_count": 2,
   "id": "23019975-6e96-4a19-8612-c3c56dd9dfd4",
   "metadata": {},
   "outputs": [
    {
     "name": "stdout",
     "output_type": "stream",
     "text": [
      "[1, 2, 2, 3, 4]\n"
     ]
    }
   ],
   "source": [
    "# insert\n",
    "a.insert(1,2)\n",
    "print(a)"
   ]
  },
  {
   "cell_type": "code",
   "execution_count": 22,
   "id": "66adb94d-1ad9-4249-b503-3e63eac82d5a",
   "metadata": {},
   "outputs": [
    {
     "name": "stdout",
     "output_type": "stream",
     "text": [
      "[5, 6]\n"
     ]
    }
   ],
   "source": [
    "# extend()\n",
    "a.extend([5,6])\n",
    "print(a)"
   ]
  },
  {
   "cell_type": "code",
   "execution_count": 44,
   "id": "78d584a3-09f2-4d0b-b602-9b53b08df53c",
   "metadata": {},
   "outputs": [
    {
     "name": "stdout",
     "output_type": "stream",
     "text": [
      "[1, 2, 3]\n"
     ]
    }
   ],
   "source": [
    "# pop(index) also can pass and delete the last element\n",
    "a.pop()\n",
    "print(a)"
   ]
  },
  {
   "cell_type": "code",
   "execution_count": 6,
   "id": "6f0e86f8-c079-402a-983f-9fc12a6dd114",
   "metadata": {},
   "outputs": [
    {
     "name": "stdout",
     "output_type": "stream",
     "text": [
      "[1, 2, 3, 4, 5]\n"
     ]
    }
   ],
   "source": [
    "# remove the fisrt occurrence element \n",
    "a.remove(2)\n",
    "print(a)"
   ]
  },
  {
   "cell_type": "code",
   "execution_count": 9,
   "id": "0f48b1fa-1c04-4745-b305-0de4bf7f69ff",
   "metadata": {},
   "outputs": [
    {
     "name": "stdout",
     "output_type": "stream",
     "text": [
      "1\n"
     ]
    }
   ],
   "source": [
    "# count(ele) count no. of occurrence\n",
    "print(a.count(3))"
   ]
  },
  {
   "cell_type": "code",
   "execution_count": 11,
   "id": "b7fa6446-4362-4bdb-9f85-0006e2c83207",
   "metadata": {},
   "outputs": [
    {
     "name": "stdout",
     "output_type": "stream",
     "text": [
      "1\n"
     ]
    }
   ],
   "source": [
    "# min(listname) return the min element\n",
    "print(min(a))"
   ]
  },
  {
   "cell_type": "code",
   "execution_count": 13,
   "id": "a747c25e-43c8-45c3-9ca1-6c699df5558b",
   "metadata": {},
   "outputs": [
    {
     "name": "stdout",
     "output_type": "stream",
     "text": [
      "5\n"
     ]
    }
   ],
   "source": [
    "# max(listname) return the max element\n",
    "print(max(a))"
   ]
  },
  {
   "cell_type": "code",
   "execution_count": 17,
   "id": "7cc1fb14-e330-4c2b-bdef-8e2797b428b7",
   "metadata": {},
   "outputs": [
    {
     "name": "stdout",
     "output_type": "stream",
     "text": [
      "[5, 4, 3, 2, 1]\n"
     ]
    }
   ],
   "source": [
    "# reverse the list\n",
    "a.reverse()\n",
    "print(a)"
   ]
  },
  {
   "cell_type": "code",
   "execution_count": 18,
   "id": "a4c85743-6f0a-41cf-89a7-1ee738f42c62",
   "metadata": {},
   "outputs": [
    {
     "name": "stdout",
     "output_type": "stream",
     "text": [
      "[1, 2, 3, 4, 5]\n"
     ]
    }
   ],
   "source": [
    "# ort the list in ascending order\n",
    "a.sort()\n",
    "print(a)"
   ]
  },
  {
   "cell_type": "code",
   "execution_count": 19,
   "id": "ba8de1c2-39e9-4a92-8085-c279e9012caf",
   "metadata": {},
   "outputs": [
    {
     "name": "stdout",
     "output_type": "stream",
     "text": [
      "[]\n",
      "<class 'list'>\n"
     ]
    }
   ],
   "source": [
    "# clear() delete whole elements in a list and become empty list \n",
    "# variable type still be a <class 'list'>\n",
    "a.clear()\n",
    "print(a)\n",
    "print(type(a))"
   ]
  },
  {
   "cell_type": "code",
   "execution_count": 24,
   "id": "971ed50f-abe0-472d-8ad4-25bf28dbe43b",
   "metadata": {},
   "outputs": [],
   "source": [
    "# del the specific index element\n",
    "a = [1,2,3]\n"
   ]
  },
  {
   "cell_type": "code",
   "execution_count": 28,
   "id": "ccf9654f-b988-4549-a403-61a4950470b2",
   "metadata": {},
   "outputs": [
    {
     "name": "stdout",
     "output_type": "stream",
     "text": [
      "2\n"
     ]
    }
   ],
   "source": [
    "# index(ele) return the index of the element\n",
    "print(a.index(3))"
   ]
  },
  {
   "cell_type": "code",
   "execution_count": 37,
   "id": "72462e6a-615a-4bde-8415-185127d868d2",
   "metadata": {},
   "outputs": [
    {
     "name": "stdout",
     "output_type": "stream",
     "text": [
      "[2, 1]\n"
     ]
    }
   ],
   "source": [
    "# del\n",
    "del a[0]\n",
    "print(a)\n"
   ]
  },
  {
   "cell_type": "code",
   "execution_count": 35,
   "id": "6a9c9c10-ec5b-4489-b299-666e110db017",
   "metadata": {},
   "outputs": [
    {
     "name": "stdout",
     "output_type": "stream",
     "text": [
      "[3, 2, 1]\n"
     ]
    }
   ],
   "source": [
    "# copy() list \n",
    "b = []\n",
    "b= a.copy()\n",
    "print(b)"
   ]
  },
  {
   "cell_type": "code",
   "execution_count": 33,
   "id": "154ab7f3-c4b3-471e-89df-af39b60eab24",
   "metadata": {},
   "outputs": [
    {
     "name": "stdout",
     "output_type": "stream",
     "text": [
      "[3, 2, 1]\n"
     ]
    }
   ],
   "source": [
    "# sort desc\n",
    "a.sort(reverse=\"True\")\n",
    "print(a)"
   ]
  },
  {
   "cell_type": "code",
   "execution_count": 42,
   "id": "4d27c47c-09bb-4793-8383-08b15978e81d",
   "metadata": {},
   "outputs": [
    {
     "name": "stdout",
     "output_type": "stream",
     "text": [
      "0\n"
     ]
    }
   ],
   "source": [
    "# len() size of list\n",
    "print(len(a))"
   ]
  },
  {
   "cell_type": "code",
   "execution_count": 45,
   "id": "1c26e3b1-e223-4c60-887b-86a22fb12170",
   "metadata": {},
   "outputs": [
    {
     "name": "stdin",
     "output_type": "stream",
     "text": [
      "Enter a element: 1\n",
      "Enter a element: 2\n",
      "Enter a element: 3\n",
      "Enter a element: 4\n",
      "Enter a element: 5\n"
     ]
    },
    {
     "name": "stdout",
     "output_type": "stream",
     "text": [
      "[1, 2, 3, 4, 5]\n"
     ]
    }
   ],
   "source": [
    "# 1: Create an empty list and take 5 numbers as input from the user. Append each number to the list and display the final list.\n",
    "a = []\n",
    "for i in range(1,6):\n",
    "    b = int(input(\"Enter a element:\"))\n",
    "    a.append(b)\n",
    "print(a)"
   ]
  },
  {
   "cell_type": "code",
   "execution_count": 46,
   "id": "7f9e3a0e-30e9-495a-8ea5-c70c30776c37",
   "metadata": {},
   "outputs": [
    {
     "name": "stdout",
     "output_type": "stream",
     "text": [
      "[1, 2, 3, 4, 5, 6]\n"
     ]
    }
   ],
   "source": [
    "# 2 :Create two lists: list1 = [1, 2, 3] and list2 = [4, 5, 6]. Extend list1 using list2 and print the updated list.\n",
    "list1 = [1, 2, 3]\n",
    "list2 = [4, 5, 6]\n",
    "list1.extend(list2)\n",
    "print(list1)"
   ]
  },
  {
   "cell_type": "code",
   "execution_count": 47,
   "id": "4788ea6c-0510-4309-9fdb-9a6ead01b2eb",
   "metadata": {},
   "outputs": [
    {
     "name": "stdout",
     "output_type": "stream",
     "text": [
      "[10, 20, 25, 30, 40]\n"
     ]
    }
   ],
   "source": [
    "# 3: Insert the value 25 at index 2 in the list: l = [10, 20, 30, 40].\n",
    "l = [10, 20, 30, 40]\n",
    "l.insert(2,25)\n",
    "print(l)"
   ]
  },
  {
   "cell_type": "code",
   "execution_count": 48,
   "id": "a2c5da20-efaf-402e-b9f6-4a1a1758af00",
   "metadata": {},
   "outputs": [
    {
     "name": "stdout",
     "output_type": "stream",
     "text": [
      "[10, 30, 20, 40]\n"
     ]
    }
   ],
   "source": [
    "# 4: Remove the first occurrence of the value 20 from the list: l = [10, 20, 30, 20, 40].\n",
    "l = [10, 20, 30, 20, 40]\n",
    "l.remove(20)\n",
    "print(l)"
   ]
  },
  {
   "cell_type": "code",
   "execution_count": 49,
   "id": "d5e71de5-64ad-41cc-9541-ce6852edb721",
   "metadata": {},
   "outputs": [
    {
     "name": "stdout",
     "output_type": "stream",
     "text": [
      "5\n",
      "[1, 2, 3, 4]\n"
     ]
    }
   ],
   "source": [
    "# 5: Pop the last element from the list [1, 2, 3, 4, 5] and display both the popped item and the updated list.\n",
    "list = [1, 2, 3, 4, 5]\n",
    "print(list.pop())\n",
    "print(list)\n"
   ]
  },
  {
   "cell_type": "code",
   "execution_count": 50,
   "id": "57b86f8f-b120-4c22-b74d-beb6551d199f",
   "metadata": {},
   "outputs": [
    {
     "name": "stdout",
     "output_type": "stream",
     "text": [
      "2\n"
     ]
    }
   ],
   "source": [
    "# 6: Find and print the index of the element 15 in the list [5, 10, 15, 20, 25].\n",
    "list = [5, 10, 15, 20, 25]\n",
    "print(list.index(15))"
   ]
  },
  {
   "cell_type": "code",
   "execution_count": 51,
   "id": "dbc10a10-b6d9-4684-b761-92ab44fb3181",
   "metadata": {},
   "outputs": [
    {
     "data": {
      "text/plain": [
       "4"
      ]
     },
     "execution_count": 51,
     "metadata": {},
     "output_type": "execute_result"
    }
   ],
   "source": [
    "# 7: Count how many times the number 2 appears in the list [1, 2, 2, 3, 2, 4, 2].\n",
    "list = [1, 2, 2, 3, 2, 4, 2]\n",
    "list.count(2)\n"
   ]
  },
  {
   "cell_type": "code",
   "execution_count": 54,
   "id": "bc4dacd1-bba0-4a51-bff7-48531929b131",
   "metadata": {},
   "outputs": [
    {
     "name": "stdout",
     "output_type": "stream",
     "text": [
      "[3, 5, 7, 10]\n",
      "[10, 7, 5, 3]\n"
     ]
    }
   ],
   "source": [
    "# 8: Sort the list [10, 5, 7, 3] in both ascending and descending order.\n",
    "list = [10, 5, 7, 3]\n",
    "list.sort()\n",
    "print(list)\n",
    "list.sort(reverse=\"True\")\n",
    "print(list)\n"
   ]
  },
  {
   "cell_type": "code",
   "execution_count": 56,
   "id": "64e2d166-057a-4291-8794-5316454ba20d",
   "metadata": {},
   "outputs": [
    {
     "name": "stdout",
     "output_type": "stream",
     "text": [
      "[5, 4, 3, 2, 1]\n"
     ]
    }
   ],
   "source": [
    "# 9: Reverse the list [1, 2, 3, 4, 5] using the reverse() method.\n",
    "list4 = [1, 2, 3, 4, 5]\n",
    "list4.reverse()\n",
    "print(list4)\n"
   ]
  },
  {
   "cell_type": "code",
   "execution_count": 65,
   "id": "e91d96c8-56ba-411e-b9f3-85e9b3a43244",
   "metadata": {},
   "outputs": [
    {
     "name": "stdout",
     "output_type": "stream",
     "text": [
      "[1, 2, 3]\n",
      "original list:  [1, 2, 3]\n",
      "copied list:  [1, 2, 3, 4]\n"
     ]
    }
   ],
   "source": [
    "# 10: Copy the list [1, 2, 3] to a new list, make changes in the copied list, and show that the original list remains unchanged.\n",
    "list5 =  [1, 2, 3]\n",
    "list6 = list5.copy()\n",
    "print(list6)\n",
    "list6.append(4)\n",
    "print(\"original list: \",list5)\n",
    "print(\"copied list: \",list6)"
   ]
  },
  {
   "cell_type": "code",
   "execution_count": 1,
   "id": "3fe07881-1bcc-4786-9c95-335d0028fb3f",
   "metadata": {},
   "outputs": [
    {
     "name": "stdin",
     "output_type": "stream",
     "text": [
      "Enter a element: 1\n",
      "Enter a element: 2\n",
      "Enter a element: 345\n",
      "Enter a element: 567\n",
      "Enter a element: 42\n",
      "Enter a element: 13\n",
      "Enter a element: 897\n",
      "Enter a element: 234\n",
      "Enter a element: 13\n",
      "Enter a element: 45\n"
     ]
    },
    {
     "name": "stdout",
     "output_type": "stream",
     "text": [
      "[1, 2, 345, 567, 42, 13, 897, 234, 13, 45]\n",
      "Second largest number is: 567\n"
     ]
    }
   ],
   "source": [
    "# 11. Write a program to take a list of 10 integers as input and print the second largest number using list methods.\n",
    "a = []\n",
    "for i in range(1,11):\n",
    "    b = int(input(\"Enter a element:\"))\n",
    "    a.append(b)\n",
    "print(a)\n",
    "a.sort() \n",
    "print(\"Second largest number is:\", a[-2])"
   ]
  },
  {
   "cell_type": "code",
   "execution_count": 2,
   "id": "96f3a22a-ac9a-491f-ac05-641533a379fb",
   "metadata": {},
   "outputs": [
    {
     "name": "stdout",
     "output_type": "stream",
     "text": [
      "[1, 3, 5]\n"
     ]
    }
   ],
   "source": [
    "# 12. Write a program to remove all even numbers from a list of integers and print the updated list.\n",
    "list = [1,2,3,4,5]\n",
    "for i in list:\n",
    "    if i%2==0:\n",
    "        list.remove(i)\n",
    "print(list)\n"
   ]
  },
  {
   "cell_type": "code",
   "execution_count": 3,
   "id": "0d75996f-ba3f-4fd2-8d81-40a61cae4e94",
   "metadata": {},
   "outputs": [
    {
     "name": "stdin",
     "output_type": "stream",
     "text": [
      "Enter a string abc\n",
      "Enter a string Sneha\n"
     ]
    },
    {
     "name": "stdout",
     "output_type": "stream",
     "text": [
      "['abc']\n"
     ]
    }
   ],
   "source": [
    "# 13. Create a list of student names. Ask the user to enter a name, and remove that name from the list if it exists.\n",
    "a = []\n",
    "for i in range(1,3):\n",
    "    b = input(\"Enter a string\")\n",
    "    a.append(b)\n",
    "for i in a:\n",
    "    if i == \"Sneha\":\n",
    "        a.remove(i)\n",
    "print(a)"
   ]
  },
  {
   "cell_type": "code",
   "execution_count": 4,
   "id": "82088f18-d1d8-480f-9da1-0d7d852ccf36",
   "metadata": {},
   "outputs": [
    {
     "name": "stdin",
     "output_type": "stream",
     "text": [
      "Enter a number: 3\n"
     ]
    },
    {
     "name": "stdout",
     "output_type": "stream",
     "text": [
      "2\n",
      "[1, 2, 4]\n"
     ]
    }
   ],
   "source": [
    "# 14. Create a list of numbers. Ask the user to enter a number. If it exists, print its index and remove it from the list.\n",
    "a = [1,2,3,4]\n",
    "num = int(input(\"Enter a number:\"))\n",
    "for i in a:\n",
    "    if i == num:\n",
    "        print(a.index(i))\n",
    "        a.remove(i)\n",
    "print(a)"
   ]
  },
  {
   "cell_type": "code",
   "execution_count": 5,
   "id": "1fa6ee04-7d42-4a92-9ceb-0d8eea5ebbdf",
   "metadata": {},
   "outputs": [
    {
     "name": "stdin",
     "output_type": "stream",
     "text": [
      "Enter a string a\n",
      "Enter a string c\n",
      "Enter a string b\n",
      "Enter a string d\n",
      "Enter a string a\n"
     ]
    },
    {
     "name": "stdout",
     "output_type": "stream",
     "text": [
      "['a', 'a', 'b', 'c', 'd']\n"
     ]
    }
   ],
   "source": [
    "# 15. Create a list of 5 strings. Sort the list in alphabetical order using the sort() method.\n",
    "a = []\n",
    "for i in range(1,6):\n",
    "    b = input(\"Enter a string\")\n",
    "    a.append(b)\n",
    "a.sort()\n",
    "print(a)"
   ]
  },
  {
   "cell_type": "code",
   "execution_count": 11,
   "id": "6ec89425-a076-456a-848e-5cf5eab099e5",
   "metadata": {},
   "outputs": [
    {
     "name": "stdin",
     "output_type": "stream",
     "text": [
      "Enter a string python\n",
      "Enter a string abs\n",
      "Enter a string python\n",
      "Enter a string sa\n",
      "Enter a string python\n"
     ]
    },
    {
     "name": "stdout",
     "output_type": "stream",
     "text": [
      "['python', 'abs', 'python', 'sa', 'python']\n",
      "3\n"
     ]
    }
   ],
   "source": [
    "# 16. Write a program that counts how many times the word \"python\" appears in a list of words.\n",
    "a = []\n",
    "for i in range(1,6):\n",
    "    b = input(\"Enter a string\")\n",
    "    a.append(b)\n",
    "print(a)\n",
    "if \"python\" in a:\n",
    "    print(a.count(\"python\"))\n"
   ]
  },
  {
   "cell_type": "code",
   "execution_count": 12,
   "id": "df283255-14a3-4c4a-afe1-20826247d85c",
   "metadata": {},
   "outputs": [
    {
     "name": "stdout",
     "output_type": "stream",
     "text": [
      "[1, 2, 3]\n",
      "original list:  [1, 2, 3]\n",
      "copied list:  [1, 2, 3, 4]\n"
     ]
    }
   ],
   "source": [
    "# 17. Make a copy of a list using the copy() method. Then modify the copied list and show that the original list is unchanged.\n",
    "list5 =  [1, 2, 3]\n",
    "list6 = list5.copy()\n",
    "print(list6)\n",
    "list6.append(4)\n",
    "print(\"original list: \",list5)\n",
    "print(\"copied list: \",list6)"
   ]
  },
  {
   "cell_type": "code",
   "execution_count": 13,
   "id": "5443d2c8-63ec-4e0e-9c63-12c38adb6a5d",
   "metadata": {},
   "outputs": [
    {
     "name": "stdout",
     "output_type": "stream",
     "text": [
      "[1, 2, 3, 4, 4, 5, 6, 7]\n"
     ]
    }
   ],
   "source": [
    "# 18. Take a list of 7 numbers. Insert a number at the middle index using the insert() method.\n",
    "list1 = [1,2,3,4,5,6,7]\n",
    "list1.insert(len(list1)//2,4)\n",
    "print(list1)"
   ]
  },
  {
   "cell_type": "code",
   "execution_count": 14,
   "id": "5eaac112-78ad-4485-8200-f58007945586",
   "metadata": {},
   "outputs": [
    {
     "name": "stdout",
     "output_type": "stream",
     "text": [
      "5\n",
      "4\n",
      "3\n",
      "2\n",
      "1\n",
      "[]\n"
     ]
    }
   ],
   "source": [
    "# 19. Create a list and use pop() to remove elements one by one until the list becomes empty. Print each popped element.\n",
    "list_2 =[1,2,3,4,5]\n",
    "while(list_2):\n",
    "    print(list_2.pop())\n",
    "print(list_2)"
   ]
  },
  {
   "cell_type": "code",
   "execution_count": 15,
   "id": "2666e090-09de-4c28-a29b-1c2cde360488",
   "metadata": {},
   "outputs": [
    {
     "name": "stdout",
     "output_type": "stream",
     "text": [
      "1\n",
      "2\n",
      "3\n"
     ]
    }
   ],
   "source": [
    "# 20. Create a list of numbers and display only the unique elements using count() method logic (no set used).\n",
    "list_first = [1,2,3,4,4,5,5,5]\n",
    "for i in list_first:\n",
    "    if list_first.count(i)==1:\n",
    "        print(i)"
   ]
  },
  {
   "cell_type": "code",
   "execution_count": 16,
   "id": "8e869d45-fbea-47a3-abe2-94a24af61fff",
   "metadata": {},
   "outputs": [
    {
     "name": "stdout",
     "output_type": "stream",
     "text": [
      "2\n",
      "1\n",
      "(1, 2, 2, 3, 4, 5)\n"
     ]
    }
   ],
   "source": [
    "# tuple\n",
    "# ordered\n",
    "# immutable\n",
    "# indexed\n",
    "t = (1,2,2,3,4,5)\n",
    "# count()\n",
    "print(t.count(2))\n",
    "# index()\n",
    "print(t.index(2))\n",
    "print(t)"
   ]
  },
  {
   "cell_type": "code",
   "execution_count": 17,
   "id": "66563623-fe10-40fb-8136-fb21749603ed",
   "metadata": {},
   "outputs": [
    {
     "name": "stdout",
     "output_type": "stream",
     "text": [
      "()\n",
      "1\n",
      "(1,)\n"
     ]
    }
   ],
   "source": [
    "# Creating a empty list\n",
    "T = tuple() \n",
    "print(T)\n",
    "\n",
    "# Create a single element tuple\n",
    "T1 = (1) # here 1 was treated as an integer expression, hence t stroes an integer 1, not a tuple \n",
    "print(T1)\n",
    "\n",
    "T2 = (1,) # Now T2 stroes a tuple, not integer\n",
    "print(T2)"
   ]
  },
  {
   "cell_type": "code",
   "execution_count": 18,
   "id": "c3969559-e597-4f0b-bcb6-ae555742b5e6",
   "metadata": {},
   "outputs": [
    {
     "name": "stdout",
     "output_type": "stream",
     "text": [
      "('H', 'e', 'l', 'l', 'o')\n",
      "('H', 'e', 'l', 'l', 'o')\n"
     ]
    }
   ],
   "source": [
    "# Creating tuple from a string\n",
    "T1 = tuple('Hello')\n",
    "print(T1)\n",
    "# Creating tuple from a list\n",
    "L = ['H', 'e', 'l', 'l', 'o']\n",
    "T2 = tuple(L)\n",
    "print(T2)"
   ]
  },
  {
   "cell_type": "code",
   "execution_count": 19,
   "id": "5df97944-ea1e-4838-911a-96a5ca1d50ed",
   "metadata": {},
   "outputs": [
    {
     "name": "stdin",
     "output_type": "stream",
     "text": [
      "Enter Tuple Elements: 12356\n"
     ]
    },
    {
     "name": "stdout",
     "output_type": "stream",
     "text": [
      "('1', '2', '3', '5', '6')\n"
     ]
    }
   ],
   "source": [
    "# creating tuple from keyborad input\n",
    "Tuple = tuple(input(\"Enter Tuple Elements:\"))\n",
    "print(Tuple)"
   ]
  },
  {
   "cell_type": "code",
   "execution_count": 20,
   "id": "2772a76f-ae22-4407-ae42-46b568e29175",
   "metadata": {},
   "outputs": [
    {
     "name": "stdout",
     "output_type": "stream",
     "text": [
      "Maximum Element Of Tuple is:  5\n",
      "Minimum Element Of Tuple is:  1\n",
      "Index of 3 in a tuple is:  2\n",
      "Total occurrences of 5 in a tuple is : 3\n"
     ]
    }
   ],
   "source": [
    "# Tuple Functions\n",
    "# max()\n",
    "Tuple = (1,2,3,4,5,5,5)\n",
    "print(\"Maximum Element Of Tuple is: \",max(Tuple))\n",
    "\n",
    "# min()\n",
    "print(\"Minimum Element Of Tuple is: \",min(Tuple))\n",
    "\n",
    "# index()\n",
    "print(\"Index of 3 in a tuple is: \",Tuple.index(3))\n",
    "\n",
    "# count()\n",
    "print(\"Total occurrences of 5 in a tuple is :\",Tuple.count(5))"
   ]
  },
  {
   "cell_type": "code",
   "execution_count": 21,
   "id": "62816c40-1225-4998-a829-64b6c92fc1c8",
   "metadata": {},
   "outputs": [
    {
     "name": "stdout",
     "output_type": "stream",
     "text": [
      "(1, 2)\n"
     ]
    }
   ],
   "source": [
    "# tuple() method is actually constructor method that can be used to create tuples from different types of values\n",
    "# example\n",
    "# Creating a tuple from keys of a dictionary\n",
    "t3 = tuple({1:\"One\",2:\"Two\"})\n",
    "print(t3)\n"
   ]
  },
  {
   "cell_type": "code",
   "execution_count": 22,
   "id": "25494ec4-6054-42c3-b299-afeca47ebb6c",
   "metadata": {},
   "outputs": [
    {
     "name": "stdout",
     "output_type": "stream",
     "text": [
      "{1, 2, 3, 4, 5}\n"
     ]
    }
   ],
   "source": [
    "# sets\n",
    "# operations\n",
    "# unordered\n",
    "# non indexed\n",
    "# unique elements\n",
    "# mutable\n",
    "\n",
    "s1 = {1,2,3}\n",
    "s2 = {3,4,5}\n",
    "print(s1.union(s2))"
   ]
  },
  {
   "cell_type": "code",
   "execution_count": 23,
   "id": "b1ec1377-e687-49ea-aef7-2f1e13898def",
   "metadata": {},
   "outputs": [
    {
     "name": "stdout",
     "output_type": "stream",
     "text": [
      "{9, 10, 12}\n"
     ]
    }
   ],
   "source": [
    "# sets\n",
    "s3 = set([6,7,8])\n",
    "s4 = set([9,10,12])\n",
    "print(s4)"
   ]
  },
  {
   "cell_type": "code",
   "execution_count": 24,
   "id": "7a739cb9-6688-4bbf-a891-5e0cc10696b1",
   "metadata": {},
   "outputs": [
    {
     "name": "stdout",
     "output_type": "stream",
     "text": [
      "{0, 1, 2, 3}\n"
     ]
    }
   ],
   "source": [
    "# add()\n",
    "s1.add(0)\n",
    "print(s1)"
   ]
  },
  {
   "cell_type": "code",
   "execution_count": 25,
   "id": "428030a4-d793-43df-a8f3-850b85948b58",
   "metadata": {},
   "outputs": [
    {
     "name": "stdout",
     "output_type": "stream",
     "text": [
      "3\n",
      "{4, 5}\n"
     ]
    }
   ],
   "source": [
    "# pop()\n",
    "print(s2.pop())\n",
    "print(s2)"
   ]
  },
  {
   "cell_type": "code",
   "execution_count": 26,
   "id": "6f2cc722-0a9d-4d95-8028-3288f16912cf",
   "metadata": {},
   "outputs": [
    {
     "name": "stdout",
     "output_type": "stream",
     "text": [
      "{2, 55}\n"
     ]
    }
   ],
   "source": [
    "# remove()\n",
    "set1 = {2,3,55}\n",
    "set1.remove(3)\n",
    "print(set1)"
   ]
  },
  {
   "cell_type": "code",
   "execution_count": 27,
   "id": "f72aef79-1899-4b2f-8971-b23e47969a27",
   "metadata": {},
   "outputs": [
    {
     "name": "stdout",
     "output_type": "stream",
     "text": [
      "set()\n",
      "<class 'set'>\n"
     ]
    }
   ],
   "source": [
    "# clear()\n",
    "set1 = {2,3,55}\n",
    "set1.clear()\n",
    "print(set1)\n",
    "print(type(set1))"
   ]
  },
  {
   "cell_type": "code",
   "execution_count": 28,
   "id": "de583a69-cacf-40a2-9f73-d5c29df5337c",
   "metadata": {},
   "outputs": [
    {
     "name": "stdout",
     "output_type": "stream",
     "text": [
      "{3}\n"
     ]
    }
   ],
   "source": [
    "# intersection()\n",
    "s1 = {1,2,3}\n",
    "s2 = {3,4,5}\n",
    "print(s1.intersection(s2))"
   ]
  },
  {
   "cell_type": "code",
   "execution_count": 29,
   "id": "6bdbf71a-c60f-40e0-8109-63aa8b71cf95",
   "metadata": {},
   "outputs": [
    {
     "name": "stdout",
     "output_type": "stream",
     "text": [
      "{1, 2, 3, 4}\n"
     ]
    }
   ],
   "source": [
    "# update(ele)\n",
    "s1 = {1,2,3}\n",
    "s1.update([4])\n",
    "print(s1)"
   ]
  },
  {
   "cell_type": "code",
   "execution_count": 30,
   "id": "46f43900-2db9-45c3-a0e5-bfde8eb1cf7c",
   "metadata": {},
   "outputs": [
    {
     "name": "stdout",
     "output_type": "stream",
     "text": [
      "{1, 2, 3}\n"
     ]
    }
   ],
   "source": [
    "# sets difference\n",
    "s1 = {1,2,3,3,4}\n",
    "s2 = {4,5,5,6,6,7}\n",
    "print(s1.difference(s2))"
   ]
  },
  {
   "cell_type": "code",
   "execution_count": 31,
   "id": "ec09c11f-5086-468b-8fb4-ad562e84dd17",
   "metadata": {},
   "outputs": [
    {
     "name": "stdout",
     "output_type": "stream",
     "text": [
      "False\n"
     ]
    }
   ],
   "source": [
    "# subset\n",
    "s1 = {1,2,3,3,4}\n",
    "s2 = {4,5,5,6,6,7}\n",
    "print(s1.issubset(s2))"
   ]
  },
  {
   "cell_type": "code",
   "execution_count": 32,
   "id": "89a75ac6-06b9-4f54-9148-ecb03af35de3",
   "metadata": {},
   "outputs": [
    {
     "data": {
      "text/plain": [
       "False"
      ]
     },
     "execution_count": 32,
     "metadata": {},
     "output_type": "execute_result"
    }
   ],
   "source": [
    "# disjoin\n",
    "s1 = {1,2,3,3,4}\n",
    "s2 = {4,5,5,6,6,7}\n",
    "s1.isdisjoint(s2)"
   ]
  },
  {
   "cell_type": "code",
   "execution_count": 33,
   "id": "6b66c9a7-0e4c-4ea7-a7de-c741c77a5edc",
   "metadata": {},
   "outputs": [
    {
     "data": {
      "text/plain": [
       "{1, 2, 3, 5, 6, 7}"
      ]
     },
     "execution_count": 33,
     "metadata": {},
     "output_type": "execute_result"
    }
   ],
   "source": [
    "s2.symmetric_difference(s1)"
   ]
  },
  {
   "cell_type": "code",
   "execution_count": 34,
   "id": "12289720-d9a1-40d6-bbfa-2cfa20915284",
   "metadata": {},
   "outputs": [
    {
     "data": {
      "text/plain": [
       "False"
      ]
     },
     "execution_count": 34,
     "metadata": {},
     "output_type": "execute_result"
    }
   ],
   "source": [
    "s2.issuperset(s1)"
   ]
  },
  {
   "cell_type": "code",
   "execution_count": 35,
   "id": "6a335f90-a1e4-4513-882f-48fc9c1f030c",
   "metadata": {},
   "outputs": [
    {
     "name": "stdout",
     "output_type": "stream",
     "text": [
      "{32, 90, 12, 78, 92}\n"
     ]
    }
   ],
   "source": [
    "# update\n",
    "sets = {32,78,90,12}\n",
    "sets.update({92})\n",
    "print(sets)\n"
   ]
  },
  {
   "cell_type": "code",
   "execution_count": 36,
   "id": "6f3aa8f4-aacc-4a8d-b5a9-8835a08df719",
   "metadata": {},
   "outputs": [
    {
     "name": "stdout",
     "output_type": "stream",
     "text": [
      "{32, 12, 78, 92}\n"
     ]
    }
   ],
   "source": [
    "# discard(elem)\n",
    "sets.discard(90)\n",
    "print(sets)"
   ]
  },
  {
   "cell_type": "code",
   "execution_count": 37,
   "id": "bcd803f6-6a60-4ff1-8865-e67ddcd7026c",
   "metadata": {},
   "outputs": [
    {
     "name": "stdout",
     "output_type": "stream",
     "text": [
      "One\n"
     ]
    }
   ],
   "source": [
    "# dictionary key value pair\n",
    "# unordered\n",
    "# indexed\n",
    "d = {1:\"One\",2:\"Two\",3:\"Three\"}\n",
    "print(d[1])\n"
   ]
  },
  {
   "cell_type": "code",
   "execution_count": 38,
   "id": "52cd009c-4116-4222-b5ce-6057291ae668",
   "metadata": {},
   "outputs": [
    {
     "name": "stdout",
     "output_type": "stream",
     "text": [
      "One\n",
      "Two\n",
      "Three\n"
     ]
    }
   ],
   "source": [
    "# access \n",
    "for i in d:\n",
    "    print(d[i])"
   ]
  },
  {
   "cell_type": "code",
   "execution_count": 39,
   "id": "a6cc8dca-d616-4fe5-a255-92c5ca1850d8",
   "metadata": {},
   "outputs": [
    {
     "data": {
      "text/plain": [
       "{1, 2, 3}"
      ]
     },
     "execution_count": 39,
     "metadata": {},
     "output_type": "execute_result"
    }
   ],
   "source": [
    "# keys fuctions\n",
    "{k for k in d.keys()}"
   ]
  },
  {
   "cell_type": "code",
   "execution_count": 40,
   "id": "4daea79f-41c7-4fbe-a9e6-60e435eabc1a",
   "metadata": {},
   "outputs": [
    {
     "data": {
      "text/plain": [
       "3"
      ]
     },
     "execution_count": 40,
     "metadata": {},
     "output_type": "execute_result"
    }
   ],
   "source": [
    "# len\n",
    "len(d)"
   ]
  },
  {
   "cell_type": "code",
   "execution_count": 41,
   "id": "11f572da-2bb7-494e-9b69-5c13f0faae8e",
   "metadata": {},
   "outputs": [
    {
     "data": {
      "text/plain": [
       "{'One', 'Three', 'Two'}"
      ]
     },
     "execution_count": 41,
     "metadata": {},
     "output_type": "execute_result"
    }
   ],
   "source": [
    "# values fuctions\n",
    "{k for k in d.values()}"
   ]
  },
  {
   "cell_type": "code",
   "execution_count": 42,
   "id": "1c62afc1-243b-4a86-82a1-0ccb13ff37ab",
   "metadata": {},
   "outputs": [
    {
     "name": "stdout",
     "output_type": "stream",
     "text": [
      "{}\n"
     ]
    }
   ],
   "source": [
    "# clear function\n",
    "d = {1:\"One\",2:\"Two\",3:\"Three\"}\n",
    "d.clear()\n",
    "print(d)"
   ]
  },
  {
   "cell_type": "code",
   "execution_count": 43,
   "id": "07422b51-d50e-483c-80bd-5db5c73fe4af",
   "metadata": {},
   "outputs": [
    {
     "name": "stdout",
     "output_type": "stream",
     "text": [
      "One\n"
     ]
    }
   ],
   "source": [
    "# get()\n",
    "d = {1:\"One\",2:\"Two\",3:\"Three\"}\n",
    "print(d.get(1))"
   ]
  },
  {
   "cell_type": "code",
   "execution_count": 44,
   "id": "3ef714a3-c7e3-402f-95e6-d4601c34768a",
   "metadata": {},
   "outputs": [
    {
     "name": "stdout",
     "output_type": "stream",
     "text": [
      "{1: 'One', 2: 'Two', 3: 'Third'}\n"
     ]
    }
   ],
   "source": [
    "# update()\n",
    "d = {1:\"One\",2:\"Two\",3:\"Three\"}\n",
    "d.update({3:\"Third\"})\n",
    "print(d)"
   ]
  },
  {
   "cell_type": "code",
   "execution_count": 45,
   "id": "642a4f2d-d9d7-43c8-bdd5-6c289cc4ef8c",
   "metadata": {},
   "outputs": [
    {
     "name": "stdout",
     "output_type": "stream",
     "text": [
      "Rock the World.\n"
     ]
    }
   ],
   "source": [
    "# String Functions\n",
    "# String declaration \n",
    "str = \"Rock the World.\"\n",
    "print(str)"
   ]
  },
  {
   "cell_type": "code",
   "execution_count": 46,
   "id": "91e80dc9-c63c-478a-8015-f602b38780dc",
   "metadata": {},
   "outputs": [
    {
     "name": "stdout",
     "output_type": "stream",
     "text": [
      "17\n"
     ]
    }
   ],
   "source": [
    "# Find the size of string\n",
    "str1 = \"End Of the world.\"\n",
    "print(len(str1))"
   ]
  },
  {
   "cell_type": "code",
   "execution_count": 47,
   "id": "91fad3a4-c778-4201-8f76-6d038d2d4b10",
   "metadata": {},
   "outputs": [
    {
     "name": "stdout",
     "output_type": "stream",
     "text": [
      "I love my india\n"
     ]
    }
   ],
   "source": [
    "# String the copy of the string with first character capitalized \n",
    "# capitalize()\n",
    "print('i love My India'.capitalize())"
   ]
  },
  {
   "cell_type": "code",
   "execution_count": 48,
   "id": "09a60c56-1213-4358-a433-504859d5d198",
   "metadata": {},
   "outputs": [
    {
     "name": "stdout",
     "output_type": "stream",
     "text": [
      "ISALNUM....\n",
      "True\n",
      "True\n",
      "False\n",
      "ISALPHA....\n",
      "True\n",
      "False\n",
      "ISDIGIT....\n",
      "True\n",
      "False\n",
      "ISSPACE....\n",
      "True\n",
      "False\n"
     ]
    }
   ],
   "source": [
    "# isalnum() return True if the character in the <string> are alphanumeric (alphabet or number)\n",
    "# isalpha() return True if all character in the <string> are alphabaetic\n",
    "# isdigit() return True if all the character in the <string> are digit\n",
    "# isspace return True if there are only whitespce character in string\n",
    "str1 = \"abc123\"\n",
    "str2 = \"abc\"\n",
    "str3 = \"123\"\n",
    "str4 = \" \"\n",
    "print(\"ISALNUM....\")\n",
    "print(str1.isalnum())\n",
    "print(str2.isalnum())\n",
    "print(str4.isalnum())\n",
    "\n",
    "print(\"ISALPHA....\")\n",
    "print(str2.isalpha())\n",
    "print(str3.isalpha())\n",
    "\n",
    "print(\"ISDIGIT....\")\n",
    "print(str3.isdigit())\n",
    "print(str2.isdigit())\n",
    "\n",
    "\n",
    "print(\"ISSPACE....\")\n",
    "print(str4.isspace())\n",
    "print(str2.isspace())"
   ]
  },
  {
   "cell_type": "code",
   "execution_count": 49,
   "id": "a9135fd3-469d-4485-bd30-88f25276a672",
   "metadata": {},
   "outputs": [
    {
     "name": "stdout",
     "output_type": "stream",
     "text": [
      "ISLOWER...\n",
      "True\n",
      "False\n",
      "ISUPPER...\n",
      "True\n",
      "False\n",
      "ISTITLE...\n",
      "True\n",
      "False\n"
     ]
    }
   ],
   "source": [
    "# islower() return True if all caesd characters in the <String> are lowercase\n",
    "# isupper() return True if all caesd characters in the <String> are uppercase\n",
    "# istitle() return true if the most first letter of an string is a capitalized eg:\"My programming language is java\"\n",
    "string1 = \"hello\"\n",
    "string2 = \"THERE\"\n",
    "string3 =  \"Goldy\"\n",
    "\n",
    "print(\"ISLOWER...\")\n",
    "print(string1.islower())\n",
    "print(string3.islower())\n",
    "\n",
    "print(\"ISUPPER...\")\n",
    "print(string2.isupper())\n",
    "print(string3.isupper())\n",
    "\n",
    "print(\"ISTITLE...\")\n",
    "print(string3.istitle())\n",
    "print(string1.istitle())"
   ]
  },
  {
   "cell_type": "code",
   "execution_count": 50,
   "id": "f9e737e0-43cf-48a4-8395-6c5fb1494afc",
   "metadata": {},
   "outputs": [
    {
     "name": "stdout",
     "output_type": "stream",
     "text": [
      "LOWER...\n",
      "there\n",
      "UPPER...\n",
      "HELLO\n",
      "TITLE...\n",
      "Hello\n",
      "There\n"
     ]
    }
   ],
   "source": [
    "# str.lower() : return a copy of the string <str> converted to lowercase\n",
    "# str.upper(): return a copy of the string <str> converted to lowercase\n",
    "# str.title(): return a titlecaed version of the string where words start with an uppercae character and the remaining are lowercase\n",
    "\n",
    "string1 = \"hello\"\n",
    "string2 = \"THERE\"\n",
    "string3 =  \"Goldy\"\n",
    "\n",
    "print(\"LOWER...\")\n",
    "print(string2.lower())\n",
    "\n",
    "print(\"UPPER...\")\n",
    "print(string1.upper())\n",
    "\n",
    "print(\"TITLE...\")\n",
    "print(string1.title())\n",
    "print(string2.title())"
   ]
  },
  {
   "cell_type": "code",
   "execution_count": 51,
   "id": "d1d9ef92-1489-4273-aef8-f01d3332114f",
   "metadata": {},
   "outputs": [
    {
     "name": "stdout",
     "output_type": "stream",
     "text": [
      "True\n",
      "True\n",
      "True\n",
      "False\n"
     ]
    }
   ],
   "source": [
    "# <str>.startswith(prefix,start,end) returns True if string <str> starts  with the argument prefix, otherwise returns False\n",
    "# <str>.endswith(suffix,start,end) returns True if string <str> ends with the argument suffix, otherwise returns False\n",
    "\n",
    "str = \"I LIKE CS\"\n",
    "print(str.startswith(\"I\"))\n",
    "print(str.endswith(\"CS\"))\n",
    "print(str.startswith(\"I\",0))\n",
    "print(str.endswith(\"CS\",4,6))"
   ]
  },
  {
   "cell_type": "code",
   "execution_count": 52,
   "id": "83f81efb-1b8d-4dd6-aab5-a0e658dfe683",
   "metadata": {},
   "outputs": [
    {
     "name": "stdout",
     "output_type": "stream",
     "text": [
      "hELLO wORLD\n",
      "Hello World\n"
     ]
    }
   ],
   "source": [
    "# <str>.swapcase()retuns a copy of the string <str> with uppercase characters converted to lower case and viva versa.\n",
    "str = \"Hello World\"\n",
    "print(str.swapcase())\n",
    "print(str.swapcase().swapcase())"
   ]
  },
  {
   "cell_type": "code",
   "execution_count": 53,
   "id": "fd011681-0b85-4b73-b813-bd12a4658196",
   "metadata": {},
   "outputs": [
    {
     "name": "stdout",
     "output_type": "stream",
     "text": [
      "2\n",
      "1\n",
      "0\n"
     ]
    }
   ],
   "source": [
    "# str.count(sub[,start[,end]]) returns the no. of over-overlapping occurrance of substring sub in the range of [start,end]\n",
    "num = \"To Be or Not to Be\"\n",
    "print(num.count(\"Be\"))\n",
    "print(num.count(\"Be\",7))\n",
    "print(num.count(\"Be\",7,11))"
   ]
  },
  {
   "cell_type": "code",
   "execution_count": 54,
   "id": "4570964e-6f56-4539-99fd-99f3ba083b50",
   "metadata": {},
   "outputs": [
    {
     "name": "stdout",
     "output_type": "stream",
     "text": [
      "re\n",
      "Th\n"
     ]
    }
   ],
   "source": [
    "# <str>.lstrip([chars]) returns a copy of the string <str> with leading character removed.\n",
    "# <str>.rstrip([chars]) returns a copy of the string <str> with Trailing character removed.\n",
    "str = \"There\"\n",
    "print(str.lstrip('The'))\n",
    "print(str.rstrip('re'))"
   ]
  },
  {
   "cell_type": "code",
   "execution_count": null,
   "id": "2dedbf99-705f-4d8a-aefd-302103bd9bbc",
   "metadata": {},
   "outputs": [],
   "source": []
  }
 ],
 "metadata": {
  "kernelspec": {
   "display_name": "Python 3 (ipykernel)",
   "language": "python",
   "name": "python3"
  },
  "language_info": {
   "codemirror_mode": {
    "name": "ipython",
    "version": 3
   },
   "file_extension": ".py",
   "mimetype": "text/x-python",
   "name": "python",
   "nbconvert_exporter": "python",
   "pygments_lexer": "ipython3",
   "version": "3.13.5"
  }
 },
 "nbformat": 4,
 "nbformat_minor": 5
}
