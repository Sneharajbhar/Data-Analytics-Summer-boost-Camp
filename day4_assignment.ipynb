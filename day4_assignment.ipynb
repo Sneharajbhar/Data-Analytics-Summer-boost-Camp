{
 "cells": [
  {
   "cell_type": "code",
   "execution_count": 2,
   "id": "55b7ee34-ed48-4a9c-8f76-4b858e03d858",
   "metadata": {},
   "outputs": [
    {
     "name": "stdout",
     "output_type": "stream",
     "text": [
      "Odd\n"
     ]
    }
   ],
   "source": [
    "def evenOdd(num):\n",
    "    if num%2==0:\n",
    "        print(\"Even\")\n",
    "    else:\n",
    "        print(\"Odd\")\n",
    "evenOdd(5)"
   ]
  },
  {
   "cell_type": "code",
   "execution_count": 3,
   "id": "2bb65923-a3c4-4dad-9826-363d8974fb6f",
   "metadata": {},
   "outputs": [
    {
     "data": {
      "text/plain": [
       "49.5"
      ]
     },
     "execution_count": 3,
     "metadata": {},
     "output_type": "execute_result"
    }
   ],
   "source": [
    "def averageOfTwo(a,b):\n",
    "    return (a+b)/2\n",
    "averageOfTwo(21,78)"
   ]
  },
  {
   "cell_type": "code",
   "execution_count": 4,
   "id": "de745812-2a0b-489e-b8cc-ba87098d7630",
   "metadata": {},
   "outputs": [
    {
     "name": "stdout",
     "output_type": "stream",
     "text": [
      "2\n"
     ]
    }
   ],
   "source": [
    "def countVowel(string):\n",
    "    vowel = 0\n",
    "    for i in string:\n",
    "        if i in ['a','i','o','u','e','A','I','U','O','E']:\n",
    "            vowel+=1\n",
    "    print(vowel)\n",
    "countVowel(\"Sneha\")"
   ]
  },
  {
   "cell_type": "code",
   "execution_count": 8,
   "id": "f90167e8-99bf-4826-971d-a835fcfceb32",
   "metadata": {},
   "outputs": [
    {
     "name": "stdin",
     "output_type": "stream",
     "text": [
      "Enter a number: 9\n"
     ]
    },
    {
     "name": "stdout",
     "output_type": "stream",
     "text": [
      "81\n"
     ]
    }
   ],
   "source": [
    "n1 = int(input(\"Enter a number:\"))\n",
    "num = lambda n1:n1**2\n",
    "print(num(n1))"
   ]
  },
  {
   "cell_type": "code",
   "execution_count": null,
   "id": "f214cc6d-65e8-4965-93dd-8a6f90dbf388",
   "metadata": {},
   "outputs": [],
   "source": []
  }
 ],
 "metadata": {
  "kernelspec": {
   "display_name": "Python 3 (ipykernel)",
   "language": "python",
   "name": "python3"
  },
  "language_info": {
   "codemirror_mode": {
    "name": "ipython",
    "version": 3
   },
   "file_extension": ".py",
   "mimetype": "text/x-python",
   "name": "python",
   "nbconvert_exporter": "python",
   "pygments_lexer": "ipython3",
   "version": "3.13.5"
  }
 },
 "nbformat": 4,
 "nbformat_minor": 5
}
