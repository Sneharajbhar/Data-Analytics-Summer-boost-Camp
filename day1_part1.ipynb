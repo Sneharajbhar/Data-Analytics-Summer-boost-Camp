{
 "cells": [
  {
   "cell_type": "code",
   "execution_count": 1,
   "id": "76dd7e13-46c7-478b-b738-6a71f78a591b",
   "metadata": {},
   "outputs": [
    {
     "name": "stdin",
     "output_type": "stream",
     "text": [
      "Enter first value: 12\n",
      "Enter second value: 34\n"
     ]
    },
    {
     "name": "stdout",
     "output_type": "stream",
     "text": [
      "Addition:\n",
      "46\n",
      "Subtrction:\n",
      "-22\n",
      "product:\n",
      "408\n",
      "divide:\n",
      "0.35294117647058826\n",
      "modulus:\n",
      "12\n",
      "Float division:\n",
      "0\n"
     ]
    }
   ],
   "source": [
    "# Topic1: Arithmetic Operators\n",
    "a=int(input(\"Enter first value:\"))\n",
    "b=int(input(\"Enter second value:\"))\n",
    "print(\"Addition:\")\n",
    "print(a+b)\n",
    "print(\"Subtrction:\")\n",
    "print(a-b)\n",
    "print(\"product:\")\n",
    "print(a*b)\n",
    "print(\"divide:\")\n",
    "print(a/b)\n",
    "print(\"modulus:\")\n",
    "print(a%b)\n",
    "print(\"Float division:\")\n",
    "print(a//b)"
   ]
  },
  {
   "cell_type": "code",
   "execution_count": 2,
   "id": "f4611c58-c3d5-4bbc-b7f9-0436fa464417",
   "metadata": {},
   "outputs": [
    {
     "name": "stdin",
     "output_type": "stream",
     "text": [
      "Enter a integer Number: 12\n"
     ]
    },
    {
     "name": "stdout",
     "output_type": "stream",
     "text": [
      "17\n",
      "12\n",
      "60\n",
      "12.0\n",
      "2.0\n",
      "32.0\n"
     ]
    }
   ],
   "source": [
    "# Topic2:  Assignment Operators\n",
    "a = int(input(\"Enter a integer Number:\"))\n",
    "a+=5\n",
    "print(a)\n",
    "a-=5\n",
    "print(a)\n",
    "a*=5\n",
    "print(a)\n",
    "a/=5\n",
    "print(a)\n",
    "a//=5\n",
    "print(a)\n",
    "a**=5\n",
    "print(a)"
   ]
  },
  {
   "cell_type": "code",
   "execution_count": 5,
   "id": "2cdb5a61-7933-40b4-b9df-52fee92697a5",
   "metadata": {},
   "outputs": [
    {
     "name": "stdout",
     "output_type": "stream",
     "text": [
      "AND operator:\n",
      "True\n",
      "OR operator:\n",
      "True\n",
      "NOT operator:\n",
      "False\n"
     ]
    }
   ],
   "source": [
    "# Topic3: logical operators\n",
    "a=10\n",
    "b=20\n",
    "print(\"AND operator:\")\n",
    "print(a>1 and b>5)\n",
    "print(\"OR operator:\")\n",
    "print(a>8 or a==b)\n",
    "print(\"NOT operator:\")\n",
    "print(not(a)) "
   ]
  },
  {
   "cell_type": "code",
   "execution_count": 6,
   "id": "39bacd1f-130b-45d7-b2ab-9c445ad9dde3",
   "metadata": {},
   "outputs": [
    {
     "name": "stdout",
     "output_type": "stream",
     "text": [
      "a is greater:\n",
      "False\n",
      "b is greater:\n",
      "True\n",
      "a and b are equal\n",
      "False\n",
      "a is less than equal to b:\n",
      "True\n",
      "b is less than equal to a:\n",
      "False\n"
     ]
    }
   ],
   "source": [
    "# Topic4: Comparison Operators\n",
    "a=10\n",
    "b=20\n",
    "print(\"a is greater:\")\n",
    "print(a>b)\n",
    "print(\"b is greater:\")\n",
    "print (a<b)\n",
    "print(\"a and b are equal\")\n",
    "print(a==b)\n",
    "print(\"a is less than equal to b:\")\n",
    "print(a<=b)\n",
    "print(\"b is less than equal to a:\")\n",
    "print(a>=b) "
   ]
  },
  {
   "cell_type": "code",
   "execution_count": 7,
   "id": "7a7078e2-36a2-46c7-85c9-173a4c33c007",
   "metadata": {},
   "outputs": [
    {
     "name": "stdout",
     "output_type": "stream",
     "text": [
      "pre increment:\n",
      "15\n",
      "post increment:\n",
      "20\n"
     ]
    }
   ],
   "source": [
    "# Topic5: Preorder , Postorder Incrementation\n",
    "a=10\n",
    "print(\"pre increment:\")\n",
    "a+=5\n",
    "print(a)\n",
    "print(\"post increment:\")\n",
    "a=+20\n",
    "print(a) "
   ]
  },
  {
   "cell_type": "code",
   "execution_count": 8,
   "id": "84ed698a-8601-4c4b-acdb-b4f59ed5b4da",
   "metadata": {},
   "outputs": [
    {
     "name": "stdout",
     "output_type": "stream",
     "text": [
      "True\n",
      "False\n",
      "True\n"
     ]
    }
   ],
   "source": [
    "# Topic6: Membership operator\n",
    "a=\"Sneha\"\n",
    "print(\"S\" in a)\n",
    "print(\"u\" in a)\n",
    "print(\"m\" not in a)"
   ]
  },
  {
   "cell_type": "code",
   "execution_count": 9,
   "id": "e2e5f6f1-8606-409c-86c3-43304490810e",
   "metadata": {},
   "outputs": [
    {
     "name": "stdout",
     "output_type": "stream",
     "text": [
      "Bitwise AND operator\n",
      "True\n",
      "Bitwise OR operator\n",
      "False\n",
      "Bitwise Not operator\n",
      "-11\n"
     ]
    }
   ],
   "source": [
    "# Topic7: bitwise operator\n",
    "a=10\n",
    "b=20\n",
    "print(\"Bitwise AND operator\")\n",
    "result=a<b & b>a\n",
    "print(result)\n",
    "print(\"Bitwise OR operator\")\n",
    "result = a>b | b>a\n",
    "print(result)\n",
    "print(\"Bitwise Not operator\")\n",
    "result=~a\n",
    "print(result)"
   ]
  },
  {
   "cell_type": "code",
   "execution_count": 10,
   "id": "4083e7eb-d21f-4def-aa8c-273cdd5b2b32",
   "metadata": {},
   "outputs": [
    {
     "name": "stdout",
     "output_type": "stream",
     "text": [
      "False\n",
      "True\n"
     ]
    }
   ],
   "source": [
    "# Topic8: Indentify operator\n",
    "a=10\n",
    "b=20\n",
    "print(a is b)\n",
    "print(a is not b)"
   ]
  },
  {
   "cell_type": "code",
   "execution_count": null,
   "id": "04e4850f-7012-4e44-a9b8-4c434f3b1b89",
   "metadata": {},
   "outputs": [],
   "source": []
  }
 ],
 "metadata": {
  "kernelspec": {
   "display_name": "Python 3 (ipykernel)",
   "language": "python",
   "name": "python3"
  },
  "language_info": {
   "codemirror_mode": {
    "name": "ipython",
    "version": 3
   },
   "file_extension": ".py",
   "mimetype": "text/x-python",
   "name": "python",
   "nbconvert_exporter": "python",
   "pygments_lexer": "ipython3",
   "version": "3.13.5"
  }
 },
 "nbformat": 4,
 "nbformat_minor": 5
}
