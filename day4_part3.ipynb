{
 "cells": [
  {
   "cell_type": "code",
   "execution_count": 8,
   "id": "1e7d4e96-8903-4bbd-a469-10a24e2ab9bb",
   "metadata": {},
   "outputs": [
    {
     "name": "stdin",
     "output_type": "stream",
     "text": [
      "Enter the number of terms:  5\n"
     ]
    },
    {
     "name": "stdout",
     "output_type": "stream",
     "text": [
      "Fibonacci series:\n",
      "0 1 1 2 3 "
     ]
    }
   ],
   "source": [
    "n = int(input(\"Enter the number of terms: \"))\n",
    "def Fibonacci(num):\n",
    "    a, b = 0, 1\n",
    "    print(\"Fibonacci series:\")\n",
    "    for i in range(n):\n",
    "        print(a, end=\" \")\n",
    "        a ,b = b,a + b\n",
    "Fibonacci(n)"
   ]
  },
  {
   "cell_type": "code",
   "execution_count": 6,
   "id": "caf97bbb-70dd-4e6e-807c-71df65431a8b",
   "metadata": {},
   "outputs": [
    {
     "name": "stdout",
     "output_type": "stream",
     "text": [
      "Hello user\n"
     ]
    },
    {
     "name": "stdin",
     "output_type": "stream",
     "text": [
      "Enter password sneha036\n"
     ]
    },
    {
     "name": "stdout",
     "output_type": "stream",
     "text": [
      "Wrong password:2 attempts left\n"
     ]
    },
    {
     "name": "stdin",
     "output_type": "stream",
     "text": [
      "Enter password Sneha036\n"
     ]
    },
    {
     "name": "stdout",
     "output_type": "stream",
     "text": [
      "Login\n"
     ]
    }
   ],
   "source": [
    "def login():\n",
    "    password='Sneha036'\n",
    "    attempts=3\n",
    "    print(\"Hello user\")\n",
    "    while attempts>0:\n",
    "        x=input(\"Enter password\")\n",
    "        if x==\"Sneha036\":\n",
    "            print(\"Login\")\n",
    "            break\n",
    "        else:\n",
    "            attempts-=1\n",
    "            print(f\"Wrong password:{attempts} attempts left\")\n",
    "login()"
   ]
  },
  {
   "cell_type": "code",
   "execution_count": null,
   "id": "3e664889-7c73-4fa6-8dbe-b161ddb97d58",
   "metadata": {},
   "outputs": [],
   "source": []
  }
 ],
 "metadata": {
  "kernelspec": {
   "display_name": "Python 3 (ipykernel)",
   "language": "python",
   "name": "python3"
  },
  "language_info": {
   "codemirror_mode": {
    "name": "ipython",
    "version": 3
   },
   "file_extension": ".py",
   "mimetype": "text/x-python",
   "name": "python",
   "nbconvert_exporter": "python",
   "pygments_lexer": "ipython3",
   "version": "3.13.5"
  }
 },
 "nbformat": 4,
 "nbformat_minor": 5
}
