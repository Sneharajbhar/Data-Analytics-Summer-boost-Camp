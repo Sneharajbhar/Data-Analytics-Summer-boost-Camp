{
 "cells": [
  {
   "cell_type": "code",
   "execution_count": 2,
   "id": "f99cb140-898c-4367-82a9-08272c5ef9a8",
   "metadata": {},
   "outputs": [],
   "source": [
    "tryed = 3\n",
    "while (tryed<=1):\n",
    "    password = (input(\"Enter The Passwaord:\"))\n",
    "    if password == \"Sneha036\":\n",
    "        print(\"Login\")\n",
    "        break\n",
    "    else :\n",
    "        tryed-=1\n",
    "        print(\"Wrong Password Try Again You have \",tryed,\"left\")\n",
    "        continue"
   ]
  },
  {
   "cell_type": "code",
   "execution_count": null,
   "id": "1b24d33f-a82e-4633-b41d-14110cc67aaa",
   "metadata": {},
   "outputs": [],
   "source": []
  },
  {
   "cell_type": "code",
   "execution_count": null,
   "id": "e59b188b-0c89-4edd-8a04-bf72b63a9883",
   "metadata": {},
   "outputs": [],
   "source": []
  }
 ],
 "metadata": {
  "kernelspec": {
   "display_name": "Python 3 (ipykernel)",
   "language": "python",
   "name": "python3"
  },
  "language_info": {
   "codemirror_mode": {
    "name": "ipython",
    "version": 3
   },
   "file_extension": ".py",
   "mimetype": "text/x-python",
   "name": "python",
   "nbconvert_exporter": "python",
   "pygments_lexer": "ipython3",
   "version": "3.13.5"
  }
 },
 "nbformat": 4,
 "nbformat_minor": 5
}
