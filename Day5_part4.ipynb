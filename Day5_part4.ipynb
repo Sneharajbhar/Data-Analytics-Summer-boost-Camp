{
 "cells": [
  {
   "cell_type": "code",
   "execution_count": 2,
   "id": "a539c8aa-ac95-45d1-9a86-db61712d0cf8",
   "metadata": {},
   "outputs": [
    {
     "name": "stdout",
     "output_type": "stream",
     "text": [
      "{1, 2, 3, 4, 5}\n"
     ]
    }
   ],
   "source": [
    "# sets\n",
    "# operations\n",
    "# unordered\n",
    "# non indexed\n",
    "# unique elements\n",
    "# mutable\n",
    "\n",
    "s1 = {1,2,3}\n",
    "s2 = {3,4,5}\n",
    "print(s1.union(s2))\n"
   ]
  },
  {
   "cell_type": "code",
   "execution_count": 7,
   "id": "2757b997-5eec-438b-9927-ba6e30242d43",
   "metadata": {},
   "outputs": [
    {
     "name": "stdout",
     "output_type": "stream",
     "text": [
      "{9, 10, 12}\n"
     ]
    }
   ],
   "source": [
    "# sets\n",
    "s3 = set([6,7,8])\n",
    "s4 = set([9,10,12])\n",
    "print(s4)"
   ]
  },
  {
   "cell_type": "code",
   "execution_count": 5,
   "id": "ed4fa817-eab4-4d59-9bf3-96d6b15b59d7",
   "metadata": {},
   "outputs": [
    {
     "name": "stdout",
     "output_type": "stream",
     "text": [
      "{8, 0, 6, 7}\n"
     ]
    }
   ],
   "source": [
    "# add()\n",
    "s1.add(0)\n",
    "print(s1)"
   ]
  },
  {
   "cell_type": "code",
   "execution_count": 16,
   "id": "4bc9f62f-47c7-4e72-92c8-1d50ef0b5712",
   "metadata": {},
   "outputs": [
    {
     "name": "stdout",
     "output_type": "stream",
     "text": [
      "3\n",
      "{4, 5}\n"
     ]
    }
   ],
   "source": [
    "# pop()\n",
    "print(s2.pop())\n",
    "print(s2)"
   ]
  },
  {
   "cell_type": "code",
   "execution_count": 9,
   "id": "6091c2fc-1e24-4366-9034-cca19ce0c438",
   "metadata": {},
   "outputs": [
    {
     "name": "stdout",
     "output_type": "stream",
     "text": [
      "{2, 55}\n"
     ]
    }
   ],
   "source": [
    "# remove()\n",
    "set1 = {2,3,55}\n",
    "set1.remove(3)\n",
    "print(set1)"
   ]
  },
  {
   "cell_type": "code",
   "execution_count": 11,
   "id": "f2117472-a7b6-451a-ae0e-62ca96706630",
   "metadata": {},
   "outputs": [
    {
     "name": "stdout",
     "output_type": "stream",
     "text": [
      "set()\n",
      "<class 'set'>\n"
     ]
    }
   ],
   "source": [
    "# clear()\n",
    "set1 = {2,3,55}\n",
    "set1.clear()\n",
    "print(set1)\n",
    "print(type(set1))"
   ]
  },
  {
   "cell_type": "code",
   "execution_count": 12,
   "id": "f4421f12-d7c2-48a4-bcd9-b3b7a6b204e8",
   "metadata": {},
   "outputs": [
    {
     "name": "stdout",
     "output_type": "stream",
     "text": [
      "{3}\n"
     ]
    }
   ],
   "source": [
    "# intersection()\n",
    "s1 = {1,2,3}\n",
    "s2 = {3,4,5}\n",
    "print(s1.intersection(s2))"
   ]
  },
  {
   "cell_type": "code",
   "execution_count": 15,
   "id": "d5951f2c-5dd8-4480-897e-56ec271fce46",
   "metadata": {},
   "outputs": [
    {
     "name": "stdout",
     "output_type": "stream",
     "text": [
      "{1, 2, 3, 4}\n"
     ]
    }
   ],
   "source": [
    "# update(ele)\n",
    "s1 = {1,2,3}\n",
    "s1.update([4])\n",
    "print(s1)"
   ]
  },
  {
   "cell_type": "code",
   "execution_count": 17,
   "id": "2c7b3819-1458-4857-a47d-5d93d6ca45ea",
   "metadata": {},
   "outputs": [
    {
     "name": "stdout",
     "output_type": "stream",
     "text": [
      "{1, 2, 3}\n"
     ]
    }
   ],
   "source": [
    "# sets difference\n",
    "s1 = {1,2,3,3,4}\n",
    "s2 = {4,5,5,6,6,7}\n",
    "print(s1.difference(s2))"
   ]
  },
  {
   "cell_type": "code",
   "execution_count": 20,
   "id": "b3f46a55-9d0d-49fa-b684-ea0e3b0b3de6",
   "metadata": {},
   "outputs": [
    {
     "name": "stdout",
     "output_type": "stream",
     "text": [
      "False\n"
     ]
    }
   ],
   "source": [
    "# subset\n",
    "s1 = {1,2,3,3,4}\n",
    "s2 = {4,5,5,6,6,7}\n",
    "print(s1.issubset(s2))\n"
   ]
  },
  {
   "cell_type": "code",
   "execution_count": 25,
   "id": "c6504599-d3f1-4b7b-b2e0-1ae22ade8da7",
   "metadata": {},
   "outputs": [
    {
     "data": {
      "text/plain": [
       "False"
      ]
     },
     "execution_count": 25,
     "metadata": {},
     "output_type": "execute_result"
    }
   ],
   "source": [
    "# disjoin\n",
    "s1 = {1,2,3,3,4}\n",
    "s2 = {4,5,5,6,6,7}\n",
    "s1.isdisjoint(s2)"
   ]
  },
  {
   "cell_type": "code",
   "execution_count": 26,
   "id": "1577cf27-5004-4e16-b2c5-65107634094c",
   "metadata": {},
   "outputs": [
    {
     "data": {
      "text/plain": [
       "{1, 2, 3, 5, 6, 7}"
      ]
     },
     "execution_count": 26,
     "metadata": {},
     "output_type": "execute_result"
    }
   ],
   "source": [
    "s2.symmetric_difference(s1)"
   ]
  },
  {
   "cell_type": "code",
   "execution_count": 30,
   "id": "209f0b41-7ab3-472a-919a-015859d67b1f",
   "metadata": {},
   "outputs": [
    {
     "data": {
      "text/plain": [
       "False"
      ]
     },
     "execution_count": 30,
     "metadata": {},
     "output_type": "execute_result"
    }
   ],
   "source": [
    "s2.issuperset(s1)"
   ]
  },
  {
   "cell_type": "code",
   "execution_count": null,
   "id": "4ec17af9-c330-4d73-8cab-6d912d45e38a",
   "metadata": {},
   "outputs": [],
   "source": []
  }
 ],
 "metadata": {
  "kernelspec": {
   "display_name": "Python 3 (ipykernel)",
   "language": "python",
   "name": "python3"
  },
  "language_info": {
   "codemirror_mode": {
    "name": "ipython",
    "version": 3
   },
   "file_extension": ".py",
   "mimetype": "text/x-python",
   "name": "python",
   "nbconvert_exporter": "python",
   "pygments_lexer": "ipython3",
   "version": "3.13.5"
  }
 },
 "nbformat": 4,
 "nbformat_minor": 5
}
