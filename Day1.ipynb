{
 "cells": [
  {
   "cell_type": "code",
   "execution_count": 7,
   "id": "43135d99-8f81-4a55-8dc4-cd0696a64aa0",
   "metadata": {},
   "outputs": [
    {
     "name": "stdout",
     "output_type": "stream",
     "text": [
      "40\n"
     ]
    }
   ],
   "source": [
    "# Que1: Variable Assigement & Sum\n",
    "num1 = 15\n",
    "num2 = 25\n",
    "print(num1+num2)"
   ]
  },
  {
   "cell_type": "code",
   "execution_count": 6,
   "id": "7962eab1-8096-4c53-82c0-3511ba58f026",
   "metadata": {},
   "outputs": [
    {
     "name": "stdout",
     "output_type": "stream",
     "text": [
      "32\n",
      "84\n"
     ]
    }
   ],
   "source": [
    "# Que2: Difference & Product\n",
    "num1 = 50\n",
    "num2 = 18\n",
    "num3 = 12\n",
    "num4 = 7\n",
    "print(num1-num2)\n",
    "print(num3*num4)"
   ]
  },
  {
   "cell_type": "code",
   "execution_count": 8,
   "id": "f3468f82-8344-4793-b3b8-d9d7eb286f3b",
   "metadata": {},
   "outputs": [
    {
     "name": "stdout",
     "output_type": "stream",
     "text": [
      "33.333333333333336\n",
      "1\n"
     ]
    }
   ],
   "source": [
    "# Que3: Division & Modulus\n",
    "num1 = 100\n",
    "num2 = 3\n",
    "print(100/3)\n",
    "print(100%3)"
   ]
  },
  {
   "cell_type": "code",
   "execution_count": 9,
   "id": "57c8befd-ea7b-4512-bf5f-73e20abf215d",
   "metadata": {},
   "outputs": [
    {
     "name": "stdout",
     "output_type": "stream",
     "text": [
      "True\n",
      "True\n",
      "True\n"
     ]
    }
   ],
   "source": [
    "# Que4: Boolean Expressions\n",
    "a = (5+3)>(10-4)\n",
    "b = (20/2) == 10\n",
    "c = (7<5) or (9!=8)\n",
    "print(a)\n",
    "print(b)\n",
    "print(c)"
   ]
  },
  {
   "cell_type": "code",
   "execution_count": 18,
   "id": "b8bf9d74-15f1-4194-82ed-4561d499910b",
   "metadata": {},
   "outputs": [
    {
     "name": "stdout",
     "output_type": "stream",
     "text": [
      "45\n",
      "33.0\n"
     ]
    }
   ],
   "source": [
    "# Que5: Type Conversion\n",
    "num1 = 45.8\n",
    "num2 = 33\n",
    "print(int(num1))\n",
    "print(float(num2))"
   ]
  },
  {
   "cell_type": "code",
   "execution_count": 12,
   "id": "72653604-32f9-4724-97f8-1ce95c30b345",
   "metadata": {},
   "outputs": [
    {
     "name": "stdin",
     "output_type": "stream",
     "text": [
      "Enter the first number: 12\n",
      "Enter the Second number: 34\n",
      "Enter the thrid number: 45\n"
     ]
    },
    {
     "name": "stdout",
     "output_type": "stream",
     "text": [
      "61.0\n"
     ]
    }
   ],
   "source": [
    "# Que6: Average of Three Numbers\n",
    "a = int(input(\"Enter the first number:\"))\n",
    "b = int(input(\"Enter the Second number:\"))\n",
    "c = int(input(\"Enter the thrid number:\"))\n",
    "print(((a+b+c/3)))"
   ]
  },
  {
   "cell_type": "code",
   "execution_count": 13,
   "id": "6ab065a6-89f8-4253-a06f-473505f9ec7b",
   "metadata": {},
   "outputs": [
    {
     "name": "stdout",
     "output_type": "stream",
     "text": [
      "125\n"
     ]
    }
   ],
   "source": [
    "# Que7: Power Calculation\n",
    "print(5**3)"
   ]
  },
  {
   "cell_type": "code",
   "execution_count": 15,
   "id": "91201e2d-b565-452e-938a-0d575d1ab6a0",
   "metadata": {},
   "outputs": [
    {
     "name": "stdin",
     "output_type": "stream",
     "text": [
      "Enter A Temperature in Fahrenheit to convert into celsius: 32\n"
     ]
    },
    {
     "name": "stdout",
     "output_type": "stream",
     "text": [
      "0.0\n"
     ]
    }
   ],
   "source": [
    "# Que8: Temperature Conversion \n",
    "f = float(input(\"Enter A Temperature in Fahrenheit to convert into celsius:\"))\n",
    "celsius = (f-32)*(5/9)\n",
    "print(celsius)"
   ]
  },
  {
   "cell_type": "code",
   "execution_count": 16,
   "id": "854369fc-4954-4886-b93c-c58144fe350e",
   "metadata": {},
   "outputs": [
    {
     "name": "stdout",
     "output_type": "stream",
     "text": [
      "100.0\n"
     ]
    }
   ],
   "source": [
    "# Que9: Simple interest Calculation\n",
    "p = 1000\n",
    "r = 5\n",
    "t = 2\n",
    "si = (p*r*t)/100\n",
    "print(si)"
   ]
  },
  {
   "cell_type": "code",
   "execution_count": 17,
   "id": "b3f22a37-2d96-446c-bc4d-28239b1b6163",
   "metadata": {},
   "outputs": [
    {
     "name": "stdout",
     "output_type": "stream",
     "text": [
      "60.0\n"
     ]
    }
   ],
   "source": [
    "# Que10: Mixed Arithmetic\n",
    "exp = (15+5)*(20-8)/4\n",
    "print(exp)"
   ]
  },
  {
   "cell_type": "code",
   "execution_count": 1,
   "id": "048642bd-7520-419b-87c7-cf00d64bb8a5",
   "metadata": {},
   "outputs": [
    {
     "name": "stdin",
     "output_type": "stream",
     "text": [
      "Enter first value: 23\n",
      "Enter second value: 23\n"
     ]
    },
    {
     "name": "stdout",
     "output_type": "stream",
     "text": [
      "Addition:\n",
      "46\n",
      "Subtrction:\n",
      "0\n",
      "product:\n",
      "529\n",
      "divide:\n",
      "1.0\n",
      "modulus:\n",
      "0\n",
      "Float division:\n",
      "1\n"
     ]
    }
   ],
   "source": [
    "# Topic1: Arithmetic Operators\n",
    "a=int(input(\"Enter first value:\"))\n",
    "b=int(input(\"Enter second value:\"))\n",
    "print(\"Addition:\")\n",
    "print(a+b)\n",
    "print(\"Subtrction:\")\n",
    "print(a-b)\n",
    "print(\"product:\")\n",
    "print(a*b)\n",
    "print(\"divide:\")\n",
    "print(a/b)\n",
    "print(\"modulus:\")\n",
    "print(a%b)\n",
    "print(\"Float division:\")\n",
    "print(a//b)"
   ]
  },
  {
   "cell_type": "code",
   "execution_count": 2,
   "id": "18b72226-bcb3-45b3-b0ab-5f48bbffd47b",
   "metadata": {},
   "outputs": [
    {
     "name": "stdin",
     "output_type": "stream",
     "text": [
      "Enter a integer Number: 23\n"
     ]
    },
    {
     "name": "stdout",
     "output_type": "stream",
     "text": [
      "28\n",
      "23\n",
      "115\n",
      "23.0\n",
      "4.0\n",
      "1024.0\n"
     ]
    }
   ],
   "source": [
    "# Topic2:  Assignment Operators\n",
    "a = int(input(\"Enter a integer Number:\"))\n",
    "a+=5\n",
    "print(a)\n",
    "a-=5\n",
    "print(a)\n",
    "a*=5\n",
    "print(a)\n",
    "a/=5\n",
    "print(a)\n",
    "a//=5\n",
    "print(a)\n",
    "a**=5\n",
    "print(a)"
   ]
  },
  {
   "cell_type": "code",
   "execution_count": 3,
   "id": "617a9436-5e7d-45ba-9451-a3d65760861c",
   "metadata": {},
   "outputs": [
    {
     "name": "stdout",
     "output_type": "stream",
     "text": [
      "AND operator:\n",
      "True\n",
      "OR operator:\n",
      "True\n",
      "NOT operator:\n",
      "False\n"
     ]
    }
   ],
   "source": [
    "# Topic3: logical operators\n",
    "a=10\n",
    "b=20\n",
    "print(\"AND operator:\")\n",
    "print(a>1 and b>5)\n",
    "print(\"OR operator:\")\n",
    "print(a>8 or a==b)\n",
    "print(\"NOT operator:\")\n",
    "print(not(a)) "
   ]
  },
  {
   "cell_type": "code",
   "execution_count": 4,
   "id": "af4c0189-7980-481e-869b-744538810e4c",
   "metadata": {},
   "outputs": [
    {
     "name": "stdout",
     "output_type": "stream",
     "text": [
      "a is greater:\n",
      "False\n",
      "b is greater:\n",
      "True\n",
      "a and b are equal\n",
      "False\n",
      "a is less than equal to b:\n",
      "True\n",
      "b is less than equal to a:\n",
      "False\n"
     ]
    }
   ],
   "source": [
    "# Topic4: Comparison Operators\n",
    "a=10\n",
    "b=20\n",
    "print(\"a is greater:\")\n",
    "print(a>b)\n",
    "print(\"b is greater:\")\n",
    "print (a<b)\n",
    "print(\"a and b are equal\")\n",
    "print(a==b)\n",
    "print(\"a is less than equal to b:\")\n",
    "print(a<=b)\n",
    "print(\"b is less than equal to a:\")\n",
    "print(a>=b) "
   ]
  },
  {
   "cell_type": "code",
   "execution_count": 5,
   "id": "dd58d067-e438-44d9-ab3a-921b2421e8be",
   "metadata": {},
   "outputs": [
    {
     "name": "stdout",
     "output_type": "stream",
     "text": [
      "pre increment:\n",
      "15\n",
      "post increment:\n",
      "20\n"
     ]
    }
   ],
   "source": [
    "# Topic5: Preorder , Postorder Incrementation\n",
    "a=10\n",
    "print(\"pre increment:\")\n",
    "a+=5\n",
    "print(a)\n",
    "print(\"post increment:\")\n",
    "a=+20\n",
    "print(a) "
   ]
  },
  {
   "cell_type": "code",
   "execution_count": 6,
   "id": "2a224386-d802-45bf-9819-7ced11c7fcd1",
   "metadata": {},
   "outputs": [
    {
     "name": "stdout",
     "output_type": "stream",
     "text": [
      "True\n",
      "False\n",
      "True\n"
     ]
    }
   ],
   "source": [
    "# Topic6: Membership operator\n",
    "a=\"Sneha\"\n",
    "print(\"S\" in a)\n",
    "print(\"u\" in a)\n",
    "print(\"m\" not in a)"
   ]
  },
  {
   "cell_type": "code",
   "execution_count": 7,
   "id": "f85effbf-2843-453b-afc7-50ff148be52e",
   "metadata": {},
   "outputs": [
    {
     "name": "stdout",
     "output_type": "stream",
     "text": [
      "Bitwise AND operator\n",
      "True\n",
      "Bitwise OR operator\n",
      "False\n",
      "Bitwise Not operator\n",
      "-11\n"
     ]
    }
   ],
   "source": [
    "# Topic7: bitwise operator\n",
    "a=10\n",
    "b=20\n",
    "print(\"Bitwise AND operator\")\n",
    "result=a<b & b>a\n",
    "print(result)\n",
    "print(\"Bitwise OR operator\")\n",
    "result = a>b | b>a\n",
    "print(result)\n",
    "print(\"Bitwise Not operator\")\n",
    "result=~a\n",
    "print(result)"
   ]
  },
  {
   "cell_type": "code",
   "execution_count": 8,
   "id": "b5668a1c-a5d2-403a-8d7d-768a38e8bc75",
   "metadata": {},
   "outputs": [
    {
     "name": "stdout",
     "output_type": "stream",
     "text": [
      "False\n",
      "True\n"
     ]
    }
   ],
   "source": [
    "# Topic8: Indentify operator\n",
    "a=10\n",
    "b=20\n",
    "print(a is b)\n",
    "print(a is not b)"
   ]
  }
 ],
 "metadata": {
  "kernelspec": {
   "display_name": "Python 3 (ipykernel)",
   "language": "python",
   "name": "python3"
  },
  "language_info": {
   "codemirror_mode": {
    "name": "ipython",
    "version": 3
   },
   "file_extension": ".py",
   "mimetype": "text/x-python",
   "name": "python",
   "nbconvert_exporter": "python",
   "pygments_lexer": "ipython3",
   "version": "3.13.5"
  }
 },
 "nbformat": 4,
 "nbformat_minor": 5
}
