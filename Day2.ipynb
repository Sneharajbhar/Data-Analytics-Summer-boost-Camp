{
 "cells": [
  {
   "cell_type": "code",
   "execution_count": 1,
   "id": "d59078b6-d615-4222-99f1-7306ea547362",
   "metadata": {},
   "outputs": [
    {
     "name": "stdout",
     "output_type": "stream",
     "text": [
      "<class 'float'>\n"
     ]
    }
   ],
   "source": [
    "#Explicit Type conversion\n",
    "x=10\n",
    "y=float(x)\n",
    "print(type(y))"
   ]
  },
  {
   "cell_type": "code",
   "execution_count": 2,
   "id": "77170aea-2879-4c05-b89d-5279e9594bae",
   "metadata": {},
   "outputs": [
    {
     "name": "stdout",
     "output_type": "stream",
     "text": [
      "<class 'float'>\n"
     ]
    }
   ],
   "source": [
    "#Implicit Type Conversion\n",
    "x=10\n",
    "y=10.5\n",
    "print(type(x+y))"
   ]
  },
  {
   "cell_type": "code",
   "execution_count": 3,
   "id": "ff26064a-8f0b-4a6c-a938-d0811b295f09",
   "metadata": {},
   "outputs": [
    {
     "name": "stdin",
     "output_type": "stream",
     "text": [
      "Product name chocolate\n",
      "Quantity 30\n",
      "Price 20\n"
     ]
    },
    {
     "name": "stdout",
     "output_type": "stream",
     "text": [
      "The bill for  chocolate : 600.0\n"
     ]
    }
   ],
   "source": [
    "#Bill Calculator\n",
    "Product=input(\"Product name\")\n",
    "Qty=int(input(\"Quantity\"))\n",
    "Price=float(input(\"Price\"))\n",
    "Bill=Qty*Price\n",
    "print(\"The bill for \" , Product , \":\" ,Bill)"
   ]
  },
  {
   "cell_type": "code",
   "execution_count": 4,
   "id": "409a277b-a283-4271-bb48-446dda2f8e8e",
   "metadata": {},
   "outputs": [
    {
     "name": "stdout",
     "output_type": "stream",
     "text": [
      "false\n"
     ]
    }
   ],
   "source": [
    "# control statements\n",
    "x=0\n",
    "if x:\n",
    "    print('true')\n",
    "else:\n",
    "    print('false')"
   ]
  },
  {
   "cell_type": "code",
   "execution_count": 5,
   "id": "6e5ce6fa-f571-4aaa-85ad-d0d840979a34",
   "metadata": {},
   "outputs": [
    {
     "name": "stdin",
     "output_type": "stream",
     "text": [
      "Age 18\n"
     ]
    },
    {
     "name": "stdout",
     "output_type": "stream",
     "text": [
      "Eligible to vote\n"
     ]
    }
   ],
   "source": [
    "#Q2\n",
    "age=int(input(\"Age\"))\n",
    "if age<18:\n",
    "        print(\"Not eligible\")\n",
    "else:\n",
    "        print(\"Eligible to vote\")\n"
   ]
  },
  {
   "cell_type": "code",
   "execution_count": 6,
   "id": "22d6fc7e-55bf-4783-aedc-f3afa788bd4b",
   "metadata": {},
   "outputs": [
    {
     "name": "stdin",
     "output_type": "stream",
     "text": [
      "Number 34\n"
     ]
    },
    {
     "name": "stdout",
     "output_type": "stream",
     "text": [
      "Even number\n"
     ]
    }
   ],
   "source": [
    "#Q3\n",
    "num=int(input(\"Number\"))\n",
    "check=num%2\n",
    "if check==0:\n",
    "    print(\"Even number\")\n",
    "else:\n",
    "    print(\"Odd number\")"
   ]
  },
  {
   "cell_type": "code",
   "execution_count": 7,
   "id": "d7992a79-4f89-4f4c-9ac4-efca72cfeec6",
   "metadata": {},
   "outputs": [
    {
     "name": "stdin",
     "output_type": "stream",
     "text": [
      "Entert marks 45\n"
     ]
    },
    {
     "name": "stdout",
     "output_type": "stream",
     "text": [
      "Pass\n"
     ]
    }
   ],
   "source": [
    "#Q5\n",
    "marks=int(input(\"Entert marks\"))\n",
    "if marks>=40:\n",
    "    print(\"Pass\")\n",
    "else:\n",
    "    print(\"Fail\")"
   ]
  },
  {
   "cell_type": "code",
   "execution_count": 8,
   "id": "6d423789-d34b-464d-a1c2-1b2c81039e7b",
   "metadata": {},
   "outputs": [
    {
     "name": "stdin",
     "output_type": "stream",
     "text": [
      "Enter name Sanskriti\n"
     ]
    },
    {
     "name": "stdout",
     "output_type": "stream",
     "text": [
      "Length is greater than 5\n"
     ]
    }
   ],
   "source": [
    "#Q4\n",
    "name=input(\"Enter name\")\n",
    "if len(name)>5 :\n",
    "    print(\"Length is greater than 5\")\n",
    "else:\n",
    "    print(\"Length less than 5\")\n",
    "    "
   ]
  },
  {
   "cell_type": "code",
   "execution_count": 9,
   "id": "c89c4344-ad00-40aa-8849-c749fe0359f3",
   "metadata": {},
   "outputs": [
    {
     "name": "stdin",
     "output_type": "stream",
     "text": [
      "Enter number 45\n"
     ]
    },
    {
     "name": "stdout",
     "output_type": "stream",
     "text": [
      "Positive number\n"
     ]
    }
   ],
   "source": [
    "#Q1\n",
    "x=int(input(\"Enter number\"))\n",
    "if x>0:\n",
    "    print(\"Positive number\")\n",
    "else:\n",
    "    print(\"Negative number\")\n"
   ]
  },
  {
   "cell_type": "code",
   "execution_count": 11,
   "id": "43bd21d0-3b0a-4680-95c6-1f120e1d14f0",
   "metadata": {},
   "outputs": [
    {
     "name": "stdin",
     "output_type": "stream",
     "text": [
      "Enter month March\n"
     ]
    },
    {
     "name": "stdout",
     "output_type": "stream",
     "text": [
      "Spring\n"
     ]
    }
   ],
   "source": [
    "#nested elif\n",
    "month=(input(\"Enter month\"))\n",
    "if month=='January' or month=='November' or month=='December':\n",
    "       print(\"Winter\")\n",
    "elif month=='February' or month=='March':\n",
    "       print(\"Spring\")\n",
    "elif month=='April' or month=='May' or month=='June' or month=='July':\n",
    "    print(\"Summer\")\n",
    "elif month=='August' or month=='September':\n",
    "    print(\"Monsoon\")\n",
    "elif month=='October':\n",
    "    print(\"Autumn\")\n",
    "else:\n",
    "    print(\"Invalid month\")"
   ]
  },
  {
   "cell_type": "code",
   "execution_count": 12,
   "id": "f4dd0d8c-6712-4108-bfdc-f1b3592fec0d",
   "metadata": {},
   "outputs": [
    {
     "name": "stdin",
     "output_type": "stream",
     "text": [
      "Enter type of vehicle Car\n"
     ]
    },
    {
     "name": "stdout",
     "output_type": "stream",
     "text": [
      "Expires 10 years after registeration\n"
     ]
    }
   ],
   "source": [
    "#Vehicle Expiry Checking\n",
    "v=input(\"Enter type of vehicle\")\n",
    "if v=='Car':\n",
    "    print(\"Expires 10 years after registeration\")\n",
    "elif v=='Bike':\n",
    "    print(\"Expires 20 years after registeration\")\n",
    "elif v=='Scooty':\n",
    "    print(\"Expires 20 years after registeration\")\n",
    "elif v=='Truck':\n",
    "    print(\"Expires 30 years after registeration\")\n",
    "else:\n",
    "    print(\"Vehicle type not in list\")"
   ]
  },
  {
   "cell_type": "code",
   "execution_count": 13,
   "id": "1be4d1a4-b31d-4de8-95c8-4a94727af1d5",
   "metadata": {},
   "outputs": [
    {
     "name": "stdin",
     "output_type": "stream",
     "text": [
      "Enter number 78\n"
     ]
    },
    {
     "name": "stdout",
     "output_type": "stream",
     "text": [
      "Positive number\n"
     ]
    }
   ],
   "source": [
    "#assignment\n",
    "#positive negative or zero \n",
    "x=int(input(\"Enter number\"))\n",
    "if x>0:\n",
    "    print(\"Positive number\")\n",
    "elif x==0:\n",
    "    print(\"Zero\")\n",
    "else:\n",
    "    print(\"Negative number\")"
   ]
  },
  {
   "cell_type": "code",
   "execution_count": 14,
   "id": "9122cd28-65be-4833-b695-b90f77e23500",
   "metadata": {},
   "outputs": [
    {
     "name": "stdin",
     "output_type": "stream",
     "text": [
      "Age 56\n"
     ]
    },
    {
     "name": "stdout",
     "output_type": "stream",
     "text": [
      "Adult\n"
     ]
    }
   ],
   "source": [
    "#assignment\n",
    "age=int(input(\"Age\"))\n",
    "if age<13:\n",
    "    print(\"Child\")\n",
    "elif age<18:\n",
    "    print(\"Teen\")\n",
    "else:\n",
    "    print(\"Adult\")"
   ]
  },
  {
   "cell_type": "code",
   "execution_count": 15,
   "id": "d8243f9c-612f-4e60-84d1-20bd23a09864",
   "metadata": {},
   "outputs": [
    {
     "name": "stdin",
     "output_type": "stream",
     "text": [
      "Number 67\n"
     ]
    },
    {
     "name": "stdout",
     "output_type": "stream",
     "text": [
      "Odd number\n"
     ]
    }
   ],
   "source": [
    "#assignment\n",
    "num=int(input(\"Number\"))\n",
    "check=num%2\n",
    "if check==0 and num>10:\n",
    "    print(\"It is Even number and greater than 10\")\n",
    "elif check==0:\n",
    "    print(\"It is Even number\")\n",
    "else:\n",
    "    print(\"Odd number\")"
   ]
  },
  {
   "cell_type": "code",
   "execution_count": 16,
   "id": "f73278cb-fc87-402d-b584-946524000963",
   "metadata": {},
   "outputs": [
    {
     "name": "stdin",
     "output_type": "stream",
     "text": [
      "Entert marks 45\n"
     ]
    },
    {
     "name": "stdout",
     "output_type": "stream",
     "text": [
      "Fail\n"
     ]
    }
   ],
   "source": [
    "#assignment\n",
    "marks=int(input(\"Entert marks\"))\n",
    "if marks>90:\n",
    "    print(\"A\")\n",
    "elif marks>75:\n",
    "    print(\"B\")\n",
    "elif marks>60:\n",
    "    print(\"C\")\n",
    "else:\n",
    "    print(\"Fail\")"
   ]
  },
  {
   "cell_type": "code",
   "execution_count": 18,
   "id": "33972df9-fcf5-43de-a5ee-50022c588752",
   "metadata": {},
   "outputs": [
    {
     "name": "stdin",
     "output_type": "stream",
     "text": [
      "Enter number 387\n",
      "Enter number 48\n",
      "Enter number 827\n"
     ]
    },
    {
     "name": "stdout",
     "output_type": "stream",
     "text": [
      "827 (c) is the greatest integer\n"
     ]
    }
   ],
   "source": [
    "#assignment\n",
    "a=int(input(\"Enter number\"))\n",
    "b=int(input(\"Enter number\"))\n",
    "c=int(input(\"Enter number\"))\n",
    "if a>b and a>c:\n",
    "    print(a, \"(a) is the greatest integer\")\n",
    "if b>a and b>c:\n",
    "    print(b, \"(b) is the greatest integer\")\n",
    "if c>a and c>b:\n",
    "    print(c, \"(c) is the greatest integer\")"
   ]
  },
  {
   "cell_type": "code",
   "execution_count": 19,
   "id": "f6c440c8-a970-4acc-b95b-edf1e7a2697e",
   "metadata": {},
   "outputs": [
    {
     "name": "stdout",
     "output_type": "stream",
     "text": [
      "2\n",
      "4\n",
      "6\n",
      "8\n",
      "10\n",
      "12\n",
      "14\n",
      "16\n",
      "18\n",
      "20\n"
     ]
    }
   ],
   "source": [
    "#while loop\n",
    "a=2\n",
    "i=1\n",
    "while i<=10:\n",
    "    print(a*i)\n",
    "    i+=1"
   ]
  }
 ],
 "metadata": {
  "kernelspec": {
   "display_name": "Python 3 (ipykernel)",
   "language": "python",
   "name": "python3"
  },
  "language_info": {
   "codemirror_mode": {
    "name": "ipython",
    "version": 3
   },
   "file_extension": ".py",
   "mimetype": "text/x-python",
   "name": "python",
   "nbconvert_exporter": "python",
   "pygments_lexer": "ipython3",
   "version": "3.13.5"
  }
 },
 "nbformat": 4,
 "nbformat_minor": 5
}
