{
 "cells": [
  {
   "cell_type": "code",
   "execution_count": 1,
   "id": "9b8d8176-f5c2-49df-bbcc-86b353ace5e6",
   "metadata": {},
   "outputs": [
    {
     "name": "stdout",
     "output_type": "stream",
     "text": [
      "Hello world\n"
     ]
    }
   ],
   "source": [
    "# String method\n",
    "# capitalize()\n",
    "str = \"hello world\"\n",
    "print(str.capitalize())\n"
   ]
  },
  {
   "cell_type": "code",
   "execution_count": 3,
   "id": "d441df51-6ca3-4a4c-a915-7ab823af4ec9",
   "metadata": {},
   "outputs": [
    {
     "name": "stdout",
     "output_type": "stream",
     "text": [
      "HELLO WORLD\n"
     ]
    }
   ],
   "source": [
    "# upper case\n",
    "str = \"hello world\"\n",
    "print(str.upper())"
   ]
  },
  {
   "cell_type": "code",
   "execution_count": 4,
   "id": "09d54085-7660-4da3-bbad-fde9c217d6cd",
   "metadata": {},
   "outputs": [
    {
     "name": "stdout",
     "output_type": "stream",
     "text": [
      "hello world\n"
     ]
    }
   ],
   "source": [
    "# lower case\n",
    "str = \"Hello World\"\n",
    "print(str.lower())"
   ]
  },
  {
   "cell_type": "code",
   "execution_count": 5,
   "id": "ccd805d5-e1cb-49b9-a261-8e06f217a9c7",
   "metadata": {},
   "outputs": [
    {
     "name": "stdout",
     "output_type": "stream",
     "text": [
      "Hello World\n"
     ]
    }
   ],
   "source": [
    "# title\n",
    "str = \"hello world\"\n",
    "print(str.title())"
   ]
  },
  {
   "cell_type": "code",
   "execution_count": 8,
   "id": "7bd2909b-2ee1-4182-83dc-ff3d4adb00d8",
   "metadata": {},
   "outputs": [
    {
     "name": "stdout",
     "output_type": "stream",
     "text": [
      "hELLO wORLD\n"
     ]
    }
   ],
   "source": [
    "# swapcase\n",
    "str = \"Hello World\"\n",
    "print(str.swapcase())"
   ]
  },
  {
   "cell_type": "code",
   "execution_count": 10,
   "id": "6bc22f8c-23bc-4d8a-aec2-fd28adaa2595",
   "metadata": {},
   "outputs": [
    {
     "name": "stdout",
     "output_type": "stream",
     "text": [
      "Hello\n",
      "Hello  \n",
      "  Hello\n"
     ]
    }
   ],
   "source": [
    "# strip()\n",
    "# lstrip() left\n",
    "# rstrip() right\n",
    "str = \"  Hello  \"\n",
    "print(str.strip()) # \"hello\"\n",
    "print(str.lstrip()) # \"hello  \"\n",
    "print(str.rstrip()) # \"  hello\""
   ]
  },
  {
   "cell_type": "code",
   "execution_count": 12,
   "id": "defea39e-939d-40df-93c5-748d68f42c2d",
   "metadata": {},
   "outputs": [
    {
     "name": "stdout",
     "output_type": "stream",
     "text": [
      "Pello\n"
     ]
    }
   ],
   "source": [
    "# replace()\n",
    "str = \"Hello\" # Pello\n",
    "# jisko replace karna hai woh first than jisse replace karna.\n",
    "print(str.replace('H','P'))"
   ]
  },
  {
   "cell_type": "code",
   "execution_count": 13,
   "id": "087e501b-a0f8-4663-a70b-b5b85b5202a0",
   "metadata": {},
   "outputs": [
    {
     "name": "stdout",
     "output_type": "stream",
     "text": [
      "6\n"
     ]
    }
   ],
   "source": [
    "# find()\n",
    "str = \"Hello World\"\n",
    "print(str.find(\"World\"))"
   ]
  },
  {
   "cell_type": "code",
   "execution_count": 14,
   "id": "1c2d5f7f-1e19-4107-b55f-58757840ab8f",
   "metadata": {},
   "outputs": [
    {
     "name": "stdout",
     "output_type": "stream",
     "text": [
      "4\n"
     ]
    }
   ],
   "source": [
    "# index\n",
    "str = \"Hello World\"\n",
    "print(str.index(\"o\"))"
   ]
  },
  {
   "cell_type": "code",
   "execution_count": 15,
   "id": "77be439d-9005-46e0-829e-612627c718fd",
   "metadata": {},
   "outputs": [
    {
     "name": "stdout",
     "output_type": "stream",
     "text": [
      "2\n"
     ]
    }
   ],
   "source": [
    "# count()\n",
    "str = \"Hello World\"\n",
    "print(str.count(\"o\"))"
   ]
  },
  {
   "cell_type": "code",
   "execution_count": 17,
   "id": "4f905219-229f-48c4-aeab-f0bce763ae39",
   "metadata": {},
   "outputs": [
    {
     "name": "stdout",
     "output_type": "stream",
     "text": [
      "False\n"
     ]
    }
   ],
   "source": [
    "# isalpha()\n",
    "str = \"Hello World\"\n",
    "print(str.isalpha())"
   ]
  },
  {
   "cell_type": "code",
   "execution_count": 18,
   "id": "36dc1a11-c8cb-4974-84e2-18294090b9fa",
   "metadata": {},
   "outputs": [
    {
     "name": "stdout",
     "output_type": "stream",
     "text": [
      "False\n"
     ]
    }
   ],
   "source": [
    "# isdigit()\n",
    "str = \"Hello World\"\n",
    "print(str.isdigit())"
   ]
  },
  {
   "cell_type": "code",
   "execution_count": 19,
   "id": "6e6df51c-c6dd-40cd-b7b8-c1559a9b2788",
   "metadata": {},
   "outputs": [
    {
     "name": "stdout",
     "output_type": "stream",
     "text": [
      "True\n"
     ]
    }
   ],
   "source": [
    "# isalnum()\n",
    "str = \"hello123\"\n",
    "print(str.isalnum())"
   ]
  },
  {
   "cell_type": "code",
   "execution_count": 40,
   "id": "ecec1312-2a3d-4f68-a557-d3f5a459b8a7",
   "metadata": {},
   "outputs": [
    {
     "name": "stdout",
     "output_type": "stream",
     "text": [
      "My name is Sneha and I'm 19 years old\n"
     ]
    }
   ],
   "source": [
    "# f for formating\n",
    "name = \"Sneha\"\n",
    "age = 19\n",
    "print(\"My name is {} and I'm {} years old\".format(name,age))\n"
   ]
  },
  {
   "cell_type": "code",
   "execution_count": 100,
   "id": "6ca42455-8e3c-4123-8d39-c70ce3c52b5d",
   "metadata": {},
   "outputs": [
    {
     "name": "stdin",
     "output_type": "stream",
     "text": [
      "Enter Amount to deposit: 1000\n",
      "Do You want to withdraw amount if yes enter 'Y' Or no for 'N': Y\n",
      "Enter Amount to withdraw: 500\n"
     ]
    },
    {
     "name": "stdout",
     "output_type": "stream",
     "text": [
      "Your Remaining balance is: 500\n",
      "Successfully withdrawn amount: 500\n"
     ]
    }
   ],
   "source": [
    "# minor project atm\n",
    "def addAmount():\n",
    "        deposit = int(input(\"Enter Amount to deposit:\"))\n",
    "        choice = input(\"Do You want to withdraw amount if yes enter 'Y' Or no for 'N':\")\n",
    "        if(choice=='Y'):\n",
    "            withdrawn = int(input(\"Enter Amount to withdraw:\"))\n",
    "            AIM(deposit,withdrawn)\n",
    "        else:\n",
    "            print(\"exited !!!\") \n",
    "            return;\n",
    "\n",
    "def AIM(deposit,withdrawn) :\n",
    "    if withdrawn >=500:\n",
    "        if withdrawn<=deposit :\n",
    "            amount = deposit - withdrawn\n",
    "            print(\"Your Remaining balance is:\",amount)\n",
    "            print(\"Successfully withdrawn amount:\",withdrawn)\n",
    "        else:\n",
    "            print(\"Insufficient Balance !!!\")\n",
    "    else:\n",
    "        print(\"You withdrawn amount is less than 500 !!!\")\n",
    "\n",
    "addAmount()"
   ]
  },
  {
   "cell_type": "code",
   "execution_count": 27,
   "id": "70bd018e-3f15-437d-bcf5-98a10b7a0d2a",
   "metadata": {},
   "outputs": [
    {
     "name": "stdout",
     "output_type": "stream",
     "text": [
      "dict_keys([1, 2, 3])\n"
     ]
    }
   ],
   "source": [
    "# keys \n",
    "d = {1:\"One\",2:\"Two\",3:\"Three\"}\n",
    "print(d.keys())"
   ]
  },
  {
   "cell_type": "code",
   "execution_count": 28,
   "id": "28e60c83-a484-4cbc-ad6f-ef0a561865a2",
   "metadata": {},
   "outputs": [
    {
     "name": "stdout",
     "output_type": "stream",
     "text": [
      "dict_values(['One', 'Two', 'Three'])\n"
     ]
    }
   ],
   "source": [
    "# values\n",
    "d = {1:\"One\",2:\"Two\",3:\"Three\"}\n",
    "print(d.values())"
   ]
  },
  {
   "cell_type": "code",
   "execution_count": 39,
   "id": "804bd5b6-0991-45ed-b196-3c73af9231aa",
   "metadata": {},
   "outputs": [
    {
     "name": "stdout",
     "output_type": "stream",
     "text": [
      "One\n",
      "{2: 'Two', 3: 'Three'}\n"
     ]
    }
   ],
   "source": [
    "# pop - keys delete \n",
    "d = {1:\"One\",2:\"Two\",3:\"Three\"}\n",
    "print(d.pop(1))\n",
    "print(d)"
   ]
  },
  {
   "cell_type": "code",
   "execution_count": 101,
   "id": "68e5011a-a530-4149-9e35-f31a4843d5d8",
   "metadata": {},
   "outputs": [
    {
     "name": "stdout",
     "output_type": "stream",
     "text": [
      "(3, 'Three')\n"
     ]
    }
   ],
   "source": [
    "# popitem\n",
    "d = {1:\"One\",2:\"Two\",3:\"Three\"}\n",
    "print(d.popitem())"
   ]
  },
  {
   "cell_type": "code",
   "execution_count": 38,
   "id": "59387543-2e44-4cea-9c14-6f38cc4d0ba1",
   "metadata": {},
   "outputs": [
    {
     "name": "stdout",
     "output_type": "stream",
     "text": [
      "<class 'dict'>\n"
     ]
    }
   ],
   "source": [
    "d = {}\n",
    "print(type(d))"
   ]
  },
  {
   "cell_type": "code",
   "execution_count": 41,
   "id": "b5a95050-8033-4fed-b8f9-862612588bcb",
   "metadata": {},
   "outputs": [
    {
     "data": {
      "text/plain": [
       "11"
      ]
     },
     "execution_count": 41,
     "metadata": {},
     "output_type": "execute_result"
    }
   ],
   "source": [
    "len(\"hello world\")"
   ]
  },
  {
   "cell_type": "code",
   "execution_count": 82,
   "id": "b32b712e-4e28-4fa2-a901-d611adc115aa",
   "metadata": {},
   "outputs": [],
   "source": [
    "# Baisc File operations\n",
    "# 1. open file\n",
    "import os\n",
    "File = open(\"Myfile.txt\",\"w\") # r,w,a,+\n",
    "\n",
    "# write\n",
    "File.writelines(\"Hello World\\n\")\n",
    "File.close()\n",
    "\n",
    "\n",
    "\n"
   ]
  },
  {
   "cell_type": "code",
   "execution_count": 58,
   "id": "7cbb786c-4668-4c89-ae88-c17393063c00",
   "metadata": {},
   "outputs": [
    {
     "name": "stdout",
     "output_type": "stream",
     "text": [
      "File does not exist\n"
     ]
    }
   ],
   "source": [
    "import os\n",
    "if os.path.exists(\"Myfile2.txt\"):\n",
    "    os.remove(\"Myfile2.txt\")\n",
    "else :\n",
    "    print(\"File does not exist\")"
   ]
  },
  {
   "cell_type": "code",
   "execution_count": 83,
   "id": "fd781279-5cdb-4503-b46a-259adc5241d2",
   "metadata": {},
   "outputs": [
    {
     "name": "stdout",
     "output_type": "stream",
     "text": [
      "Hello World\n",
      "\n"
     ]
    }
   ],
   "source": [
    "File = open(\"Myfile.txt\",\"r\")\n",
    "# 2. read from file\n",
    "context = File.read() # read ,readline,realines\n",
    "print(context)\n",
    "\n",
    "# 3. close the file\n",
    "File.close()"
   ]
  },
  {
   "cell_type": "code",
   "execution_count": 124,
   "id": "a51ba2f0-c72b-44d3-84f7-f93697f26186",
   "metadata": {},
   "outputs": [
    {
     "name": "stdout",
     "output_type": "stream",
     "text": [
      "Animal makes sound.\n",
      "Dog is barking !!!\n"
     ]
    }
   ],
   "source": [
    "# oops\n",
    "# inheritance\n",
    "class Animal:\n",
    "    def sound(self):\n",
    "        print(\"Animal makes sound.\")\n",
    "class Dog(Animal):\n",
    "  def sound(self):\n",
    "        print(\"Dog is barking !!!\")\n",
    "\n",
    "b = Anime()\n",
    "b.sound()  # Output: Animal makes sound.\n",
    "\n",
    "a = Dog()\n",
    "a.sound()  # Output: Dog is barking !!!\n"
   ]
  },
  {
   "cell_type": "code",
   "execution_count": 116,
   "id": "8a601369-5433-4aea-b384-6ce62830768f",
   "metadata": {},
   "outputs": [
    {
     "name": "stdin",
     "output_type": "stream",
     "text": [
      "Enter Amount to deposit: 60000\n",
      "Do You want to withdraw amount if yes enter 'Y' Or no for 'N': Y\n",
      "Enter Amount to withdraw: 700\n"
     ]
    },
    {
     "name": "stdout",
     "output_type": "stream",
     "text": [
      "Your Remaining balance is: 59300\n",
      "Successfully withdrawn amount: 700\n"
     ]
    }
   ],
   "source": [
    "# minor project atm code with class and object\n",
    "class Bank:\n",
    "    def addAmount(self):\n",
    "        deposit = int(input(\"Enter Amount to deposit:\"))\n",
    "        choice = input(\"Do You want to withdraw amount if yes enter 'Y' Or no for 'N':\")\n",
    "        if(choice=='Y'):\n",
    "            withdrawn = int(input(\"Enter Amount to withdraw:\"))\n",
    "            AIM(deposit,withdrawn)\n",
    "        else:\n",
    "            print(\"exited !!!\")\n",
    "            return;\n",
    "\n",
    "    def AIM(deposit,withdrawn) :\n",
    "        if withdrawn >=500:\n",
    "            if withdrawn<=deposit :\n",
    "                amount = deposit - withdrawn\n",
    "                print(\"Your Remaining balance is:\",amount)\n",
    "                print(\"Successfully withdrawn amount:\",withdrawn)\n",
    "            else:\n",
    "                print(\"Insufficient Balance !!!\")\n",
    "        else:\n",
    "            print(\"You withdrawn amount is less than 500 !!!\")\n",
    "\n",
    "bank = Bank()\n",
    "bank.addAmount()\n"
   ]
  },
  {
   "cell_type": "code",
   "execution_count": null,
   "id": "2f26744c-975b-470b-b45a-5596997e10bf",
   "metadata": {},
   "outputs": [],
   "source": [
    "class Student:\n",
    "    def"
   ]
  }
 ],
 "metadata": {
  "kernelspec": {
   "display_name": "Python 3 (ipykernel)",
   "language": "python",
   "name": "python3"
  },
  "language_info": {
   "codemirror_mode": {
    "name": "ipython",
    "version": 3
   },
   "file_extension": ".py",
   "mimetype": "text/x-python",
   "name": "python",
   "nbconvert_exporter": "python",
   "pygments_lexer": "ipython3",
   "version": "3.13.5"
  }
 },
 "nbformat": 4,
 "nbformat_minor": 5
}
