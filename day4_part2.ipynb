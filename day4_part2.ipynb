{
 "cells": [
  {
   "cell_type": "code",
   "execution_count": 6,
   "id": "ce444788-77ee-4b9f-b1bb-866a89085fee",
   "metadata": {},
   "outputs": [
    {
     "name": "stdout",
     "output_type": "stream",
     "text": [
      "4\n"
     ]
    }
   ],
   "source": [
    "# using return in function \n",
    "def add(a,b):\n",
    "    c = a + b\n",
    "    return c\n",
    "add(2,3)\n",
    "x = add(1,3)\n",
    "print(x) # reusing c by return in print "
   ]
  },
  {
   "cell_type": "code",
   "execution_count": 5,
   "id": "c408d1d2-27d9-4dcb-86ff-93ac2ef5dff5",
   "metadata": {},
   "outputs": [
    {
     "data": {
      "text/plain": [
       "5"
      ]
     },
     "execution_count": 5,
     "metadata": {},
     "output_type": "execute_result"
    }
   ],
   "source": [
    "def add(a,b):\n",
    "    return a + b\n",
    "add(2,3)"
   ]
  },
  {
   "cell_type": "code",
   "execution_count": 3,
   "id": "335024fa-5492-404e-ae82-09ac08c8d28b",
   "metadata": {},
   "outputs": [
    {
     "name": "stdout",
     "output_type": "stream",
     "text": [
      "5\n"
     ]
    }
   ],
   "source": [
    "def add(a,b):\n",
    "    c = a + b\n",
    "    print(c)\n",
    "add(2,3)"
   ]
  },
  {
   "cell_type": "code",
   "execution_count": 10,
   "id": "5b90b9e2-91c4-4e8a-81f2-b629b6a19f0f",
   "metadata": {},
   "outputs": [
    {
     "data": {
      "text/plain": [
       "20"
      ]
     },
     "execution_count": 10,
     "metadata": {},
     "output_type": "execute_result"
    }
   ],
   "source": [
    "# lambda 1 line function \n",
    "sum = lambda n1,n2:n1+n2\n",
    "sum(12,8)"
   ]
  },
  {
   "cell_type": "code",
   "execution_count": 8,
   "id": "8d3f6126-a975-46cc-84d7-474ace7396d5",
   "metadata": {},
   "outputs": [
    {
     "data": {
      "text/plain": [
       "30"
      ]
     },
     "execution_count": 8,
     "metadata": {},
     "output_type": "execute_result"
    }
   ],
   "source": [
    "add(10,20)"
   ]
  },
  {
   "cell_type": "code",
   "execution_count": 50,
   "id": "ace234bb-6bf5-4d2c-a707-4eb8faca0040",
   "metadata": {},
   "outputs": [
    {
     "name": "stdout",
     "output_type": "stream",
     "text": [
      "57\n",
      "5\n"
     ]
    }
   ],
   "source": [
    "def add(a,b):\n",
    "    print(a+b)\n",
    "    def addOne(c,d):\n",
    "        x = c + d\n",
    "        print(x)\n",
    "    addOne(2,3)\n",
    "add(12,45)"
   ]
  },
  {
   "cell_type": "code",
   "execution_count": 35,
   "id": "7239ea33-6989-4c7f-a9b7-eadbfd0e6c66",
   "metadata": {},
   "outputs": [
    {
     "name": "stdout",
     "output_type": "stream",
     "text": [
      "Divide by zero !!!\n",
      "program ended !!!\n"
     ]
    }
   ],
   "source": [
    "try :\n",
    "    a = 10/0\n",
    "    print(a)\n",
    "except:\n",
    "    print(\"Divide by zero !!!\")\n",
    "finally:\n",
    "    print(\"program ended !!!\")"
   ]
  },
  {
   "cell_type": "code",
   "execution_count": 38,
   "id": "c4eddbe8-3ce1-4cd8-89c1-ae17db75360f",
   "metadata": {},
   "outputs": [
    {
     "name": "stdout",
     "output_type": "stream",
     "text": [
      "120\n"
     ]
    }
   ],
   "source": [
    "# Factorial\n",
    "def factorial(num):\n",
    "    fact=1\n",
    "    if num >= 0:\n",
    "        if num==1 or num==0:\n",
    "            return 1\n",
    "        else:\n",
    "            return num*factorial(num-1) \n",
    "    else:\n",
    "        print(\"Invalid Number/can't found the factorial of negative number !!!\")\n",
    "print(factorial(5))"
   ]
  },
  {
   "cell_type": "code",
   "execution_count": 41,
   "id": "e11ce26e-9b02-4ebc-8f31-c01fd0349150",
   "metadata": {},
   "outputs": [
    {
     "name": "stdout",
     "output_type": "stream",
     "text": [
      "dlroW olleH\n"
     ]
    }
   ],
   "source": [
    "def reverse(string):\n",
    "    print(string[::-1])\n",
    "reverse(\"Hello World\")"
   ]
  },
  {
   "cell_type": "code",
   "execution_count": 89,
   "id": "aace07ef-9698-4d45-876a-91b7390da902",
   "metadata": {},
   "outputs": [
    {
     "name": "stdout",
     "output_type": "stream",
     "text": [
      "dlroW olleH"
     ]
    }
   ],
   "source": [
    "def reverse(string):\n",
    "    i = len(string) - 1\n",
    "    while i >= 0:\n",
    "        print(string[i],end=\"\")\n",
    "        i -= 1\n",
    "reverse(\"Hello World\")"
   ]
  },
  {
   "cell_type": "code",
   "execution_count": 74,
   "id": "ab4ac069-8950-4f74-b5ba-7eededf52533",
   "metadata": {},
   "outputs": [
    {
     "name": "stdout",
     "output_type": "stream",
     "text": [
      "palindrome\n"
     ]
    }
   ],
   "source": [
    "string = \"anna\"\n",
    "if string[::-1] == string:\n",
    "    print(\"palindrome\")\n",
    "else :\n",
    "    print(\"not a palindrome\")"
   ]
  },
  {
   "cell_type": "code",
   "execution_count": 100,
   "id": "3102ab84-d8c9-4c66-9044-4a9453ea5e5a",
   "metadata": {},
   "outputs": [
    {
     "name": "stdin",
     "output_type": "stream",
     "text": [
      "Enter a string: abba\n"
     ]
    },
    {
     "name": "stdout",
     "output_type": "stream",
     "text": [
      "palindrome\n"
     ]
    }
   ],
   "source": [
    "string = input(\"Enter a string:\")\n",
    "def palindrome(string):\n",
    "    is_palindrome = True\n",
    "    for i in range(len(string) // 2):\n",
    "        if string[i]!=string[-(i + 1)]:\n",
    "            is_palindrome = False\n",
    "            break\n",
    "\n",
    "    if is_palindrome:\n",
    "        print(\"palindrome\")\n",
    "    else:\n",
    "        print(\"not a palindrome\")\n",
    "palindrome(string)"
   ]
  },
  {
   "cell_type": "code",
   "execution_count": 90,
   "id": "400b8db0-9b59-4ebe-bca7-418695ccda94",
   "metadata": {},
   "outputs": [
    {
     "data": {
      "text/plain": [
       "25"
      ]
     },
     "execution_count": 90,
     "metadata": {},
     "output_type": "execute_result"
    }
   ],
   "source": [
    "def square(num):\n",
    "    return num**2\n",
    "square(5)"
   ]
  },
  {
   "cell_type": "code",
   "execution_count": null,
   "id": "4c133f11-c803-4048-a5e3-de2f8beb5bbd",
   "metadata": {},
   "outputs": [],
   "source": [
    "def sum(*a):\n",
    "    return sum(a)\n",
    "sum(12,122,12)"
   ]
  },
  {
   "cell_type": "code",
   "execution_count": 84,
   "id": "5a5b7727-85b1-4760-b62f-61e25e900bf0",
   "metadata": {},
   "outputs": [
    {
     "name": "stdout",
     "output_type": "stream",
     "text": [
      "Even\n"
     ]
    }
   ],
   "source": [
    "def evenOdd(num):\n",
    "    if num%2==0:\n",
    "        print(\"Even\")\n",
    "evenOdd(4)"
   ]
  },
  {
   "cell_type": "code",
   "execution_count": 87,
   "id": "9dfc0529-d918-4307-a035-f0abec98581b",
   "metadata": {},
   "outputs": [
    {
     "data": {
      "text/plain": [
       "89"
      ]
     },
     "execution_count": 87,
     "metadata": {},
     "output_type": "execute_result"
    }
   ],
   "source": [
    "def listLargest(a):\n",
    "    return max(a)\n",
    "listLargest([2,3,4,5,89])"
   ]
  },
  {
   "cell_type": "code",
   "execution_count": 91,
   "id": "8980abbd-d829-4f5d-a247-9457f6a78ea4",
   "metadata": {},
   "outputs": [
    {
     "name": "stdin",
     "output_type": "stream",
     "text": [
      "Enter the number of terms:  5\n"
     ]
    },
    {
     "name": "stdout",
     "output_type": "stream",
     "text": [
      "Fibonacci series:\n",
      "0 1 1 2 3 "
     ]
    }
   ],
   "source": [
    "n = int(input(\"Enter the number of terms: \"))\n",
    "def Fibonacci(num):\n",
    "    a, b = 0, 1\n",
    "    print(\"Fibonacci series:\")\n",
    "    for i in range(n):\n",
    "        print(a, end=\" \")\n",
    "        a, b = b, a + b\n",
    "Fibonacci(n)"
   ]
  },
  {
   "cell_type": "code",
   "execution_count": 94,
   "id": "2325d625-f8d6-4008-823d-10cd536a51a4",
   "metadata": {},
   "outputs": [
    {
     "name": "stdin",
     "output_type": "stream",
     "text": [
      "Enter a string: sneha\n"
     ]
    },
    {
     "name": "stdout",
     "output_type": "stream",
     "text": [
      "2\n"
     ]
    }
   ],
   "source": [
    "string = input(\"Enter a string:\")\n",
    "def countVowel(string):\n",
    "    vowel = 0\n",
    "    for i in string:\n",
    "        if i in ['a','i','o','u','e','A','I','U','O','E']:\n",
    "            vowel+=1\n",
    "    print(vowel)\n",
    "countVowel(string)"
   ]
  },
  {
   "cell_type": "code",
   "execution_count": null,
   "id": "a99a5ce7-8aec-4c12-b2b3-fe6835a86dec",
   "metadata": {},
   "outputs": [],
   "source": []
  }
 ],
 "metadata": {
  "kernelspec": {
   "display_name": "Python 3 (ipykernel)",
   "language": "python",
   "name": "python3"
  },
  "language_info": {
   "codemirror_mode": {
    "name": "ipython",
    "version": 3
   },
   "file_extension": ".py",
   "mimetype": "text/x-python",
   "name": "python",
   "nbconvert_exporter": "python",
   "pygments_lexer": "ipython3",
   "version": "3.13.5"
  }
 },
 "nbformat": 4,
 "nbformat_minor": 5
}
