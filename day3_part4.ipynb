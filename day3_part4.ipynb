{
 "cells": [
  {
   "cell_type": "code",
   "execution_count": 1,
   "id": "937eb546-3d2d-4b1f-bc48-918fddc9df39",
   "metadata": {},
   "outputs": [
    {
     "name": "stdin",
     "output_type": "stream",
     "text": [
      "Enter a Number: 23\n"
     ]
    },
    {
     "name": "stdout",
     "output_type": "stream",
     "text": [
      "23 X 1 = 23\n",
      "23 X 2 = 46\n",
      "23 X 3 = 69\n",
      "23 X 4 = 92\n",
      "23 X 5 = 115\n",
      "23 X 6 = 138\n",
      "23 X 7 = 161\n",
      "23 X 8 = 184\n",
      "23 X 9 = 207\n",
      "23 X 10 = 230\n"
     ]
    }
   ],
   "source": [
    "# while Loop\n",
    "num = int(input(\"Enter a Number:\"))\n",
    "i = 1\n",
    "while i<=10:\n",
    "    print(f\"{num} X {i} = {num*i}\")\n",
    "    i+=1"
   ]
  },
  {
   "cell_type": "code",
   "execution_count": 12,
   "id": "b55bd1c1-49c7-4a66-aa58-0b978a05a132",
   "metadata": {},
   "outputs": [
    {
     "name": "stdin",
     "output_type": "stream",
     "text": [
      "Enter: s\n"
     ]
    },
    {
     "name": "stdout",
     "output_type": "stream",
     "text": [
      "You typed:s\n"
     ]
    },
    {
     "name": "stdin",
     "output_type": "stream",
     "text": [
      "Enter: q\n"
     ]
    },
    {
     "name": "stdout",
     "output_type": "stream",
     "text": [
      "Break\n"
     ]
    }
   ],
   "source": [
    "# break statement \n",
    "while True:\n",
    "    opt = input(\"Enter:\")\n",
    "    if opt == 'q':\n",
    "        print(\"Break\")\n",
    "        break\n",
    "    else :\n",
    "        print(\"You typed:\"+opt)"
   ]
  },
  {
   "cell_type": "code",
   "execution_count": 25,
   "id": "d3ce0650-d73f-4845-9bbe-2660ad265a9b",
   "metadata": {},
   "outputs": [],
   "source": [
    "# continue statement\n",
    "\n",
    "        \n",
    "        \n",
    "        \n"
   ]
  },
  {
   "cell_type": "code",
   "execution_count": null,
   "id": "071e9071-49fa-44b6-bed3-afb0992fba31",
   "metadata": {},
   "outputs": [],
   "source": []
  }
 ],
 "metadata": {
  "kernelspec": {
   "display_name": "Python 3 (ipykernel)",
   "language": "python",
   "name": "python3"
  },
  "language_info": {
   "codemirror_mode": {
    "name": "ipython",
    "version": 3
   },
   "file_extension": ".py",
   "mimetype": "text/x-python",
   "name": "python",
   "nbconvert_exporter": "python",
   "pygments_lexer": "ipython3",
   "version": "3.13.5"
  }
 },
 "nbformat": 4,
 "nbformat_minor": 5
}
