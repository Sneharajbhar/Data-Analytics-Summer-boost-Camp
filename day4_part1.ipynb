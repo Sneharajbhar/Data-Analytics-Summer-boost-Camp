{
 "cells": [
  {
   "cell_type": "code",
   "execution_count": 26,
   "id": "95c3a533-6ea0-4acb-b1c1-79228e40e03f",
   "metadata": {},
   "outputs": [
    {
     "name": "stdout",
     "output_type": "stream",
     "text": [
      "Invalid Number/can't found the factorial of negative number !!!\n"
     ]
    }
   ],
   "source": [
    "# Factorial\n",
    "def factorial(num):\n",
    "    fact=1\n",
    "    if num >= 0:\n",
    "        if num==1 or num==0:\n",
    "            return 1\n",
    "        else:\n",
    "            for i in range(1,num+1):\n",
    "                fact*=i\n",
    "        print(fact)\n",
    "    else:\n",
    "        print(\"Invalid Number/can't found the factorial of negative number !!!\")\n",
    "factorial(-1)"
   ]
  },
  {
   "cell_type": "code",
   "execution_count": 9,
   "id": "dad80f28-6200-4d72-a84e-cbec90d0c8e7",
   "metadata": {},
   "outputs": [
    {
     "name": "stdout",
     "output_type": "stream",
     "text": [
      "Simple Interest: 8.64\n"
     ]
    }
   ],
   "source": [
    "# simpleInterest \n",
    "def simpleInterest(p,r,t):\n",
    "    print(\"Simple Interest:\",(p*r*t)/100)\n",
    "simpleInterest(12,9,8)"
   ]
  },
  {
   "cell_type": "code",
   "execution_count": 17,
   "id": "701944e4-a6a2-4ece-8389-d75597ce6bb8",
   "metadata": {},
   "outputs": [
    {
     "name": "stdout",
     "output_type": "stream",
     "text": [
      "1275\n"
     ]
    }
   ],
   "source": [
    "# sum of 1 to 50\n",
    "def sumOfNaturalNumber(a,b):\n",
    "    sum = 0\n",
    "    for i in range(a,b+1):\n",
    "       sum+=i // sum=sum+i compound operator \n",
    "    print(sum)\n",
    "sumOfNaturalNumber(1,50)"
   ]
  },
  {
   "cell_type": "code",
   "execution_count": 19,
   "id": "f23b19f4-3fdb-4497-9604-3c4b62ce81a9",
   "metadata": {},
   "outputs": [
    {
     "name": "stdout",
     "output_type": "stream",
     "text": [
      "1275\n"
     ]
    }
   ],
   "source": [
    "# formula of sum\n",
    "def sumOfNaturalNumber(num):\n",
    "    print(num*(num+1)//2)\n",
    "sumOfNaturalNumber(50)"
   ]
  },
  {
   "cell_type": "code",
   "execution_count": 22,
   "id": "4e26c6fe-cf4a-4e01-b705-f47e3252ddb9",
   "metadata": {},
   "outputs": [
    {
     "name": "stdout",
     "output_type": "stream",
     "text": [
      "2 x 1 = 2\n",
      "2 x 2 = 4\n",
      "2 x 3 = 6\n",
      "2 x 4 = 8\n",
      "2 x 5 = 10\n",
      "2 x 6 = 12\n",
      "2 x 7 = 14\n",
      "2 x 8 = 16\n",
      "2 x 9 = 18\n",
      "2 x 10 = 20\n"
     ]
    }
   ],
   "source": [
    "# table of 2\n",
    "def tableOfTwo(num):\n",
    "    for i in range(1,11):\n",
    "        print(f\"{num} x {i} = {num*i}\")\n",
    "tableOfTwo(2)"
   ]
  },
  {
   "cell_type": "code",
   "execution_count": 34,
   "id": "71a09d30-a7e9-4545-828a-92ea0a4890d2",
   "metadata": {},
   "outputs": [
    {
     "name": "stdout",
     "output_type": "stream",
     "text": [
      "625\n"
     ]
    }
   ],
   "source": [
    "# sum of odds\n",
    "def sumOfOddNaturalNumber(num):\n",
    "    sum = 0\n",
    "    for i in range(1,num+1):\n",
    "        if i%2!=0: \n",
    "            sum+=i # sum=sum+i compound operator \n",
    "    print(sum)\n",
    "sumOfOddNaturalNumber(50)"
   ]
  },
  {
   "cell_type": "code",
   "execution_count": 47,
   "id": "016be3ed-7878-4aa3-a560-22d59699ed33",
   "metadata": {},
   "outputs": [
    {
     "data": {
      "text/plain": [
       "18"
      ]
     },
     "execution_count": 47,
     "metadata": {},
     "output_type": "execute_result"
    }
   ],
   "source": [
    "def sum(a=5,b=2): # defaulted parameter # parameter only contains variable\n",
    "    return a+b\n",
    "sum(12,6)"
   ]
  },
  {
   "cell_type": "code",
   "execution_count": 49,
   "id": "f8003541-ec9b-4214-b541-5abf0c4bc1d1",
   "metadata": {},
   "outputs": [
    {
     "data": {
      "text/plain": [
       "101"
      ]
     },
     "execution_count": 49,
     "metadata": {},
     "output_type": "execute_result"
    }
   ],
   "source": [
    "x = 34\n",
    "y = 67\n",
    "sum(x,y) # argument contain both value and varible"
   ]
  },
  {
   "cell_type": "code",
   "execution_count": 45,
   "id": "4e4e6df2-7182-418c-8516-ff3fb014b480",
   "metadata": {},
   "outputs": [
    {
     "data": {
      "text/plain": [
       "32"
      ]
     },
     "execution_count": 45,
     "metadata": {},
     "output_type": "execute_result"
    }
   ],
   "source": [
    "sum(30)"
   ]
  },
  {
   "cell_type": "code",
   "execution_count": 48,
   "id": "692d3bde-b3eb-4473-acd7-42009f577c21",
   "metadata": {},
   "outputs": [
    {
     "data": {
      "text/plain": [
       "7"
      ]
     },
     "execution_count": 48,
     "metadata": {},
     "output_type": "execute_result"
    }
   ],
   "source": [
    "sum()"
   ]
  },
  {
   "cell_type": "code",
   "execution_count": 52,
   "id": "2fb05458-e9bf-46e9-bd67-84fb42793dc1",
   "metadata": {},
   "outputs": [
    {
     "data": {
      "text/plain": [
       "21"
      ]
     },
     "execution_count": 52,
     "metadata": {},
     "output_type": "execute_result"
    }
   ],
   "source": [
    "# keyword argument\n",
    "def show(a,b):\n",
    "    return a+b\n",
    "show(a=45,b=12)\n",
    "show(9,b=12)"
   ]
  },
  {
   "cell_type": "code",
   "execution_count": null,
   "id": "20387798-2a96-434a-af2e-211f76ae05d2",
   "metadata": {},
   "outputs": [],
   "source": [
    "def add(a,b):\n",
    "    c = a + b\n",
    "    return c\n",
    "add(2,3)\n"
   ]
  },
  {
   "cell_type": "code",
   "execution_count": null,
   "id": "0c973fd1-f348-4414-b916-f9a8ddddfb8f",
   "metadata": {},
   "outputs": [],
   "source": []
  }
 ],
 "metadata": {
  "kernelspec": {
   "display_name": "Python 3 (ipykernel)",
   "language": "python",
   "name": "python3"
  },
  "language_info": {
   "codemirror_mode": {
    "name": "ipython",
    "version": 3
   },
   "file_extension": ".py",
   "mimetype": "text/x-python",
   "name": "python",
   "nbconvert_exporter": "python",
   "pygments_lexer": "ipython3",
   "version": "3.13.5"
  }
 },
 "nbformat": 4,
 "nbformat_minor": 5
}
