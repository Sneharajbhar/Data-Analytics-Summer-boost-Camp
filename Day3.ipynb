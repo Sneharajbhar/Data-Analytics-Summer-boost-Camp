{
 "cells": [
  {
   "cell_type": "code",
   "execution_count": 1,
   "id": "5a2876b8-fb07-42f6-a019-f298cc42c892",
   "metadata": {},
   "outputs": [
    {
     "name": "stdin",
     "output_type": "stream",
     "text": [
      "Enter a number 45\n"
     ]
    },
    {
     "name": "stdout",
     "output_type": "stream",
     "text": [
      "45x1=45\n",
      "45x2=90\n",
      "45x3=135\n",
      "45x4=180\n",
      "45x5=225\n",
      "45x6=270\n",
      "45x7=315\n",
      "45x8=360\n",
      "45x9=405\n",
      "45x10=450\n"
     ]
    }
   ],
   "source": [
    "#while loop\n",
    "num=int(input(\"Enter a number\"))\n",
    "i=1\n",
    "while i<=10:\n",
    "    print(f\"{num}x{i}={num*i}\")\n",
    "    i+=1"
   ]
  },
  {
   "cell_type": "code",
   "execution_count": 2,
   "id": "865634c3-4732-48cb-8e96-b02262343a85",
   "metadata": {},
   "outputs": [
    {
     "name": "stdin",
     "output_type": "stream",
     "text": [
      "Enter a letter s\n"
     ]
    },
    {
     "name": "stdout",
     "output_type": "stream",
     "text": [
      "You typed: s\n"
     ]
    },
    {
     "name": "stdin",
     "output_type": "stream",
     "text": [
      "Enter a letter q\n"
     ]
    },
    {
     "name": "stdout",
     "output_type": "stream",
     "text": [
      "Exited loop\n"
     ]
    }
   ],
   "source": [
    "#Exit from while loop\n",
    "while True:\n",
    "    x=input(\"Enter a letter\")\n",
    "    if x=='q':\n",
    "        print(\"Exited loop\") \n",
    "        break\n",
    "    else:\n",
    "        print(\"You typed:\", x)"
   ]
  },
  {
   "cell_type": "code",
   "execution_count": 3,
   "id": "bb479450-730a-4632-bcf8-8e12381944d4",
   "metadata": {},
   "outputs": [
    {
     "name": "stdin",
     "output_type": "stream",
     "text": [
      "Enter password dsf\n"
     ]
    },
    {
     "name": "stdout",
     "output_type": "stream",
     "text": [
      "Wrong password:2 attempts left\n"
     ]
    },
    {
     "name": "stdin",
     "output_type": "stream",
     "text": [
      "Enter password gghk\n"
     ]
    },
    {
     "name": "stdout",
     "output_type": "stream",
     "text": [
      "Wrong password:1 attempts left\n"
     ]
    },
    {
     "name": "stdin",
     "output_type": "stream",
     "text": [
      "Enter password tfyh\n"
     ]
    },
    {
     "name": "stdout",
     "output_type": "stream",
     "text": [
      "Wrong password:0 attempts left\n"
     ]
    }
   ],
   "source": [
    "#Three attempts\n",
    "password='open'\n",
    "attempts=3\n",
    "while attempts>0:\n",
    "    x=input(\"Enter password\")\n",
    "    if x=='open':\n",
    "        print(\"Login\")\n",
    "        break\n",
    "    else:\n",
    "        attempts-=1\n",
    "        print(f\"Wrong password:{attempts} attempts left\")"
   ]
  },
  {
   "cell_type": "code",
   "execution_count": 4,
   "id": "bc18e826-79ae-45d2-8350-2dae5e1aa39b",
   "metadata": {},
   "outputs": [
    {
     "name": "stdout",
     "output_type": "stream",
     "text": [
      "Numbers divisible by 7 between 1 and 100 are:\n",
      "7\n",
      "14\n",
      "21\n",
      "28\n",
      "35\n",
      "42\n",
      "49\n",
      "56\n",
      "63\n",
      "70\n",
      "77\n",
      "84\n",
      "91\n",
      "98\n"
     ]
    }
   ],
   "source": [
    "#Numbers divisible by 7\n",
    "num=1\n",
    "print(\"Numbers divisible by 7 between 1 and 100 are:\")\n",
    "while num<=100:\n",
    "    if num%7==0:\n",
    "        print(num)\n",
    "    num+=1"
   ]
  },
  {
   "cell_type": "code",
   "execution_count": 5,
   "id": "82ae88ff-6f25-4afc-9b47-412449420d4a",
   "metadata": {},
   "outputs": [
    {
     "name": "stdout",
     "output_type": "stream",
     "text": [
      "1\n",
      "2\n",
      "3\n",
      "4\n",
      "5\n"
     ]
    }
   ],
   "source": [
    "#for loop using range\n",
    "for i in range(1,6):\n",
    "    print(i)"
   ]
  },
  {
   "cell_type": "code",
   "execution_count": 6,
   "id": "7289c41b-e128-4a99-834c-f9b78e628777",
   "metadata": {},
   "outputs": [
    {
     "name": "stdin",
     "output_type": "stream",
     "text": [
      "Enter a number 4\n"
     ]
    },
    {
     "name": "stdout",
     "output_type": "stream",
     "text": [
      "4x1=4\n",
      "4x2=8\n",
      "4x3=12\n",
      "4x4=16\n",
      "4x5=20\n",
      "4x6=24\n",
      "4x7=28\n",
      "4x8=32\n",
      "4x9=36\n",
      "4x10=40\n"
     ]
    }
   ],
   "source": [
    "#for loop using range\n",
    "num=int(input(\"Enter a number\"))\n",
    "for i in range(1,11):\n",
    "    print(f\"{num}x{i}={num*i}\")"
   ]
  },
  {
   "cell_type": "code",
   "execution_count": 7,
   "id": "a9fade2e-1f77-405d-84f6-c24f36d99d47",
   "metadata": {},
   "outputs": [
    {
     "name": "stdin",
     "output_type": "stream",
     "text": [
      "Enter password sdf\n"
     ]
    },
    {
     "name": "stdout",
     "output_type": "stream",
     "text": [
      "Wrong password:2 attempts left\n"
     ]
    },
    {
     "name": "stdin",
     "output_type": "stream",
     "text": [
      "Enter password gyj\n"
     ]
    },
    {
     "name": "stdout",
     "output_type": "stream",
     "text": [
      "Wrong password:1 attempts left\n"
     ]
    },
    {
     "name": "stdin",
     "output_type": "stream",
     "text": [
      "Enter password ryt\n"
     ]
    },
    {
     "name": "stdout",
     "output_type": "stream",
     "text": [
      "Wrong password:0 attempts left\n"
     ]
    }
   ],
   "source": [
    "    #Three attempts using for loop\n",
    "    password='open'\n",
    "    attempt=3\n",
    "    for attempts in range(3):\n",
    "        x=input(\"Enter password\")\n",
    "        if x=='open':\n",
    "            print(\"Login\")\n",
    "            break\n",
    "        else:\n",
    "            print(f\"Wrong password:{2-attempts} attempts left\")\n",
    "            attempts-=1\n",
    "        "
   ]
  },
  {
   "cell_type": "code",
   "execution_count": 8,
   "id": "7bba36d0-616d-41be-8ef5-71df39eee8ee",
   "metadata": {},
   "outputs": [
    {
     "name": "stdout",
     "output_type": "stream",
     "text": [
      "1\n",
      "2\n",
      "4\n",
      "5\n"
     ]
    }
   ],
   "source": [
    "#continue statement\n",
    "for i in range(1,6):\n",
    "    if i==3:\n",
    "        continue\n",
    "    print(i)"
   ]
  },
  {
   "cell_type": "code",
   "execution_count": 9,
   "id": "0c4be9c2-ac79-45ff-acc7-e845f7d45d6c",
   "metadata": {},
   "outputs": [
    {
     "name": "stdout",
     "output_type": "stream",
     "text": [
      "1\n",
      "2\n",
      "3\n",
      "4\n",
      "6\n",
      "7\n"
     ]
    }
   ],
   "source": [
    "#continue and break statement\n",
    "for i in range(1,11):\n",
    "    if i==5:\n",
    "        continue\n",
    "    elif i==8:\n",
    "        break\n",
    "    print(i)"
   ]
  },
  {
   "cell_type": "code",
   "execution_count": 10,
   "id": "bdc3aae2-385f-4c48-bbac-05d390e19769",
   "metadata": {},
   "outputs": [
    {
     "name": "stdin",
     "output_type": "stream",
     "text": [
      "Enter password saf\n"
     ]
    },
    {
     "name": "stdout",
     "output_type": "stream",
     "text": [
      "Wrong password:4 attempts left\n"
     ]
    },
    {
     "name": "stdin",
     "output_type": "stream",
     "text": [
      "Enter password fgh\n"
     ]
    },
    {
     "name": "stdout",
     "output_type": "stream",
     "text": [
      "Wrong password:3 attempts left\n"
     ]
    },
    {
     "name": "stdin",
     "output_type": "stream",
     "text": [
      "Enter password fh\n"
     ]
    },
    {
     "name": "stdout",
     "output_type": "stream",
     "text": [
      "Wrong password:2 attempts left\n"
     ]
    },
    {
     "name": "stdin",
     "output_type": "stream",
     "text": [
      "Enter password gvhj\n"
     ]
    },
    {
     "name": "stdout",
     "output_type": "stream",
     "text": [
      "Wrong password:1 attempts left\n"
     ]
    },
    {
     "name": "stdin",
     "output_type": "stream",
     "text": [
      "Enter password df\n"
     ]
    },
    {
     "name": "stdout",
     "output_type": "stream",
     "text": [
      "Wrong password:0 attempts left\n"
     ]
    },
    {
     "name": "stdin",
     "output_type": "stream",
     "text": [
      "Enter password fg\n"
     ]
    },
    {
     "name": "stdout",
     "output_type": "stream",
     "text": [
      "Wrong password:-1 attempts left\n"
     ]
    }
   ],
   "source": [
    "#Five attempts using continue and break\n",
    "password='open'\n",
    "attempt=5\n",
    "for attempts in range(6):\n",
    "    x=input(\"Enter password\")\n",
    "    if x=='open':\n",
    "        print(\"Login\")\n",
    "        break\n",
    "    elif x=='Forgot password':\n",
    "            attempts-=1\n",
    "            continue\n",
    "    else:\n",
    "        print(f\"Wrong password:{4-attempts} attempts left\")\n",
    "        attempts-=1"
   ]
  },
  {
   "cell_type": "code",
   "execution_count": 11,
   "id": "6ceca14b-07e4-4823-85ec-ec7999d20420",
   "metadata": {},
   "outputs": [
    {
     "name": "stdout",
     "output_type": "stream",
     "text": [
      "P\n",
      "y\n",
      "t\n",
      "h\n"
     ]
    }
   ],
   "source": [
    "#continue and break statement\n",
    "lang=\"Python programming\"\n",
    "i=lang[0]\n",
    "for i in range (len(lang)):\n",
    "    if lang[i]=='o':\n",
    "        continue\n",
    "    elif lang[i]=='n':\n",
    "        break\n",
    "    else:\n",
    "        print(lang[i])"
   ]
  },
  {
   "cell_type": "code",
   "execution_count": 12,
   "id": "031698b9-b971-44f4-9b04-e0dc677f40b2",
   "metadata": {},
   "outputs": [
    {
     "name": "stdout",
     "output_type": "stream",
     "text": [
      "Hello\n"
     ]
    }
   ],
   "source": [
    "#User defined function\n",
    "def apple():\n",
    "    print(\"Hello\")\n",
    "apple() #calling teh function"
   ]
  },
  {
   "cell_type": "code",
   "execution_count": 13,
   "id": "4387dccb-561d-4ce9-a199-2903216a0d68",
   "metadata": {},
   "outputs": [
    {
     "name": "stdout",
     "output_type": "stream",
     "text": [
      "The sum of 5,6 is 11\n"
     ]
    }
   ],
   "source": [
    "#Function to add two numbers\n",
    "def mango(a,b):\n",
    "    c=a+b\n",
    "    print(f\"The sum of {a},{b} is {c}\")\n",
    "\n",
    "mango(5,6)"
   ]
  },
  {
   "cell_type": "code",
   "execution_count": 1,
   "id": "cdc44e35-de49-45b6-954e-e908531c2301",
   "metadata": {},
   "outputs": [
    {
     "name": "stdin",
     "output_type": "stream",
     "text": [
      "Enter The Number: 7\n"
     ]
    }
   ],
   "source": [
    "# if elif else questions\n",
    "num = int(input(\"Enter The Number:\"))\n",
    "if num%2==0:\n",
    "    if num>10:\n",
    "        print(\"Number is even and greater than 10\")"
   ]
  },
  {
   "cell_type": "code",
   "execution_count": 2,
   "id": "c4d960ba-7910-48c0-b76c-4f17b61a19b4",
   "metadata": {},
   "outputs": [
    {
     "name": "stdin",
     "output_type": "stream",
     "text": [
      "Enter The Number: 3\n",
      "Enter The Number: 4\n",
      "Enter The Number: 7\n"
     ]
    },
    {
     "name": "stdout",
     "output_type": "stream",
     "text": [
      "C is Greatest\n"
     ]
    }
   ],
   "source": [
    "a = int(input(\"Enter The Number:\"))\n",
    "b = int(input(\"Enter The Number:\"))\n",
    "c = int(input(\"Enter The Number:\"))\n",
    "if a>b:\n",
    "    if a>c:\n",
    "        print(\"A is Greatest\")\n",
    "    else:\n",
    "        print(\"C is Greatest\")\n",
    "if b>a :\n",
    "    if b>c :\n",
    "        print(\"B is Greatest\")\n",
    "    else :\n",
    "        print(\"C is Greatest\")"
   ]
  },
  {
   "cell_type": "code",
   "execution_count": 3,
   "id": "726cbd9c-b607-48f3-88f8-f944355b3126",
   "metadata": {},
   "outputs": [
    {
     "name": "stdin",
     "output_type": "stream",
     "text": [
      "enter your age 19\n"
     ]
    },
    {
     "name": "stdout",
     "output_type": "stream",
     "text": [
      "adult\n"
     ]
    }
   ],
   "source": [
    "age=int(input(\"enter your age\"))\n",
    "if age >=0:\n",
    "    if age<13:\n",
    "        print(\"child\")\n",
    "    elif age<18:\n",
    "        print(\"teen\")\n",
    "    else:\n",
    "        print(\"adult\")\n",
    "else :\n",
    "    print(\"Invalid Age !!!\")"
   ]
  }
 ],
 "metadata": {
  "kernelspec": {
   "display_name": "Python 3 (ipykernel)",
   "language": "python",
   "name": "python3"
  },
  "language_info": {
   "codemirror_mode": {
    "name": "ipython",
    "version": 3
   },
   "file_extension": ".py",
   "mimetype": "text/x-python",
   "name": "python",
   "nbconvert_exporter": "python",
   "pygments_lexer": "ipython3",
   "version": "3.13.5"
  }
 },
 "nbformat": 4,
 "nbformat_minor": 5
}
