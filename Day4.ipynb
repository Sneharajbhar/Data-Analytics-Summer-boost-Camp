{
 "cells": [
  {
   "cell_type": "code",
   "execution_count": 26,
   "id": "95c3a533-6ea0-4acb-b1c1-79228e40e03f",
   "metadata": {},
   "outputs": [
    {
     "name": "stdout",
     "output_type": "stream",
     "text": [
      "Invalid Number/can't found the factorial of negative number !!!\n"
     ]
    }
   ],
   "source": [
    "# Factorial\n",
    "def factorial(num):\n",
    "    fact=1\n",
    "    if num >= 0:\n",
    "        if num==1 or num==0:\n",
    "            return 1\n",
    "        else:\n",
    "            for i in range(1,num+1):\n",
    "                fact*=i\n",
    "        print(fact)\n",
    "    else:\n",
    "        print(\"Invalid Number/can't found the factorial of negative number !!!\")\n",
    "factorial(-1)"
   ]
  },
  {
   "cell_type": "code",
   "execution_count": 9,
   "id": "dad80f28-6200-4d72-a84e-cbec90d0c8e7",
   "metadata": {},
   "outputs": [
    {
     "name": "stdout",
     "output_type": "stream",
     "text": [
      "Simple Interest: 8.64\n"
     ]
    }
   ],
   "source": [
    "# simpleInterest \n",
    "def simpleInterest(p,r,t):\n",
    "    print(\"Simple Interest:\",(p*r*t)/100)\n",
    "simpleInterest(12,9,8)"
   ]
  },
  {
   "cell_type": "code",
   "execution_count": 17,
   "id": "701944e4-a6a2-4ece-8389-d75597ce6bb8",
   "metadata": {},
   "outputs": [
    {
     "name": "stdout",
     "output_type": "stream",
     "text": [
      "1275\n"
     ]
    }
   ],
   "source": [
    "# sum of 1 to 50\n",
    "def sumOfNaturalNumber(a,b):\n",
    "    sum = 0\n",
    "    for i in range(a,b+1):\n",
    "       sum+=i // sum=sum+i compound operator \n",
    "    print(sum)\n",
    "sumOfNaturalNumber(1,50)"
   ]
  },
  {
   "cell_type": "code",
   "execution_count": 19,
   "id": "f23b19f4-3fdb-4497-9604-3c4b62ce81a9",
   "metadata": {},
   "outputs": [
    {
     "name": "stdout",
     "output_type": "stream",
     "text": [
      "1275\n"
     ]
    }
   ],
   "source": [
    "# formula of sum\n",
    "def sumOfNaturalNumber(num):\n",
    "    print(num*(num+1)//2)\n",
    "sumOfNaturalNumber(50)"
   ]
  },
  {
   "cell_type": "code",
   "execution_count": 22,
   "id": "4e26c6fe-cf4a-4e01-b705-f47e3252ddb9",
   "metadata": {},
   "outputs": [
    {
     "name": "stdout",
     "output_type": "stream",
     "text": [
      "2 x 1 = 2\n",
      "2 x 2 = 4\n",
      "2 x 3 = 6\n",
      "2 x 4 = 8\n",
      "2 x 5 = 10\n",
      "2 x 6 = 12\n",
      "2 x 7 = 14\n",
      "2 x 8 = 16\n",
      "2 x 9 = 18\n",
      "2 x 10 = 20\n"
     ]
    }
   ],
   "source": [
    "# table of 2\n",
    "def tableOfTwo(num):\n",
    "    for i in range(1,11):\n",
    "        print(f\"{num} x {i} = {num*i}\")\n",
    "tableOfTwo(2)"
   ]
  },
  {
   "cell_type": "code",
   "execution_count": 34,
   "id": "71a09d30-a7e9-4545-828a-92ea0a4890d2",
   "metadata": {},
   "outputs": [
    {
     "name": "stdout",
     "output_type": "stream",
     "text": [
      "625\n"
     ]
    }
   ],
   "source": [
    "# sum of odds\n",
    "def sumOfOddNaturalNumber(num):\n",
    "    sum = 0\n",
    "    for i in range(1,num+1):\n",
    "        if i%2!=0: \n",
    "            sum+=i # sum=sum+i compound operator \n",
    "    print(sum)\n",
    "sumOfOddNaturalNumber(50)"
   ]
  },
  {
   "cell_type": "code",
   "execution_count": 47,
   "id": "016be3ed-7878-4aa3-a560-22d59699ed33",
   "metadata": {},
   "outputs": [
    {
     "data": {
      "text/plain": [
       "18"
      ]
     },
     "execution_count": 47,
     "metadata": {},
     "output_type": "execute_result"
    }
   ],
   "source": [
    "def sum(a=5,b=2): # defaulted parameter # parameter only contains variable\n",
    "    return a+b\n",
    "sum(12,6)"
   ]
  },
  {
   "cell_type": "code",
   "execution_count": 49,
   "id": "f8003541-ec9b-4214-b541-5abf0c4bc1d1",
   "metadata": {},
   "outputs": [
    {
     "data": {
      "text/plain": [
       "101"
      ]
     },
     "execution_count": 49,
     "metadata": {},
     "output_type": "execute_result"
    }
   ],
   "source": [
    "x = 34\n",
    "y = 67\n",
    "sum(x,y) # argument contain both value and varible"
   ]
  },
  {
   "cell_type": "code",
   "execution_count": 45,
   "id": "4e4e6df2-7182-418c-8516-ff3fb014b480",
   "metadata": {},
   "outputs": [
    {
     "data": {
      "text/plain": [
       "32"
      ]
     },
     "execution_count": 45,
     "metadata": {},
     "output_type": "execute_result"
    }
   ],
   "source": [
    "sum(30)"
   ]
  },
  {
   "cell_type": "code",
   "execution_count": 48,
   "id": "692d3bde-b3eb-4473-acd7-42009f577c21",
   "metadata": {},
   "outputs": [
    {
     "data": {
      "text/plain": [
       "7"
      ]
     },
     "execution_count": 48,
     "metadata": {},
     "output_type": "execute_result"
    }
   ],
   "source": [
    "sum()"
   ]
  },
  {
   "cell_type": "code",
   "execution_count": 52,
   "id": "2fb05458-e9bf-46e9-bd67-84fb42793dc1",
   "metadata": {},
   "outputs": [
    {
     "data": {
      "text/plain": [
       "21"
      ]
     },
     "execution_count": 52,
     "metadata": {},
     "output_type": "execute_result"
    }
   ],
   "source": [
    "# keyword argument\n",
    "def show(a,b):\n",
    "    return a+b\n",
    "show(a=45,b=12)\n",
    "show(9,b=12)"
   ]
  },
  {
   "cell_type": "code",
   "execution_count": null,
   "id": "20387798-2a96-434a-af2e-211f76ae05d2",
   "metadata": {},
   "outputs": [],
   "source": [
    "def add(a,b):\n",
    "    c = a + b\n",
    "    return c\n",
    "add(2,3)\n"
   ]
  },
  {
   "cell_type": "code",
   "execution_count": 1,
   "id": "0c973fd1-f348-4414-b916-f9a8ddddfb8f",
   "metadata": {},
   "outputs": [
    {
     "name": "stdout",
     "output_type": "stream",
     "text": [
      "4\n"
     ]
    }
   ],
   "source": [
    "# using return in function \n",
    "def add(a,b):\n",
    "    c = a + b\n",
    "    return c\n",
    "add(2,3)\n",
    "x = add(1,3)\n",
    "print(x) # reusing c by return in print "
   ]
  },
  {
   "cell_type": "code",
   "execution_count": 2,
   "id": "76285a17-aa76-4011-bea3-efc9f38c0f99",
   "metadata": {},
   "outputs": [
    {
     "data": {
      "text/plain": [
       "5"
      ]
     },
     "execution_count": 2,
     "metadata": {},
     "output_type": "execute_result"
    }
   ],
   "source": [
    "def add(a,b):\n",
    "    return a + b\n",
    "add(2,3)"
   ]
  },
  {
   "cell_type": "code",
   "execution_count": 3,
   "id": "3b04d8d3-a1b5-4dcf-ad58-09f8622f7d5b",
   "metadata": {},
   "outputs": [
    {
     "name": "stdout",
     "output_type": "stream",
     "text": [
      "5\n"
     ]
    }
   ],
   "source": [
    "def add(a,b):\n",
    "    c = a + b\n",
    "    print(c)\n",
    "add(2,3)"
   ]
  },
  {
   "cell_type": "code",
   "execution_count": 4,
   "id": "0d4c55c3-a423-4be9-89ac-a3fd34dc8d62",
   "metadata": {},
   "outputs": [
    {
     "data": {
      "text/plain": [
       "20"
      ]
     },
     "execution_count": 4,
     "metadata": {},
     "output_type": "execute_result"
    }
   ],
   "source": [
    "# lambda 1 line function \n",
    "sum = lambda n1,n2:n1+n2\n",
    "sum(12,8)"
   ]
  },
  {
   "cell_type": "code",
   "execution_count": 5,
   "id": "6f2d5de3-e3b8-42a5-ae5c-bcff9dfcb627",
   "metadata": {},
   "outputs": [
    {
     "name": "stdout",
     "output_type": "stream",
     "text": [
      "30\n"
     ]
    }
   ],
   "source": [
    "add(10,20)"
   ]
  },
  {
   "cell_type": "code",
   "execution_count": 6,
   "id": "30041537-4031-4b37-9bd8-06f528783f08",
   "metadata": {},
   "outputs": [
    {
     "name": "stdout",
     "output_type": "stream",
     "text": [
      "57\n",
      "5\n"
     ]
    }
   ],
   "source": [
    "def add(a,b):\n",
    "    print(a+b)\n",
    "    def addOne(c,d):\n",
    "        x = c + d\n",
    "        print(x)\n",
    "    addOne(2,3)\n",
    "add(12,45)"
   ]
  },
  {
   "cell_type": "code",
   "execution_count": 7,
   "id": "900643ab-72a9-44ee-b412-2caa7acc0c93",
   "metadata": {},
   "outputs": [
    {
     "name": "stdout",
     "output_type": "stream",
     "text": [
      "Divide by zero !!!\n",
      "program ended !!!\n"
     ]
    }
   ],
   "source": [
    "try :\n",
    "    a = 10/0\n",
    "    print(a)\n",
    "except:\n",
    "    print(\"Divide by zero !!!\")\n",
    "finally:\n",
    "    print(\"program ended !!!\")"
   ]
  },
  {
   "cell_type": "code",
   "execution_count": 8,
   "id": "c4b1991b-d2a9-4265-ad74-b38d1687304f",
   "metadata": {},
   "outputs": [
    {
     "name": "stdout",
     "output_type": "stream",
     "text": [
      "120\n"
     ]
    }
   ],
   "source": [
    "# Factorial\n",
    "def factorial(num):\n",
    "    fact=1\n",
    "    if num >= 0:\n",
    "        if num==1 or num==0:\n",
    "            return 1\n",
    "        else:\n",
    "            return num*factorial(num-1) \n",
    "    else:\n",
    "        print(\"Invalid Number/can't found the factorial of negative number !!!\")\n",
    "print(factorial(5))"
   ]
  },
  {
   "cell_type": "code",
   "execution_count": 9,
   "id": "74e55259-ca2d-475b-ac7a-1b1dcba72022",
   "metadata": {},
   "outputs": [
    {
     "name": "stdout",
     "output_type": "stream",
     "text": [
      "dlroW olleH\n"
     ]
    }
   ],
   "source": [
    "def reverse(string):\n",
    "    print(string[::-1])\n",
    "reverse(\"Hello World\")"
   ]
  },
  {
   "cell_type": "code",
   "execution_count": 10,
   "id": "55944124-2cc5-49c8-a207-e0c3bd3f38a9",
   "metadata": {},
   "outputs": [
    {
     "name": "stdout",
     "output_type": "stream",
     "text": [
      "dlroW olleH"
     ]
    }
   ],
   "source": [
    "def reverse(string):\n",
    "    i = len(string) - 1\n",
    "    while i >= 0:\n",
    "        print(string[i],end=\"\")\n",
    "        i -= 1\n",
    "reverse(\"Hello World\")"
   ]
  },
  {
   "cell_type": "code",
   "execution_count": 11,
   "id": "3ec2c275-09db-4bce-88ea-763c4c7a9d6a",
   "metadata": {},
   "outputs": [
    {
     "name": "stdout",
     "output_type": "stream",
     "text": [
      "palindrome\n"
     ]
    }
   ],
   "source": [
    "string = \"anna\"\n",
    "if string[::-1] == string:\n",
    "    print(\"palindrome\")\n",
    "else :\n",
    "    print(\"not a palindrome\")"
   ]
  },
  {
   "cell_type": "code",
   "execution_count": 12,
   "id": "14146e9e-f954-4b62-9a3f-c9e1be6a899e",
   "metadata": {},
   "outputs": [
    {
     "name": "stdin",
     "output_type": "stream",
     "text": [
      "Enter a string: sneha\n"
     ]
    },
    {
     "name": "stdout",
     "output_type": "stream",
     "text": [
      "not a palindrome\n"
     ]
    }
   ],
   "source": [
    "string = input(\"Enter a string:\")\n",
    "def palindrome(string):\n",
    "    is_palindrome = True\n",
    "    for i in range(len(string) // 2):\n",
    "        if string[i]!=string[-(i + 1)]:\n",
    "            is_palindrome = False\n",
    "            break\n",
    "\n",
    "    if is_palindrome:\n",
    "        print(\"palindrome\")\n",
    "    else:\n",
    "        print(\"not a palindrome\")\n",
    "palindrome(string)"
   ]
  },
  {
   "cell_type": "code",
   "execution_count": 13,
   "id": "cf09ea7d-72e4-4281-b646-449d2a33e305",
   "metadata": {},
   "outputs": [
    {
     "data": {
      "text/plain": [
       "25"
      ]
     },
     "execution_count": 13,
     "metadata": {},
     "output_type": "execute_result"
    }
   ],
   "source": [
    "def square(num):\n",
    "    return num**2\n",
    "square(5)"
   ]
  },
  {
   "cell_type": "code",
   "execution_count": 1,
   "id": "0381980a-272c-4503-9e8d-d510b17128aa",
   "metadata": {},
   "outputs": [
    {
     "name": "stdout",
     "output_type": "stream",
     "text": [
      "4\n"
     ]
    }
   ],
   "source": [
    "# using return in function \n",
    "def add(a,b):\n",
    "    c = a + b\n",
    "    return c\n",
    "add(2,3)\n",
    "x = add(1,3)\n",
    "print(x) # reusing c by return in print "
   ]
  },
  {
   "cell_type": "code",
   "execution_count": 2,
   "id": "26a7c5ae-50a3-47fa-b439-58cab3854997",
   "metadata": {},
   "outputs": [
    {
     "data": {
      "text/plain": [
       "5"
      ]
     },
     "execution_count": 2,
     "metadata": {},
     "output_type": "execute_result"
    }
   ],
   "source": [
    "def add(a,b):\n",
    "    return a + b\n",
    "add(2,3)"
   ]
  },
  {
   "cell_type": "code",
   "execution_count": 3,
   "id": "98c94477-7aa4-4c2e-b698-6a06c1882154",
   "metadata": {},
   "outputs": [
    {
     "name": "stdout",
     "output_type": "stream",
     "text": [
      "5\n"
     ]
    }
   ],
   "source": [
    "def add(a,b):\n",
    "    c = a + b\n",
    "    print(c)\n",
    "add(2,3)"
   ]
  },
  {
   "cell_type": "code",
   "execution_count": 4,
   "id": "bc89e357-c416-4645-8810-65549ee7a8b6",
   "metadata": {},
   "outputs": [
    {
     "data": {
      "text/plain": [
       "20"
      ]
     },
     "execution_count": 4,
     "metadata": {},
     "output_type": "execute_result"
    }
   ],
   "source": [
    "# lambda 1 line function \n",
    "sum = lambda n1,n2:n1+n2\n",
    "sum(12,8)"
   ]
  },
  {
   "cell_type": "code",
   "execution_count": 5,
   "id": "65da620c-d1b6-4757-bc1e-aa6cef6e1af2",
   "metadata": {},
   "outputs": [
    {
     "name": "stdout",
     "output_type": "stream",
     "text": [
      "30\n"
     ]
    }
   ],
   "source": [
    "add(10,20)"
   ]
  },
  {
   "cell_type": "code",
   "execution_count": 6,
   "id": "804beaba-be9b-4573-89c2-95d1f216ed0e",
   "metadata": {},
   "outputs": [
    {
     "name": "stdout",
     "output_type": "stream",
     "text": [
      "57\n",
      "5\n"
     ]
    }
   ],
   "source": [
    "def add(a,b):\n",
    "    print(a+b)\n",
    "    def addOne(c,d):\n",
    "        x = c + d\n",
    "        print(x)\n",
    "    addOne(2,3)\n",
    "add(12,45)"
   ]
  },
  {
   "cell_type": "code",
   "execution_count": 7,
   "id": "e314a81f-255b-4908-83d2-67c21882cdf4",
   "metadata": {},
   "outputs": [
    {
     "name": "stdout",
     "output_type": "stream",
     "text": [
      "Divide by zero !!!\n",
      "program ended !!!\n"
     ]
    }
   ],
   "source": [
    "try :\n",
    "    a = 10/0\n",
    "    print(a)\n",
    "except:\n",
    "    print(\"Divide by zero !!!\")\n",
    "finally:\n",
    "    print(\"program ended !!!\")"
   ]
  },
  {
   "cell_type": "code",
   "execution_count": 1,
   "id": "da0a8ed6-5b03-4557-9a0d-7a1f8a4732b4",
   "metadata": {},
   "outputs": [
    {
     "name": "stdin",
     "output_type": "stream",
     "text": [
      "Enter the number of terms:  5\n"
     ]
    },
    {
     "name": "stdout",
     "output_type": "stream",
     "text": [
      "Fibonacci series:\n",
      "0 1 1 2 3 "
     ]
    }
   ],
   "source": [
    "n = int(input(\"Enter the number of terms: \"))\n",
    "def Fibonacci(num):\n",
    "    a, b = 0, 1\n",
    "    print(\"Fibonacci series:\")\n",
    "    for i in range(n):\n",
    "        print(a, end=\" \")\n",
    "        a, b = b, a + b\n",
    "Fibonacci(n)"
   ]
  },
  {
   "cell_type": "code",
   "execution_count": 2,
   "id": "76477c60-edea-48f2-b22e-9fa50017871f",
   "metadata": {},
   "outputs": [
    {
     "name": "stdin",
     "output_type": "stream",
     "text": [
      "Enter a string: Sneha\n"
     ]
    },
    {
     "name": "stdout",
     "output_type": "stream",
     "text": [
      "2\n"
     ]
    }
   ],
   "source": [
    "string = input(\"Enter a string:\")\n",
    "def countVowel(string):\n",
    "    vowel = 0\n",
    "    for i in string:\n",
    "        if i in ['a','i','o','u','e','A','I','U','O','E']:\n",
    "            vowel+=1\n",
    "    print(vowel)\n",
    "countVowel(string)"
   ]
  },
  {
   "cell_type": "code",
   "execution_count": 3,
   "id": "760d5539-4c49-4bd9-8b7c-d9c26a8955c1",
   "metadata": {},
   "outputs": [
    {
     "name": "stdin",
     "output_type": "stream",
     "text": [
      "Enter a number: 3\n"
     ]
    },
    {
     "name": "stdout",
     "output_type": "stream",
     "text": [
      "9\n"
     ]
    }
   ],
   "source": [
    "n1 = int(input(\"Enter a number:\"))\n",
    "num = lambda n1:n1**2\n",
    "print(num(n1))"
   ]
  },
  {
   "cell_type": "code",
   "execution_count": 5,
   "id": "e24c3d08-7543-4332-86e1-f4f114696c12",
   "metadata": {},
   "outputs": [
    {
     "data": {
      "text/plain": [
       "49.5"
      ]
     },
     "execution_count": 5,
     "metadata": {},
     "output_type": "execute_result"
    }
   ],
   "source": [
    "def averageOfTwo(a,b):\n",
    "    return (a+b)/2\n",
    "averageOfTwo(21,78)"
   ]
  },
  {
   "cell_type": "code",
   "execution_count": 4,
   "id": "0e110cdd-257b-41c7-ad46-187947745839",
   "metadata": {},
   "outputs": [
    {
     "name": "stdout",
     "output_type": "stream",
     "text": [
      "625\n"
     ]
    }
   ],
   "source": [
    "def sumOfNaturalNumber(num):\n",
    "    sum2 = 0\n",
    "    for i in range(1,num+1):\n",
    "        if i%2!=0: \n",
    "           sum2+=i # sum=sum+i compound operator \n",
    "    print(sum2)\n",
    "sumOfNaturalNumber(50)"
   ]
  }
 ],
 "metadata": {
  "kernelspec": {
   "display_name": "Python 3 (ipykernel)",
   "language": "python",
   "name": "python3"
  },
  "language_info": {
   "codemirror_mode": {
    "name": "ipython",
    "version": 3
   },
   "file_extension": ".py",
   "mimetype": "text/x-python",
   "name": "python",
   "nbconvert_exporter": "python",
   "pygments_lexer": "ipython3",
   "version": "3.13.5"
  }
 },
 "nbformat": 4,
 "nbformat_minor": 5
}
