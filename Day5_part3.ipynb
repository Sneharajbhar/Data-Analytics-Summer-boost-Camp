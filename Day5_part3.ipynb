{
 "cells": [
  {
   "cell_type": "code",
   "execution_count": null,
   "id": "d0418855-359e-4587-aa39-b722babbab75",
   "metadata": {},
   "outputs": [],
   "source": [
    "# 11. Write a program to take a list of 10 integers as input and print the second largest number using list methods.\n",
    "a = []\n",
    "for i in range(1,11):\n",
    "    b = int(input(\"Enter a element:\"))\n",
    "    a.append(b)\n",
    "print(a)\n",
    "a.sort() \n",
    "print(\"Second largest number is:\", a[-2])\n"
   ]
  },
  {
   "cell_type": "code",
   "execution_count": 21,
   "id": "e58217ec-8615-458b-a6d4-45c5f94c8a9f",
   "metadata": {},
   "outputs": [
    {
     "name": "stdout",
     "output_type": "stream",
     "text": [
      "[1, 3, 5]\n"
     ]
    }
   ],
   "source": [
    "# 12. Write a program to remove all even numbers from a list of integers and print the updated list.\n",
    "list = [1,2,3,4,5]\n",
    "for i in list:\n",
    "    if i%2==0:\n",
    "        list.remove(i)\n",
    "print(list)\n"
   ]
  },
  {
   "cell_type": "code",
   "execution_count": 23,
   "id": "dff6e781-0db6-44d1-b987-974978b8d847",
   "metadata": {},
   "outputs": [
    {
     "name": "stdin",
     "output_type": "stream",
     "text": [
      "Enter a string Sneha\n",
      "Enter a string Rajbhar\n"
     ]
    },
    {
     "name": "stdout",
     "output_type": "stream",
     "text": [
      "['Rajbhar']\n"
     ]
    }
   ],
   "source": [
    "# 13. Create a list of student names. Ask the user to enter a name, and remove that name from the list if it exists.\n",
    "a = []\n",
    "for i in range(1,3):\n",
    "    b = input(\"Enter a string\")\n",
    "    a.append(b)\n",
    "for i in a:\n",
    "    if i == \"Sneha\":\n",
    "        a.remove(i)\n",
    "print(a)"
   ]
  },
  {
   "cell_type": "code",
   "execution_count": null,
   "id": "b4b2f1f9-292e-4eae-8859-4d400308dc4e",
   "metadata": {},
   "outputs": [],
   "source": [
    "# 14. Create a list of numbers. Ask the user to enter a number. If it exists, print its index and remove it from the list.\n",
    "a = [1,2,3,4]\n",
    "num = int(input(\"Enter a number:\"))\n",
    "for i in a:\n",
    "    if i == num:\n",
    "        print(a.index(i))\n",
    "        a.remove(i)\n",
    "print(a)"
   ]
  },
  {
   "cell_type": "code",
   "execution_count": 26,
   "id": "7dad4480-e534-4702-b6d0-fe3bf4302ec7",
   "metadata": {},
   "outputs": [
    {
     "name": "stdin",
     "output_type": "stream",
     "text": [
      "Enter a string a\n",
      "Enter a string k\n",
      "Enter a string l\n",
      "Enter a string w\n",
      "Enter a string e\n"
     ]
    },
    {
     "name": "stdout",
     "output_type": "stream",
     "text": [
      "['a', 'e', 'k', 'l', 'w']\n"
     ]
    }
   ],
   "source": [
    "# 15. Create a list of 5 strings. Sort the list in alphabetical order using the sort() method.\n",
    "a = []\n",
    "for i in range(1,6):\n",
    "    b = input(\"Enter a string\")\n",
    "    a.append(b)\n",
    "a.sort()\n",
    "print(a)"
   ]
  },
  {
   "cell_type": "code",
   "execution_count": null,
   "id": "0beb8154-9f0b-4f17-93a6-7844c57822d6",
   "metadata": {},
   "outputs": [],
   "source": [
    "# 16. Write a program that counts how many times the word \"python\" appears in a list of words.\n",
    "a = []\n",
    "for i in range(1,6):\n",
    "    b = input(\"Enter a string\")\n",
    "    a.append(b)\n",
    "if \"python\" in a:\n",
    "    print(a.count(\"python\"))\n"
   ]
  },
  {
   "cell_type": "code",
   "execution_count": 50,
   "id": "171fa790-69f1-4236-93e3-2fba365fa6d8",
   "metadata": {},
   "outputs": [
    {
     "name": "stdout",
     "output_type": "stream",
     "text": [
      "[1, 2, 3]\n",
      "original list:  [1, 2, 3]\n",
      "copied list:  [1, 2, 3, 4]\n"
     ]
    }
   ],
   "source": [
    "# 17. Make a copy of a list using the copy() method. Then modify the copied list and show that the original list is unchanged.\n",
    "list5 =  [1, 2, 3]\n",
    "list6 = list5.copy()\n",
    "print(list6)\n",
    "list6.append(4)\n",
    "print(\"original list: \",list5)\n",
    "print(\"copied list: \",list6)"
   ]
  },
  {
   "cell_type": "code",
   "execution_count": 1,
   "id": "0af99ad2-51dd-424b-b7f1-a2386f90af8a",
   "metadata": {},
   "outputs": [
    {
     "name": "stdout",
     "output_type": "stream",
     "text": [
      "[1, 2, 3, 4, 4, 5, 6, 7]\n"
     ]
    }
   ],
   "source": [
    "# 18. Take a list of 7 numbers. Insert a number at the middle index using the insert() method.\n",
    "list1 = [1,2,3,4,5,6,7]\n",
    "list1.insert(len(list1)//2,4)\n",
    "print(list1)"
   ]
  },
  {
   "cell_type": "code",
   "execution_count": 5,
   "id": "2937c7e8-3f31-4f66-8fd6-e780246835b0",
   "metadata": {},
   "outputs": [
    {
     "name": "stdout",
     "output_type": "stream",
     "text": [
      "5\n",
      "4\n",
      "3\n",
      "2\n",
      "1\n",
      "[]\n"
     ]
    }
   ],
   "source": [
    "# 19. Create a list and use pop() to remove elements one by one until the list becomes empty. Print each popped element.\n",
    "list_2 =[1,2,3,4,5]\n",
    "while(list_2):\n",
    "    print(list_2.pop())\n",
    "print(list_2)\n",
    "\n"
   ]
  },
  {
   "cell_type": "code",
   "execution_count": 6,
   "id": "720cc9bc-95a8-4abe-b63f-1df78f88db3d",
   "metadata": {},
   "outputs": [
    {
     "name": "stdout",
     "output_type": "stream",
     "text": [
      "1\n",
      "2\n",
      "3\n"
     ]
    }
   ],
   "source": [
    "# 20. Create a list of numbers and display only the unique elements using count() method logic (no set used).\n",
    "list_first = [1,2,3,4,4,5,5,5]\n",
    "for i in list_first:\n",
    "    if list_first.count(i)==1:\n",
    "        print(i)"
   ]
  },
  {
   "cell_type": "code",
   "execution_count": null,
   "id": "415dd1e4-3395-43e4-b18f-df9156b9f5db",
   "metadata": {},
   "outputs": [],
   "source": []
  }
 ],
 "metadata": {
  "kernelspec": {
   "display_name": "Python 3 (ipykernel)",
   "language": "python",
   "name": "python3"
  },
  "language_info": {
   "codemirror_mode": {
    "name": "ipython",
    "version": 3
   },
   "file_extension": ".py",
   "mimetype": "text/x-python",
   "name": "python",
   "nbconvert_exporter": "python",
   "pygments_lexer": "ipython3",
   "version": "3.13.5"
  }
 },
 "nbformat": 4,
 "nbformat_minor": 5
}
