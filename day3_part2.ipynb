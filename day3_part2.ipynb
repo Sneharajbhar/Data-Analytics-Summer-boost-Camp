{
 "cells": [
  {
   "cell_type": "code",
   "execution_count": 2,
   "id": "f3185b76-1d72-444a-aa75-cbe517e21117",
   "metadata": {},
   "outputs": [
    {
     "name": "stdin",
     "output_type": "stream",
     "text": [
      "Enter The Number: 7\n"
     ]
    }
   ],
   "source": [
    "# if elif else questions\n",
    "num = int(input(\"Enter The Number:\"))\n",
    "if num%2==0:\n",
    "    if num>10:\n",
    "        print(\"Number is even and greater than 10\")"
   ]
  },
  {
   "cell_type": "code",
   "execution_count": 7,
   "id": "31d28070-cc8d-433b-84c7-a22c949d04ba",
   "metadata": {},
   "outputs": [
    {
     "name": "stdin",
     "output_type": "stream",
     "text": [
      "Enter The Number: 12\n",
      "Enter The Number: 67\n",
      "Enter The Number: 0\n"
     ]
    },
    {
     "name": "stdout",
     "output_type": "stream",
     "text": [
      "B is Greatest\n"
     ]
    }
   ],
   "source": [
    "a = int(input(\"Enter The Number:\"))\n",
    "b = int(input(\"Enter The Number:\"))\n",
    "c = int(input(\"Enter The Number:\"))\n",
    "if a>b:\n",
    "    if a>c:\n",
    "        print(\"A is Greatest\")\n",
    "    else:\n",
    "        print(\"C is Greatest\")\n",
    "if b>a :\n",
    "    if b>c :\n",
    "        print(\"B is Greatest\")\n",
    "    else :\n",
    "        print(\"C is Greatest\")"
   ]
  },
  {
   "cell_type": "code",
   "execution_count": 12,
   "id": "d0d56324-3c88-4889-9b86-c3c6470fddec",
   "metadata": {},
   "outputs": [
    {
     "name": "stdin",
     "output_type": "stream",
     "text": [
      "enter your age 12\n"
     ]
    },
    {
     "name": "stdout",
     "output_type": "stream",
     "text": [
      "child\n"
     ]
    }
   ],
   "source": [
    "age=int(input(\"enter your age\"))\n",
    "if age >=0:\n",
    "    if age<13:\n",
    "        print(\"child\")\n",
    "    elif age<18:\n",
    "        print(\"teen\")\n",
    "    else:\n",
    "        print(\"adult\")\n",
    "else :\n",
    "    print(\"Invalid Age !!!\")"
   ]
  },
  {
   "cell_type": "code",
   "execution_count": 20,
   "id": "e991be43-c23b-4b1a-84d5-6a5452accf58",
   "metadata": {},
   "outputs": [
    {
     "name": "stdin",
     "output_type": "stream",
     "text": [
      "Enter a number: 2\n"
     ]
    },
    {
     "name": "stdout",
     "output_type": "stream",
     "text": [
      "2  X  1  =  2\n",
      "2  X  2  =  4\n",
      "2  X  3  =  6\n",
      "2  X  4  =  8\n",
      "2  X  5  =  10\n",
      "2  X  6  =  12\n",
      "2  X  7  =  14\n",
      "2  X  8  =  16\n",
      "2  X  9  =  18\n",
      "2  X  10  =  20\n"
     ]
    }
   ],
   "source": [
    "# looping Statment \n",
    "# while\n",
    "# for \n",
    "num = int(input(\"Enter a number:\"))\n",
    "i = 1\n",
    "while(i<=10) :\n",
    "    print(num,\" X \",i,\" = \",num*i)\n",
    "    i+=1\n",
    "\n",
    "# homework"
   ]
  },
  {
   "cell_type": "code",
   "execution_count": null,
   "id": "3c67c610-389a-4dbb-9073-b9be82acd9df",
   "metadata": {},
   "outputs": [],
   "source": []
  }
 ],
 "metadata": {
  "kernelspec": {
   "display_name": "Python 3 (ipykernel)",
   "language": "python",
   "name": "python3"
  },
  "language_info": {
   "codemirror_mode": {
    "name": "ipython",
    "version": 3
   },
   "file_extension": ".py",
   "mimetype": "text/x-python",
   "name": "python",
   "nbconvert_exporter": "python",
   "pygments_lexer": "ipython3",
   "version": "3.13.5"
  }
 },
 "nbformat": 4,
 "nbformat_minor": 5
}
