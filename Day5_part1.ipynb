{
 "cells": [
  {
   "cell_type": "code",
   "execution_count": 43,
   "id": "5f672545-0b0e-4995-aaf6-8bde68e78c44",
   "metadata": {},
   "outputs": [
    {
     "name": "stdout",
     "output_type": "stream",
     "text": [
      "[1, 2, 3, 4]\n"
     ]
    }
   ],
   "source": [
    "# Data Structure\n",
    "# list mutable \n",
    "# append()\n",
    "a = [1,2,3]\n",
    "a.append(4)\n",
    "print(a)"
   ]
  },
  {
   "cell_type": "code",
   "execution_count": 2,
   "id": "23019975-6e96-4a19-8612-c3c56dd9dfd4",
   "metadata": {},
   "outputs": [
    {
     "name": "stdout",
     "output_type": "stream",
     "text": [
      "[1, 2, 2, 3, 4]\n"
     ]
    }
   ],
   "source": [
    "# insert\n",
    "a.insert(1,2)\n",
    "print(a)"
   ]
  },
  {
   "cell_type": "code",
   "execution_count": 22,
   "id": "66adb94d-1ad9-4249-b503-3e63eac82d5a",
   "metadata": {},
   "outputs": [
    {
     "name": "stdout",
     "output_type": "stream",
     "text": [
      "[5, 6]\n"
     ]
    }
   ],
   "source": [
    "# extend()\n",
    "a.extend([5,6])\n",
    "print(a)"
   ]
  },
  {
   "cell_type": "code",
   "execution_count": 44,
   "id": "78d584a3-09f2-4d0b-b602-9b53b08df53c",
   "metadata": {},
   "outputs": [
    {
     "name": "stdout",
     "output_type": "stream",
     "text": [
      "[1, 2, 3]\n"
     ]
    }
   ],
   "source": [
    "# pop(index) also can pass and delete the last element\n",
    "a.pop()\n",
    "print(a)"
   ]
  },
  {
   "cell_type": "code",
   "execution_count": 6,
   "id": "6f0e86f8-c079-402a-983f-9fc12a6dd114",
   "metadata": {},
   "outputs": [
    {
     "name": "stdout",
     "output_type": "stream",
     "text": [
      "[1, 2, 3, 4, 5]\n"
     ]
    }
   ],
   "source": [
    "# remove the fisrt occurrence element \n",
    "a.remove(2)\n",
    "print(a)"
   ]
  },
  {
   "cell_type": "code",
   "execution_count": 9,
   "id": "0f48b1fa-1c04-4745-b305-0de4bf7f69ff",
   "metadata": {},
   "outputs": [
    {
     "name": "stdout",
     "output_type": "stream",
     "text": [
      "1\n"
     ]
    }
   ],
   "source": [
    "# count(ele) count no. of occurrence\n",
    "print(a.count(3))"
   ]
  },
  {
   "cell_type": "code",
   "execution_count": 11,
   "id": "b7fa6446-4362-4bdb-9f85-0006e2c83207",
   "metadata": {},
   "outputs": [
    {
     "name": "stdout",
     "output_type": "stream",
     "text": [
      "1\n"
     ]
    }
   ],
   "source": [
    "# min(listname) return the min element\n",
    "print(min(a))"
   ]
  },
  {
   "cell_type": "code",
   "execution_count": 13,
   "id": "a747c25e-43c8-45c3-9ca1-6c699df5558b",
   "metadata": {},
   "outputs": [
    {
     "name": "stdout",
     "output_type": "stream",
     "text": [
      "5\n"
     ]
    }
   ],
   "source": [
    "# max(listname) return the max element\n",
    "print(max(a))"
   ]
  },
  {
   "cell_type": "code",
   "execution_count": 17,
   "id": "7cc1fb14-e330-4c2b-bdef-8e2797b428b7",
   "metadata": {},
   "outputs": [
    {
     "name": "stdout",
     "output_type": "stream",
     "text": [
      "[5, 4, 3, 2, 1]\n"
     ]
    }
   ],
   "source": [
    "# reverse the list\n",
    "a.reverse()\n",
    "print(a)"
   ]
  },
  {
   "cell_type": "code",
   "execution_count": 18,
   "id": "a4c85743-6f0a-41cf-89a7-1ee738f42c62",
   "metadata": {},
   "outputs": [
    {
     "name": "stdout",
     "output_type": "stream",
     "text": [
      "[1, 2, 3, 4, 5]\n"
     ]
    }
   ],
   "source": [
    "# ort the list in ascending order\n",
    "a.sort()\n",
    "print(a)"
   ]
  },
  {
   "cell_type": "code",
   "execution_count": 19,
   "id": "ba8de1c2-39e9-4a92-8085-c279e9012caf",
   "metadata": {},
   "outputs": [
    {
     "name": "stdout",
     "output_type": "stream",
     "text": [
      "[]\n",
      "<class 'list'>\n"
     ]
    }
   ],
   "source": [
    "# clear() delete whole elements in a list and become empty list \n",
    "# variable type still be a <class 'list'>\n",
    "a.clear()\n",
    "print(a)\n",
    "print(type(a))"
   ]
  },
  {
   "cell_type": "code",
   "execution_count": 24,
   "id": "971ed50f-abe0-472d-8ad4-25bf28dbe43b",
   "metadata": {},
   "outputs": [],
   "source": [
    "# del the specific index element\n",
    "a = [1,2,3]\n"
   ]
  },
  {
   "cell_type": "code",
   "execution_count": 28,
   "id": "ccf9654f-b988-4549-a403-61a4950470b2",
   "metadata": {},
   "outputs": [
    {
     "name": "stdout",
     "output_type": "stream",
     "text": [
      "2\n"
     ]
    }
   ],
   "source": [
    "# index(ele) return the index of the element\n",
    "print(a.index(3))"
   ]
  },
  {
   "cell_type": "code",
   "execution_count": 37,
   "id": "72462e6a-615a-4bde-8415-185127d868d2",
   "metadata": {},
   "outputs": [
    {
     "name": "stdout",
     "output_type": "stream",
     "text": [
      "[2, 1]\n"
     ]
    }
   ],
   "source": [
    "# del\n",
    "del a[0]\n",
    "print(a)\n"
   ]
  },
  {
   "cell_type": "code",
   "execution_count": 35,
   "id": "6a9c9c10-ec5b-4489-b299-666e110db017",
   "metadata": {},
   "outputs": [
    {
     "name": "stdout",
     "output_type": "stream",
     "text": [
      "[3, 2, 1]\n"
     ]
    }
   ],
   "source": [
    "# copy() list \n",
    "b = []\n",
    "b= a.copy()\n",
    "print(b)"
   ]
  },
  {
   "cell_type": "code",
   "execution_count": 33,
   "id": "154ab7f3-c4b3-471e-89df-af39b60eab24",
   "metadata": {},
   "outputs": [
    {
     "name": "stdout",
     "output_type": "stream",
     "text": [
      "[3, 2, 1]\n"
     ]
    }
   ],
   "source": [
    "# sort desc\n",
    "a.sort(reverse=\"True\")\n",
    "print(a)"
   ]
  },
  {
   "cell_type": "code",
   "execution_count": 42,
   "id": "4d27c47c-09bb-4793-8383-08b15978e81d",
   "metadata": {},
   "outputs": [
    {
     "name": "stdout",
     "output_type": "stream",
     "text": [
      "0\n"
     ]
    }
   ],
   "source": [
    "# len() size of list\n",
    "print(len(a))"
   ]
  },
  {
   "cell_type": "code",
   "execution_count": 45,
   "id": "1c26e3b1-e223-4c60-887b-86a22fb12170",
   "metadata": {},
   "outputs": [
    {
     "name": "stdin",
     "output_type": "stream",
     "text": [
      "Enter a element: 1\n",
      "Enter a element: 2\n",
      "Enter a element: 3\n",
      "Enter a element: 4\n",
      "Enter a element: 5\n"
     ]
    },
    {
     "name": "stdout",
     "output_type": "stream",
     "text": [
      "[1, 2, 3, 4, 5]\n"
     ]
    }
   ],
   "source": [
    "# Create an empty list and take 5 numbers as input from the user. Append each number to the list and display the final list.\n",
    "a = []\n",
    "for i in range(1,6):\n",
    "    b = int(input(\"Enter a element:\"))\n",
    "    a.append(b)\n",
    "print(a)"
   ]
  },
  {
   "cell_type": "code",
   "execution_count": 46,
   "id": "7f9e3a0e-30e9-495a-8ea5-c70c30776c37",
   "metadata": {},
   "outputs": [
    {
     "name": "stdout",
     "output_type": "stream",
     "text": [
      "[1, 2, 3, 4, 5, 6]\n"
     ]
    }
   ],
   "source": [
    "# Create two lists: list1 = [1, 2, 3] and list2 = [4, 5, 6]. Extend list1 using list2 and print the updated list.\n",
    "list1 = [1, 2, 3]\n",
    "list2 = [4, 5, 6]\n",
    "list1.extend(list2)\n",
    "print(list1)"
   ]
  },
  {
   "cell_type": "code",
   "execution_count": 47,
   "id": "4788ea6c-0510-4309-9fdb-9a6ead01b2eb",
   "metadata": {},
   "outputs": [
    {
     "name": "stdout",
     "output_type": "stream",
     "text": [
      "[10, 20, 25, 30, 40]\n"
     ]
    }
   ],
   "source": [
    "# Insert the value 25 at index 2 in the list: l = [10, 20, 30, 40].\n",
    "l = [10, 20, 30, 40]\n",
    "l.insert(2,25)\n",
    "print(l)"
   ]
  },
  {
   "cell_type": "code",
   "execution_count": 48,
   "id": "a2c5da20-efaf-402e-b9f6-4a1a1758af00",
   "metadata": {},
   "outputs": [
    {
     "name": "stdout",
     "output_type": "stream",
     "text": [
      "[10, 30, 20, 40]\n"
     ]
    }
   ],
   "source": [
    "# Remove the first occurrence of the value 20 from the list: l = [10, 20, 30, 20, 40].\n",
    "l = [10, 20, 30, 20, 40]\n",
    "l.remove(20)\n",
    "print(l)"
   ]
  },
  {
   "cell_type": "code",
   "execution_count": 49,
   "id": "d5e71de5-64ad-41cc-9541-ce6852edb721",
   "metadata": {},
   "outputs": [
    {
     "name": "stdout",
     "output_type": "stream",
     "text": [
      "5\n",
      "[1, 2, 3, 4]\n"
     ]
    }
   ],
   "source": [
    "# Pop the last element from the list [1, 2, 3, 4, 5] and display both the popped item and the updated list.\n",
    "list = [1, 2, 3, 4, 5]\n",
    "print(list.pop())\n",
    "print(list)\n"
   ]
  },
  {
   "cell_type": "code",
   "execution_count": 50,
   "id": "57b86f8f-b120-4c22-b74d-beb6551d199f",
   "metadata": {},
   "outputs": [
    {
     "name": "stdout",
     "output_type": "stream",
     "text": [
      "2\n"
     ]
    }
   ],
   "source": [
    "# Find and print the index of the element 15 in the list [5, 10, 15, 20, 25].\n",
    "list = [5, 10, 15, 20, 25]\n",
    "print(list.index(15))"
   ]
  },
  {
   "cell_type": "code",
   "execution_count": 51,
   "id": "dbc10a10-b6d9-4684-b761-92ab44fb3181",
   "metadata": {},
   "outputs": [
    {
     "data": {
      "text/plain": [
       "4"
      ]
     },
     "execution_count": 51,
     "metadata": {},
     "output_type": "execute_result"
    }
   ],
   "source": [
    "# Count how many times the number 2 appears in the list [1, 2, 2, 3, 2, 4, 2].\n",
    "list = [1, 2, 2, 3, 2, 4, 2]\n",
    "list.count(2)\n"
   ]
  },
  {
   "cell_type": "code",
   "execution_count": 54,
   "id": "bc4dacd1-bba0-4a51-bff7-48531929b131",
   "metadata": {},
   "outputs": [
    {
     "name": "stdout",
     "output_type": "stream",
     "text": [
      "[3, 5, 7, 10]\n",
      "[10, 7, 5, 3]\n"
     ]
    }
   ],
   "source": [
    "#Sort the list [10, 5, 7, 3] in both ascending and descending order.\n",
    "list = [10, 5, 7, 3]\n",
    "list.sort()\n",
    "print(list)\n",
    "list.sort(reverse=\"True\")\n",
    "print(list)\n"
   ]
  },
  {
   "cell_type": "code",
   "execution_count": 56,
   "id": "64e2d166-057a-4291-8794-5316454ba20d",
   "metadata": {},
   "outputs": [
    {
     "name": "stdout",
     "output_type": "stream",
     "text": [
      "[5, 4, 3, 2, 1]\n"
     ]
    }
   ],
   "source": [
    "# Reverse the list [1, 2, 3, 4, 5] using the reverse() method.\n",
    "list4 = [1, 2, 3, 4, 5]\n",
    "list4.reverse()\n",
    "print(list4)\n"
   ]
  },
  {
   "cell_type": "code",
   "execution_count": 65,
   "id": "e91d96c8-56ba-411e-b9f3-85e9b3a43244",
   "metadata": {},
   "outputs": [
    {
     "name": "stdout",
     "output_type": "stream",
     "text": [
      "[1, 2, 3]\n",
      "original list:  [1, 2, 3]\n",
      "copied list:  [1, 2, 3, 4]\n"
     ]
    }
   ],
   "source": [
    "# Copy the list [1, 2, 3] to a new list, make changes in the copied list, and show that the original list remains unchanged.\n",
    "list5 =  [1, 2, 3]\n",
    "list6 = list5.copy()\n",
    "print(list6)\n",
    "list6.append(4)\n",
    "print(\"original list: \",list5)\n",
    "print(\"copied list: \",list6)"
   ]
  },
  {
   "cell_type": "code",
   "execution_count": null,
   "id": "3fe07881-1bcc-4786-9c95-335d0028fb3f",
   "metadata": {},
   "outputs": [],
   "source": []
  },
  {
   "cell_type": "code",
   "execution_count": null,
   "id": "96f3a22a-ac9a-491f-ac05-641533a379fb",
   "metadata": {},
   "outputs": [],
   "source": []
  }
 ],
 "metadata": {
  "kernelspec": {
   "display_name": "Python 3 (ipykernel)",
   "language": "python",
   "name": "python3"
  },
  "language_info": {
   "codemirror_mode": {
    "name": "ipython",
    "version": 3
   },
   "file_extension": ".py",
   "mimetype": "text/x-python",
   "name": "python",
   "nbconvert_exporter": "python",
   "pygments_lexer": "ipython3",
   "version": "3.13.5"
  }
 },
 "nbformat": 4,
 "nbformat_minor": 5
}
