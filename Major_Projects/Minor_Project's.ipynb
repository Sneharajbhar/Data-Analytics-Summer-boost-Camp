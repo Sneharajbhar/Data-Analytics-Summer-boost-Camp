{
 "cells": [
  {
   "cell_type": "code",
   "execution_count": 6,
   "id": "ba3f26f2-d531-4aae-bcee-0bdf7dcd8037",
   "metadata": {},
   "outputs": [
    {
     "name": "stdin",
     "output_type": "stream",
     "text": [
      "Enter A Number: 45\n",
      "Enter A Number: 0\n"
     ]
    },
    {
     "name": "stdout",
     "output_type": "stream",
     "text": [
      "Press 1 for Addition\n",
      "Press 2 for Subtraction\n",
      "Press 3 for Multiplication\n",
      "Press 4 for Remainder\n",
      "Press 5 for Division\n",
      "Press 6 for Float Division\n",
      "Press 7 for Exponent\n"
     ]
    },
    {
     "name": "stdin",
     "output_type": "stream",
     "text": [
      "Enter your choice:  7\n"
     ]
    },
    {
     "name": "stdout",
     "output_type": "stream",
     "text": [
      "Result:  1\n"
     ]
    }
   ],
   "source": [
    "# calculator\n",
    "# minor project\n",
    "num1 = int(input(\"Enter A Number:\"))\n",
    "num2 = int(input(\"Enter A Number:\"))\n",
    "print(\"Press 1 for Addition\")\n",
    "print(\"Press 2 for Subtraction\")\n",
    "print(\"Press 3 for Multiplication\")\n",
    "print(\"Press 4 for Remainder\")\n",
    "print(\"Press 5 for Division\")\n",
    "print(\"Press 6 for Float Division\")\n",
    "print(\"Press 7 for Exponent\")\n",
    "choice = int(input(\"Enter your choice: \"))\n",
    "if choice==1:\n",
    "    print(\"Result: \",num1+num2)\n",
    "elif choice==2:\n",
    "    print(\"Result: \",num1-num2)\n",
    "elif choice==3:\n",
    "    print(\"Result: \",num1*num2)\n",
    "elif choice==4:\n",
    "    print(\"Result: \",num1%num2)\n",
    "elif choice==5:\n",
    "    print(\"Result: \",num1/num2)\n",
    "elif choice==6:\n",
    "    print(\"Result: \",num1//num2)\n",
    "elif choice==7:\n",
    "    print(\"Result: \",num1**num2)\n",
    "else:\n",
    "    print(\"Invalid choice !!! \")"
   ]
  },
  {
   "cell_type": "code",
   "execution_count": 8,
   "id": "a44d22f7-8807-447b-93f6-70edc6ef631b",
   "metadata": {},
   "outputs": [
    {
     "name": "stdout",
     "output_type": "stream",
     "text": [
      "Hello user\n"
     ]
    },
    {
     "name": "stdin",
     "output_type": "stream",
     "text": [
      "Enter password Sneha\n"
     ]
    },
    {
     "name": "stdout",
     "output_type": "stream",
     "text": [
      "Wrong password:2 attempts left\n"
     ]
    },
    {
     "name": "stdin",
     "output_type": "stream",
     "text": [
      "Enter password Rajbhar\n"
     ]
    },
    {
     "name": "stdout",
     "output_type": "stream",
     "text": [
      "Wrong password:1 attempts left\n"
     ]
    },
    {
     "name": "stdin",
     "output_type": "stream",
     "text": [
      "Enter password Sneha036\n"
     ]
    },
    {
     "name": "stdout",
     "output_type": "stream",
     "text": [
      "Login\n"
     ]
    }
   ],
   "source": [
    "# password login minor project\n",
    "def login():\n",
    "    password='Sneha036'\n",
    "    attempts=3\n",
    "    print(\"Hello user\")\n",
    "    while attempts>0:\n",
    "        x=input(\"Enter password\")\n",
    "        if x==\"Sneha036\":\n",
    "            print(\"Login\")\n",
    "            break\n",
    "        else:\n",
    "            attempts-=1\n",
    "            print(f\"Wrong password:{attempts} attempts left\")\n",
    "login()"
   ]
  },
  {
   "cell_type": "code",
   "execution_count": 10,
   "id": "e2f36f40-4aab-427d-8db1-a5b81f33021e",
   "metadata": {},
   "outputs": [
    {
     "name": "stdin",
     "output_type": "stream",
     "text": [
      "Enter Amount to deposit: 1000\n",
      "Do You want to withdraw amount if yes enter 'Y' Or no for 'N': Y\n",
      "Enter Amount to withdraw: 500\n"
     ]
    },
    {
     "name": "stdout",
     "output_type": "stream",
     "text": [
      "Your Remaining balance is: 500\n",
      "Successfully withdrawn amount: 500\n"
     ]
    }
   ],
   "source": [
    "# minor project atm\n",
    "def addAmount():\n",
    "        deposit = int(input(\"Enter Amount to deposit:\"))\n",
    "        choice = input(\"Do You want to withdraw amount if yes enter 'Y' Or no for 'N':\")\n",
    "        if(choice=='Y'):\n",
    "            withdrawn = int(input(\"Enter Amount to withdraw:\"))\n",
    "            AIM(deposit,withdrawn)\n",
    "        else:\n",
    "            print(\"exited !!!\") \n",
    "            return;\n",
    "\n",
    "def AIM(deposit,withdrawn) :\n",
    "    if withdrawn >=500:\n",
    "        if withdrawn<=deposit :\n",
    "            amount = deposit - withdrawn\n",
    "            print(\"Your Remaining balance is:\",amount)\n",
    "            print(\"Successfully withdrawn amount:\",withdrawn)\n",
    "        else:\n",
    "            print(\"Insufficient Balance !!!\")\n",
    "    else:\n",
    "        print(\"You withdrawn amount is less than 500 !!!\")\n",
    "\n",
    "addAmount()"
   ]
  },
  {
   "cell_type": "code",
   "execution_count": null,
   "id": "ac77efeb-7c50-48b7-b5ea-0784987e9d59",
   "metadata": {},
   "outputs": [],
   "source": []
  }
 ],
 "metadata": {
  "kernelspec": {
   "display_name": "Python 3 (ipykernel)",
   "language": "python",
   "name": "python3"
  },
  "language_info": {
   "codemirror_mode": {
    "name": "ipython",
    "version": 3
   },
   "file_extension": ".py",
   "mimetype": "text/x-python",
   "name": "python",
   "nbconvert_exporter": "python",
   "pygments_lexer": "ipython3",
   "version": "3.13.5"
  }
 },
 "nbformat": 4,
 "nbformat_minor": 5
}
