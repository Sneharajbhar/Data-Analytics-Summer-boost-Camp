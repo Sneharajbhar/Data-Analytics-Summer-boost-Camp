{
 "cells": [
  {
   "cell_type": "code",
   "execution_count": 4,
   "id": "1a35fcb9-b696-4f58-8175-ff766bbf61f1",
   "metadata": {},
   "outputs": [
    {
     "name": "stdout",
     "output_type": "stream",
     "text": [
      "\n",
      "===== Library Management System =====\n",
      "1. List Books\n",
      "2. Issue Book\n",
      "3. Return Book\n",
      "4. Exit\n"
     ]
    },
    {
     "name": "stdin",
     "output_type": "stream",
     "text": [
      "Enter your choice:  1\n"
     ]
    },
    {
     "name": "stdout",
     "output_type": "stream",
     "text": [
      "\n",
      "Available Books:\n",
      "ID: 1 | Title: Physics Part 1 - NCERT Class 12 | Author: NCERT | Available: 3\n",
      "ID: 2 | Title: Physics Part 2 - NCERT Class 12 | Author: NCERT | Available: 3\n",
      "ID: 3 | Title: Chemistry - NCERT Class 12 | Author: NCERT | Available: 3\n",
      "ID: 4 | Title: Mathematics - NCERT Class 12 | Author: NCERT | Available: 3\n",
      "ID: 5 | Title: Biology - NCERT Class 12 | Author: NCERT | Available: 2\n",
      "\n",
      "===== Library Management System =====\n",
      "1. List Books\n",
      "2. Issue Book\n",
      "3. Return Book\n",
      "4. Exit\n"
     ]
    },
    {
     "name": "stdin",
     "output_type": "stream",
     "text": [
      "Enter your choice:  2\n",
      "Enter Borrower Name:  Sneha Rajbhar\n",
      "Enter Book ID to issue:  3\n"
     ]
    },
    {
     "name": "stdout",
     "output_type": "stream",
     "text": [
      "Book ID 3 issued to 'Sneha Rajbhar' successfully.\n",
      "\n",
      "===== Library Management System =====\n",
      "1. List Books\n",
      "2. Issue Book\n",
      "3. Return Book\n",
      "4. Exit\n"
     ]
    },
    {
     "name": "stdin",
     "output_type": "stream",
     "text": [
      "Enter your choice:  3\n",
      "Enter Borrower Name:  Sneha Rajbhar\n",
      "Enter Book ID to return:  3\n"
     ]
    },
    {
     "name": "stdout",
     "output_type": "stream",
     "text": [
      "Book ID 3 returned by 'Sneha Rajbhar' successfully.\n",
      "\n",
      "===== Library Management System =====\n",
      "1. List Books\n",
      "2. Issue Book\n",
      "3. Return Book\n",
      "4. Exit\n"
     ]
    },
    {
     "name": "stdin",
     "output_type": "stream",
     "text": [
      "Enter your choice:  4\n"
     ]
    },
    {
     "name": "stdout",
     "output_type": "stream",
     "text": [
      "Exiting Library Management System. Goodbye!\n"
     ]
    }
   ],
   "source": [
    "# Library Management System \n",
    "\n",
    "# Using python and sql\n",
    "\n",
    "import os\n",
    "import sqlite3\n",
    "# Remove existing database to start fresh\n",
    "if os.path.exists(\"lib.db\"):\n",
    "    os.remove(\"lib.db\")\n",
    "\n",
    "\n",
    "conn = sqlite3.connect(\"lib.db\")\n",
    "cur = conn.cursor()\n",
    "\n",
    "# Drop old tables (optional since DB is fresh)\n",
    "cur.execute(\"DROP TABLE IF EXISTS issues\")\n",
    "cur.execute(\"DROP TABLE IF EXISTS borrowers\")\n",
    "\n",
    "# Create tables\n",
    "cur.execute('''\n",
    "CREATE TABLE IF NOT EXISTS borrowers (\n",
    "    borrower_id INTEGER PRIMARY KEY AUTOINCREMENT,\n",
    "    name TEXT NOT NULL\n",
    ")\n",
    "''')\n",
    "\n",
    "cur.execute('''\n",
    "CREATE TABLE IF NOT EXISTS books (\n",
    "    book_id INTEGER PRIMARY KEY AUTOINCREMENT,\n",
    "    title TEXT NOT NULL,\n",
    "    author TEXT,\n",
    "    copies INTEGER DEFAULT 1\n",
    ")\n",
    "''')\n",
    "\n",
    "cur.execute('''\n",
    "CREATE TABLE IF NOT EXISTS issues (\n",
    "    issue_id INTEGER PRIMARY KEY AUTOINCREMENT,\n",
    "    borrower_id INTEGER,\n",
    "    book_id INTEGER,\n",
    "    issue_date TIMESTAMP DEFAULT CURRENT_TIMESTAMP,\n",
    "    return_date INTEGER,  -- store 1 if returned, NULL if not\n",
    "    FOREIGN KEY(borrower_id) REFERENCES borrowers(borrower_id),\n",
    "    FOREIGN KEY(book_id) REFERENCES books(book_id)\n",
    ")\n",
    "''')\n",
    "\n",
    "conn.commit()\n",
    "\n",
    "# Preload NCERT Class 12 books into fresh database\n",
    "books_to_add = [\n",
    "    (\"Physics Part 1 - NCERT Class 12\", \"NCERT\", 3),\n",
    "    (\"Physics Part 2 - NCERT Class 12\", \"NCERT\", 3),\n",
    "    (\"Chemistry - NCERT Class 12\", \"NCERT\", 3),\n",
    "    (\"Mathematics - NCERT Class 12\", \"NCERT\", 3),\n",
    "    (\"Biology - NCERT Class 12\", \"NCERT\", 2)\n",
    "]\n",
    "cur.executemany(\"INSERT INTO books (title, author, copies) VALUES (?, ?, ?)\", books_to_add)\n",
    "conn.commit()\n",
    "\n",
    "def issue_book(borrower_name, book_id):\n",
    "    cur.execute(\"INSERT INTO borrowers (name) VALUES (?)\", (borrower_name,))\n",
    "    borrower_id = cur.lastrowid\n",
    "\n",
    "    cur.execute(\"SELECT copies FROM books WHERE book_id = ?\", (book_id,))\n",
    "    book = cur.fetchone()\n",
    "    if not book:\n",
    "        print(\"Book not found.\")\n",
    "        return\n",
    "    copies = book[0]\n",
    "\n",
    "    cur.execute('''SELECT COUNT(*) FROM issues \n",
    "                   WHERE book_id = ? AND return_date IS NULL''', (book_id,))\n",
    "    issued_count = cur.fetchone()[0]\n",
    "\n",
    "    if issued_count >= copies:\n",
    "        print(\"No copies available to issue.\")\n",
    "        return\n",
    "\n",
    "    cur.execute(\"INSERT INTO issues (borrower_id, book_id) VALUES (?, ?)\", (borrower_id, book_id))\n",
    "    conn.commit()\n",
    "    print(f\"Book ID {book_id} issued to '{borrower_name}' successfully.\")\n",
    "\n",
    "def return_book(borrower_name, book_id):\n",
    "    cur.execute(\"SELECT borrower_id FROM borrowers WHERE name = ? ORDER BY borrower_id DESC LIMIT 1\", (borrower_name,))\n",
    "    borrower = cur.fetchone()\n",
    "    if not borrower:\n",
    "        print(\"Borrower not found.\")\n",
    "        return\n",
    "    borrower_id = borrower[0]\n",
    "\n",
    "    cur.execute('''SELECT issue_id FROM issues \n",
    "                   WHERE borrower_id = ? AND book_id = ? AND return_date IS NULL''', (borrower_id, book_id))\n",
    "    issue = cur.fetchone()\n",
    "    if not issue:\n",
    "        print(\"No active issue found for this book and borrower.\")\n",
    "        return\n",
    "\n",
    "    issue_id = issue[0]\n",
    "    # Instead of datetime, just mark return_date as 1 (means returned)\n",
    "    cur.execute(\"UPDATE issues SET return_date = 1 WHERE issue_id = ?\", (issue_id,))\n",
    "    conn.commit()\n",
    "    print(f\"Book ID {book_id} returned by '{borrower_name}' successfully.\")\n",
    "\n",
    "def list_books():\n",
    "    cur.execute(\"SELECT book_id, title, author, copies FROM books\")\n",
    "    books = cur.fetchall()\n",
    "    print(\"\\nAvailable Books:\")\n",
    "    for book_id, title, author, copies in books:\n",
    "        cur.execute('''SELECT COUNT(*) FROM issues WHERE book_id = ? AND return_date IS NULL''', (book_id,))\n",
    "        issued = cur.fetchone()[0]\n",
    "        available = copies - issued\n",
    "        print(f\"ID: {book_id} | Title: {title} | Author: {author} | Available: {available}\")\n",
    "\n",
    "def library_menu():\n",
    "    while True:\n",
    "        print(\"\\n===== Library Management System =====\")\n",
    "        print(\"1. List Books\")\n",
    "        print(\"2. Issue Book\")\n",
    "        print(\"3. Return Book\")\n",
    "        print(\"4. Exit\")\n",
    "        choice = input(\"Enter your choice: \")\n",
    "\n",
    "        if choice == '1':\n",
    "            list_books()\n",
    "        elif choice == '2':\n",
    "            borrower_name = input(\"Enter Borrower Name: \")\n",
    "            try:\n",
    "                book_id = int(input(\"Enter Book ID to issue: \"))\n",
    "                issue_book(borrower_name, book_id)\n",
    "            except ValueError:\n",
    "                print(\"Invalid input! Book ID must be a number.\")\n",
    "        elif choice == '3':\n",
    "            borrower_name = input(\"Enter Borrower Name: \")\n",
    "            try:\n",
    "                book_id = int(input(\"Enter Book ID to return: \"))\n",
    "                return_book(borrower_name, book_id)\n",
    "            except ValueError:\n",
    "                print(\"Invalid input! Book ID must be a number.\")\n",
    "        elif choice == '4':\n",
    "            print(\"Exiting Library Management System. Goodbye!\")\n",
    "            break\n",
    "        else:\n",
    "            print(\"Invalid choice. Please try again.\")\n",
    "\n",
    "library_menu()\n",
    "conn.close()"
   ]
  }
 ],
 "metadata": {
  "kernelspec": {
   "display_name": "Python 3 (ipykernel)",
   "language": "python",
   "name": "python3"
  },
  "language_info": {
   "codemirror_mode": {
    "name": "ipython",
    "version": 3
   },
   "file_extension": ".py",
   "mimetype": "text/x-python",
   "name": "python",
   "nbconvert_exporter": "python",
   "pygments_lexer": "ipython3",
   "version": "3.13.5"
  }
 },
 "nbformat": 4,
 "nbformat_minor": 5
}
