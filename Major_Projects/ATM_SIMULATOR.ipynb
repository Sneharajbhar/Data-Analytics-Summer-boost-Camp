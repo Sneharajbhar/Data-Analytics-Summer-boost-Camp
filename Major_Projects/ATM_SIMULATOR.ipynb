{
 "cells": [
  {
   "cell_type": "code",
   "execution_count": 5,
   "id": "3a44f7c2-924f-45ed-a0f8-6971ec182d91",
   "metadata": {},
   "outputs": [
    {
     "name": "stdout",
     "output_type": "stream",
     "text": [
      "\n",
      "===== Welcome to Python ATM =====\n",
      "1. Create Account\n",
      "2. Login\n",
      "3. Exit\n"
     ]
    },
    {
     "name": "stdin",
     "output_type": "stream",
     "text": [
      "Enter your choice:  1\n",
      "Enter your name:  Sneha Rajbhar\n",
      "Set a 4-digit PIN:  4099\n",
      "Enter initial deposit amount: $ 23000\n"
     ]
    },
    {
     "name": "stdout",
     "output_type": "stream",
     "text": [
      "Account created successfully! Your account number is: 5\n",
      "\n",
      "===== Welcome to Python ATM =====\n",
      "1. Create Account\n",
      "2. Login\n",
      "3. Exit\n"
     ]
    },
    {
     "name": "stdin",
     "output_type": "stream",
     "text": [
      "Enter your choice:  2\n",
      "Enter Account Number:  5\n",
      "Enter PIN:  4099\n"
     ]
    },
    {
     "name": "stdout",
     "output_type": "stream",
     "text": [
      "Welcome Sneha Rajbhar!\n",
      "\n",
      "--- Menu ---\n",
      "1. Check Balance\n",
      "2. Deposit\n",
      "3. Withdraw\n",
      "4. Logout\n"
     ]
    },
    {
     "name": "stdin",
     "output_type": "stream",
     "text": [
      "Enter your choice:  1\n"
     ]
    },
    {
     "name": "stdout",
     "output_type": "stream",
     "text": [
      "Current Balance: $ 23000.0\n",
      "\n",
      "--- Menu ---\n",
      "1. Check Balance\n",
      "2. Deposit\n",
      "3. Withdraw\n",
      "4. Logout\n"
     ]
    },
    {
     "name": "stdin",
     "output_type": "stream",
     "text": [
      "Enter your choice:  2\n",
      "Enter amount to deposit: $ 300\n"
     ]
    },
    {
     "name": "stdout",
     "output_type": "stream",
     "text": [
      "300.0 deposited successfully.\n",
      "\n",
      "--- Menu ---\n",
      "1. Check Balance\n",
      "2. Deposit\n",
      "3. Withdraw\n",
      "4. Logout\n"
     ]
    },
    {
     "name": "stdin",
     "output_type": "stream",
     "text": [
      "Enter your choice:  3\n",
      "Enter amount to withdraw: $ 150\n"
     ]
    },
    {
     "name": "stdout",
     "output_type": "stream",
     "text": [
      "150.0 withdrawn successfully.\n",
      "\n",
      "--- Menu ---\n",
      "1. Check Balance\n",
      "2. Deposit\n",
      "3. Withdraw\n",
      "4. Logout\n"
     ]
    },
    {
     "name": "stdin",
     "output_type": "stream",
     "text": [
      "Enter your choice:  1\n"
     ]
    },
    {
     "name": "stdout",
     "output_type": "stream",
     "text": [
      "Current Balance: $ 23150.0\n",
      "\n",
      "--- Menu ---\n",
      "1. Check Balance\n",
      "2. Deposit\n",
      "3. Withdraw\n",
      "4. Logout\n"
     ]
    },
    {
     "name": "stdin",
     "output_type": "stream",
     "text": [
      "Enter your choice:  4\n"
     ]
    },
    {
     "name": "stdout",
     "output_type": "stream",
     "text": [
      "Logging out...\n",
      "\n",
      "===== Welcome to Python ATM =====\n",
      "1. Create Account\n",
      "2. Login\n",
      "3. Exit\n"
     ]
    },
    {
     "name": "stdin",
     "output_type": "stream",
     "text": [
      "Enter your choice:  3\n"
     ]
    },
    {
     "name": "stdout",
     "output_type": "stream",
     "text": [
      "Thank you for using the ATM. Goodbye!\n"
     ]
    }
   ],
   "source": [
    "# Atm simulator\n",
    "# Using python and sql\n",
    "\n",
    "import sqlite3\n",
    "\n",
    "\n",
    "conn = sqlite3.connect(\"atm2.db\")\n",
    "cur = conn.cursor()\n",
    "\n",
    "cur.execute('''\n",
    "CREATE TABLE IF NOT EXISTS accounts (\n",
    "    acc_no INTEGER PRIMARY KEY AUTOINCREMENT,\n",
    "    name TEXT,\n",
    "    pin TEXT,\n",
    "    balance REAL\n",
    ")\n",
    "''')\n",
    "conn.commit()\n",
    "\n",
    "def create_account(name, pin, balance):\n",
    "    cur.execute(\"INSERT INTO accounts (name, pin, balance) VALUES (?, ?, ?)\", (name, pin, balance))\n",
    "    conn.commit()\n",
    "    acc_no = cur.lastrowid\n",
    "    print(f\"Account created successfully! Your account number is: {acc_no}\")\n",
    "\n",
    "def login(acc_no, pin):\n",
    "    cur.execute(\"SELECT * FROM accounts WHERE acc_no=? AND pin=?\", (acc_no, pin))\n",
    "    user = cur.fetchone()\n",
    "    if user:\n",
    "        print(f\"Welcome {user[1]}!\")\n",
    "        return user\n",
    "    else:\n",
    "        print(\"Invalid account number or PIN.\")\n",
    "        return None\n",
    "\n",
    "def check_balance(acc_no):\n",
    "    cur.execute(\"SELECT balance FROM accounts WHERE acc_no=?\", (acc_no,))\n",
    "    balance = cur.fetchone()[0]\n",
    "    print(f\"Current Balance: $ {balance}\")\n",
    "\n",
    "def deposit(acc_no, amount):\n",
    "    cur.execute(\"UPDATE accounts SET balance = balance + ? WHERE acc_no=?\", (amount, acc_no))\n",
    "    conn.commit()\n",
    "    print(f\"{amount} deposited successfully.\")\n",
    "\n",
    "def withdraw(acc_no, amount):\n",
    "    cur.execute(\"SELECT balance FROM accounts WHERE acc_no=?\", (acc_no,))\n",
    "    current_balance = cur.fetchone()[0]\n",
    "\n",
    "    if amount > current_balance:\n",
    "        print(\"Insufficient balance!\")\n",
    "    else:\n",
    "        cur.execute(\"UPDATE accounts SET balance = balance - ? WHERE acc_no=?\", (amount, acc_no))\n",
    "        conn.commit()\n",
    "        print(f\"{amount} withdrawn successfully.\")\n",
    "\n",
    "def atm_menu():\n",
    "    while True:\n",
    "        print(\"\\n===== Welcome to Python ATM =====\")\n",
    "        print(\"1. Create Account\")\n",
    "        print(\"2. Login\")\n",
    "        print(\"3. Exit\")\n",
    "        choice = input(\"Enter your choice: \")\n",
    "\n",
    "        if choice == '1':\n",
    "            name = input(\"Enter your name: \")\n",
    "            pin = input(\"Set a 4-digit PIN: \")\n",
    "            try:\n",
    "                initial_deposit = float(input(\"Enter initial deposit amount: $\"))\n",
    "                create_account(name, pin, initial_deposit)\n",
    "            except ValueError:\n",
    "                print(\"Invalid deposit amount.\")\n",
    "        elif choice == '2':\n",
    "            try:\n",
    "                acc_no = int(input(\"Enter Account Number: \"))\n",
    "                pin = input(\"Enter PIN: \")\n",
    "            except ValueError:\n",
    "                print(\"Account number must be a number.\")\n",
    "                continue\n",
    "\n",
    "            user = login(acc_no, pin)\n",
    "            if not user:\n",
    "                continue\n",
    "\n",
    "            # Logged in — show transaction menu\n",
    "            while True:\n",
    "                print(\"\\n--- Menu ---\")\n",
    "                print(\"1. Check Balance\")\n",
    "                print(\"2. Deposit\")\n",
    "                print(\"3. Withdraw\")\n",
    "                print(\"4. Logout\")\n",
    "                trans_choice = input(\"Enter your choice: \")\n",
    "\n",
    "                if trans_choice == '1':\n",
    "                    check_balance(acc_no)\n",
    "                elif trans_choice == '2':\n",
    "                    try:\n",
    "                        amt = float(input(\"Enter amount to deposit: $\"))\n",
    "                        deposit(acc_no, amt)\n",
    "                    except ValueError:\n",
    "                        print(\"Invalid amount.\")\n",
    "                elif trans_choice == '3':\n",
    "                    try:\n",
    "                        amt = float(input(\"Enter amount to withdraw: $\"))\n",
    "                        withdraw(acc_no, amt)\n",
    "                    except ValueError:\n",
    "                        print(\"Invalid amount.\")\n",
    "                elif trans_choice == '4':\n",
    "                    print(\"Logging out...\")\n",
    "                    break\n",
    "                else:\n",
    "                    print(\"Invalid choice.\")\n",
    "        elif choice == '3':\n",
    "            print(\"Thank you for using the ATM. Goodbye!\")\n",
    "            break\n",
    "        else:\n",
    "            print(\"Invalid choice.\")\n",
    "\n",
    "atm_menu()\n",
    "conn.close()\n"
   ]
  }
 ],
 "metadata": {
  "kernelspec": {
   "display_name": "Python 3 (ipykernel)",
   "language": "python",
   "name": "python3"
  },
  "language_info": {
   "codemirror_mode": {
    "name": "ipython",
    "version": 3
   },
   "file_extension": ".py",
   "mimetype": "text/x-python",
   "name": "python",
   "nbconvert_exporter": "python",
   "pygments_lexer": "ipython3",
   "version": "3.13.5"
  }
 },
 "nbformat": 4,
 "nbformat_minor": 5
}
