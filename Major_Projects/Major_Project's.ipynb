{
 "cells": [
  {
   "cell_type": "code",
   "execution_count": 1,
   "id": "bd11fa2e-6e00-4d26-b6c5-a84df8d97bb1",
   "metadata": {
    "scrolled": true
   },
   "outputs": [
    {
     "name": "stdout",
     "output_type": "stream",
     "text": [
      "\n",
      "===== Welcome to Python ATM =====\n",
      "1. Create Account\n",
      "2. Login\n",
      "3. Exit\n"
     ]
    },
    {
     "name": "stdin",
     "output_type": "stream",
     "text": [
      "Enter your choice:  1\n",
      "Enter your name:  Sneha Rajbhar\n",
      "Set a 4-digit PIN:  6732\n",
      "Enter initial deposit amount: $ 4000\n"
     ]
    },
    {
     "name": "stdout",
     "output_type": "stream",
     "text": [
      "Account created successfully! Your account number is: 1\n",
      "\n",
      "===== Welcome to Python ATM =====\n",
      "1. Create Account\n",
      "2. Login\n",
      "3. Exit\n"
     ]
    },
    {
     "name": "stdin",
     "output_type": "stream",
     "text": [
      "Enter your choice:  2\n",
      "Enter Account Number:  1\n",
      "Enter PIN:  6732\n"
     ]
    },
    {
     "name": "stdout",
     "output_type": "stream",
     "text": [
      "Welcome Sneha Rajbhar!\n",
      "\n",
      "--- Menu ---\n",
      "1. Check Balance\n",
      "2. Deposit\n",
      "3. Withdraw\n",
      "4. Logout\n"
     ]
    },
    {
     "name": "stdin",
     "output_type": "stream",
     "text": [
      "Enter your choice:  1\n"
     ]
    },
    {
     "name": "stdout",
     "output_type": "stream",
     "text": [
      "Current Balance: $ 4000.0\n",
      "\n",
      "--- Menu ---\n",
      "1. Check Balance\n",
      "2. Deposit\n",
      "3. Withdraw\n",
      "4. Logout\n"
     ]
    },
    {
     "name": "stdin",
     "output_type": "stream",
     "text": [
      "Enter your choice:  2\n",
      "Enter amount to deposit: $ 90\n"
     ]
    },
    {
     "name": "stdout",
     "output_type": "stream",
     "text": [
      "90.0 deposited successfully.\n",
      "\n",
      "--- Menu ---\n",
      "1. Check Balance\n",
      "2. Deposit\n",
      "3. Withdraw\n",
      "4. Logout\n"
     ]
    },
    {
     "name": "stdin",
     "output_type": "stream",
     "text": [
      "Enter your choice:  3\n",
      "Enter amount to withdraw: $ 50\n"
     ]
    },
    {
     "name": "stdout",
     "output_type": "stream",
     "text": [
      "50.0 withdrawn successfully.\n",
      "\n",
      "--- Menu ---\n",
      "1. Check Balance\n",
      "2. Deposit\n",
      "3. Withdraw\n",
      "4. Logout\n"
     ]
    },
    {
     "name": "stdin",
     "output_type": "stream",
     "text": [
      "Enter your choice:  4\n"
     ]
    },
    {
     "name": "stdout",
     "output_type": "stream",
     "text": [
      "Logging out...\n",
      "\n",
      "===== Welcome to Python ATM =====\n",
      "1. Create Account\n",
      "2. Login\n",
      "3. Exit\n"
     ]
    },
    {
     "name": "stdin",
     "output_type": "stream",
     "text": [
      "Enter your choice:  3\n"
     ]
    },
    {
     "name": "stdout",
     "output_type": "stream",
     "text": [
      "Thank you for using the ATM. Goodbye!\n"
     ]
    }
   ],
   "source": [
    "# Atm simulator\n",
    "# Using python and sql\n",
    "\n",
    "import sqlite3\n",
    "\n",
    "conn = sqlite3.connect(\"atm2.db\")\n",
    "cur = conn.cursor()\n",
    "\n",
    "cur.execute('''\n",
    "CREATE TABLE IF NOT EXISTS accounts (\n",
    "    acc_no INTEGER PRIMARY KEY AUTOINCREMENT,\n",
    "    name TEXT,\n",
    "    pin TEXT,\n",
    "    balance REAL\n",
    ")\n",
    "''')\n",
    "conn.commit()\n",
    "\n",
    "def create_account(name, pin, balance):\n",
    "    cur.execute(\"INSERT INTO accounts (name, pin, balance) VALUES (?, ?, ?)\", (name, pin, balance))\n",
    "    conn.commit()\n",
    "    acc_no = cur.lastrowid\n",
    "    print(f\"Account created successfully! Your account number is: {acc_no}\")\n",
    "\n",
    "def login(acc_no, pin):\n",
    "    cur.execute(\"SELECT * FROM accounts WHERE acc_no=? AND pin=?\", (acc_no, pin))\n",
    "    user = cur.fetchone()\n",
    "    if user:\n",
    "        print(f\"Welcome {user[1]}!\")\n",
    "        return user\n",
    "    else:\n",
    "        print(\"Invalid account number or PIN.\")\n",
    "        return None\n",
    "\n",
    "def check_balance(acc_no):\n",
    "    cur.execute(\"SELECT balance FROM accounts WHERE acc_no=?\", (acc_no,))\n",
    "    balance = cur.fetchone()[0]\n",
    "    print(f\"Current Balance: $ {balance}\")\n",
    "\n",
    "def deposit(acc_no, amount):\n",
    "    cur.execute(\"UPDATE accounts SET balance = balance + ? WHERE acc_no=?\", (amount, acc_no))\n",
    "    conn.commit()\n",
    "    print(f\"{amount} deposited successfully.\")\n",
    "\n",
    "def withdraw(acc_no, amount):\n",
    "    cur.execute(\"SELECT balance FROM accounts WHERE acc_no=?\", (acc_no,))\n",
    "    current_balance = cur.fetchone()[0]\n",
    "\n",
    "    if amount > current_balance:\n",
    "        print(\"Insufficient balance!\")\n",
    "    else:\n",
    "        cur.execute(\"UPDATE accounts SET balance = balance - ? WHERE acc_no=?\", (amount, acc_no))\n",
    "        conn.commit()\n",
    "        print(f\"{amount} withdrawn successfully.\")\n",
    "\n",
    "def atm_menu():\n",
    "    while True:\n",
    "        print(\"\\n===== Welcome to Python ATM =====\")\n",
    "        print(\"1. Create Account\")\n",
    "        print(\"2. Login\")\n",
    "        print(\"3. Exit\")\n",
    "        choice = input(\"Enter your choice: \")\n",
    "\n",
    "        if choice == '1':\n",
    "            name = input(\"Enter your name: \")\n",
    "            pin = input(\"Set a 4-digit PIN: \")\n",
    "            try:\n",
    "                initial_deposit = float(input(\"Enter initial deposit amount: $\"))\n",
    "                create_account(name, pin, initial_deposit)\n",
    "            except ValueError:\n",
    "                print(\"Invalid deposit amount.\")\n",
    "        elif choice == '2':\n",
    "            try:\n",
    "                acc_no = int(input(\"Enter Account Number: \"))\n",
    "                pin = input(\"Enter PIN: \")\n",
    "            except ValueError:\n",
    "                print(\"Account number must be a number.\")\n",
    "                continue\n",
    "\n",
    "            user = login(acc_no, pin)\n",
    "            if not user:\n",
    "                continue\n",
    "\n",
    "            # Logged in — show transaction menu\n",
    "            while True:\n",
    "                print(\"\\n--- Menu ---\")\n",
    "                print(\"1. Check Balance\")\n",
    "                print(\"2. Deposit\")\n",
    "                print(\"3. Withdraw\")\n",
    "                print(\"4. Logout\")\n",
    "                trans_choice = input(\"Enter your choice: \")\n",
    "\n",
    "                if trans_choice == '1':\n",
    "                    check_balance(acc_no)\n",
    "                elif trans_choice == '2':\n",
    "                    try:\n",
    "                        amt = float(input(\"Enter amount to deposit: $\"))\n",
    "                        deposit(acc_no, amt)\n",
    "                    except ValueError:\n",
    "                        print(\"Invalid amount.\")\n",
    "                elif trans_choice == '3':\n",
    "                    try:\n",
    "                        amt = float(input(\"Enter amount to withdraw: $\"))\n",
    "                        withdraw(acc_no, amt)\n",
    "                    except ValueError:\n",
    "                        print(\"Invalid amount.\")\n",
    "                elif trans_choice == '4':\n",
    "                    print(\"Logging out...\")\n",
    "                    break\n",
    "                else:\n",
    "                    print(\"Invalid choice.\")\n",
    "        elif choice == '3':\n",
    "            print(\"Thank you for using the ATM. Goodbye!\")\n",
    "            break\n",
    "        else:\n",
    "            print(\"Invalid choice.\")\n",
    "\n",
    "atm_menu()\n",
    "conn.close()\n"
   ]
  },
  {
   "cell_type": "code",
   "execution_count": 2,
   "id": "640ce2d0-5059-4543-8a25-42e4a1b69989",
   "metadata": {},
   "outputs": [
    {
     "name": "stdout",
     "output_type": "stream",
     "text": [
      "\n",
      "===== Bill Management System =====\n",
      "1. Create New Bill\n",
      "2. Add Item to Bill\n",
      "3. View Bill\n",
      "4. Delete Item from Bill\n",
      "5. Exit\n"
     ]
    },
    {
     "name": "stdin",
     "output_type": "stream",
     "text": [
      "Enter your choice:  1\n",
      "Enter customer name:  Sneha Rajbhar\n",
      "Enter phone number:  235847221\n"
     ]
    },
    {
     "name": "stdout",
     "output_type": "stream",
     "text": [
      " Bill created successfully for Sneha Rajbhar. Bill ID: 1\n",
      "\n",
      "===== Bill Management System =====\n",
      "1. Create New Bill\n",
      "2. Add Item to Bill\n",
      "3. View Bill\n",
      "4. Delete Item from Bill\n",
      "5. Exit\n"
     ]
    },
    {
     "name": "stdin",
     "output_type": "stream",
     "text": [
      "Enter your choice:  2\n",
      "Enter Bill ID:  1\n",
      "Enter item name:  Pen\n",
      "Enter quantity:  10\n",
      "Enter price per unit: ₹ 10\n"
     ]
    },
    {
     "name": "stdout",
     "output_type": "stream",
     "text": [
      " Item 'Pen' added to Bill ID: 1\n",
      "\n",
      "===== Bill Management System =====\n",
      "1. Create New Bill\n",
      "2. Add Item to Bill\n",
      "3. View Bill\n",
      "4. Delete Item from Bill\n",
      "5. Exit\n"
     ]
    },
    {
     "name": "stdin",
     "output_type": "stream",
     "text": [
      "Enter your choice:  3\n",
      "Enter Bill ID to view:  1\n"
     ]
    },
    {
     "name": "stdout",
     "output_type": "stream",
     "text": [
      "\n",
      "--- Bill ID: 1 ---\n",
      "Customer: Sneha Rajbhar\n",
      "Phone: 235847221\n",
      "Date: 2025-07-22 07:24:07\n",
      "\n",
      "Items:\n",
      "Item Qty Price Total\n",
      "Pen 10 10.0 100.0\n",
      "\n",
      "Total Amount: ₹100.0\n",
      "\n",
      "===== Bill Management System =====\n",
      "1. Create New Bill\n",
      "2. Add Item to Bill\n",
      "3. View Bill\n",
      "4. Delete Item from Bill\n",
      "5. Exit\n"
     ]
    },
    {
     "name": "stdin",
     "output_type": "stream",
     "text": [
      "Enter your choice:  4\n",
      "Enter Bill ID:  1\n"
     ]
    },
    {
     "name": "stdout",
     "output_type": "stream",
     "text": [
      "\n",
      "Items in Bill:\n",
      "Item ID Item Name            Qty Price\n",
      "1 Pen 10 10.0\n"
     ]
    },
    {
     "name": "stdin",
     "output_type": "stream",
     "text": [
      "Enter Item ID to delete:  1\n"
     ]
    },
    {
     "name": "stdout",
     "output_type": "stream",
     "text": [
      " Item ID 1 deleted successfully from Bill ID 1.\n",
      "\n",
      "===== Bill Management System =====\n",
      "1. Create New Bill\n",
      "2. Add Item to Bill\n",
      "3. View Bill\n",
      "4. Delete Item from Bill\n",
      "5. Exit\n"
     ]
    },
    {
     "name": "stdin",
     "output_type": "stream",
     "text": [
      "Enter your choice:  5\n"
     ]
    },
    {
     "name": "stdout",
     "output_type": "stream",
     "text": [
      "Exiting Bill Management System. Goodbye!\n"
     ]
    }
   ],
   "source": [
    "# bill management system\n",
    "\n",
    "# Connect to the database\n",
    "conn = sqlite3.connect(\"bills.db\")\n",
    "cur = conn.cursor()\n",
    "\n",
    "# Create tables\n",
    "cur.execute('''\n",
    "CREATE TABLE IF NOT EXISTS customers (\n",
    "    customer_id INTEGER PRIMARY KEY AUTOINCREMENT,\n",
    "    name TEXT NOT NULL,\n",
    "    phone TEXT\n",
    ")\n",
    "''')\n",
    "\n",
    "cur.execute('''\n",
    "CREATE TABLE IF NOT EXISTS bills (\n",
    "    bill_id INTEGER PRIMARY KEY AUTOINCREMENT,\n",
    "    customer_id INTEGER,\n",
    "    date TIMESTAMP DEFAULT CURRENT_TIMESTAMP,\n",
    "    FOREIGN KEY(customer_id) REFERENCES customers(customer_id)\n",
    ")\n",
    "''')\n",
    "\n",
    "cur.execute('''\n",
    "CREATE TABLE IF NOT EXISTS items (\n",
    "    item_id INTEGER PRIMARY KEY AUTOINCREMENT,\n",
    "    bill_id INTEGER,\n",
    "    item_name TEXT,\n",
    "    quantity INTEGER,\n",
    "    price REAL,\n",
    "    FOREIGN KEY(bill_id) REFERENCES bills(bill_id)\n",
    ")\n",
    "''')\n",
    "\n",
    "conn.commit()\n",
    "\n",
    "# Function to create a new bill\n",
    "def create_bill(name, phone):\n",
    "    cur.execute(\"INSERT INTO customers (name, phone) VALUES (?, ?)\", (name, phone))\n",
    "    customer_id = cur.lastrowid\n",
    "    cur.execute(\"INSERT INTO bills (customer_id) VALUES (?)\", (customer_id,))\n",
    "    bill_id = cur.lastrowid\n",
    "    conn.commit()\n",
    "    print(f\" Bill created successfully for {name}. Bill ID: {bill_id}\")\n",
    "    return bill_id\n",
    "\n",
    "# Function to add an item to a bill\n",
    "def add_item_to_bill(bill_id, item_name, quantity, price):\n",
    "    cur.execute(\"INSERT INTO items (bill_id, item_name, quantity, price) VALUES (?, ?, ?, ?)\",\n",
    "                (bill_id, item_name, quantity, price))\n",
    "    conn.commit()\n",
    "    print(f\" Item '{item_name}' added to Bill ID: {bill_id}\")\n",
    "\n",
    "# Function to view a bill\n",
    "def view_bill(bill_id):\n",
    "    cur.execute('''\n",
    "        SELECT c.name, c.phone, b.date\n",
    "        FROM bills b\n",
    "        JOIN customers c ON b.customer_id = c.customer_id\n",
    "        WHERE b.bill_id = ?\n",
    "    ''', (bill_id,))\n",
    "    bill_info = cur.fetchone()\n",
    "\n",
    "    if not bill_info:\n",
    "        print(\" Bill not found.\")\n",
    "        return\n",
    "\n",
    "    print(f\"\\n--- Bill ID: {bill_id} ---\")\n",
    "    print(f\"Customer: {bill_info[0]}\")\n",
    "    print(f\"Phone: {bill_info[1]}\")\n",
    "    print(f\"Date: {bill_info[2]}\")\n",
    "    print(\"\\nItems:\")\n",
    "    print(\"{} {} {} {}\".format(\"Item\", \"Qty\", \"Price\", \"Total\"))\n",
    "\n",
    "    cur.execute('''\n",
    "        SELECT item_name, quantity, price FROM items WHERE bill_id = ?\n",
    "    ''', (bill_id,))\n",
    "    items = cur.fetchall()\n",
    "\n",
    "    grand_total = 0\n",
    "    for item in items:\n",
    "        name, qty, price = item\n",
    "        total = qty * price\n",
    "        grand_total += total\n",
    "        print(\"{} {} {} {}\".format(name, qty, price, total))\n",
    "\n",
    "    print(f\"\\nTotal Amount: ₹{grand_total}\")\n",
    "\n",
    "# Function to view items in a bill with item_id\n",
    "def view_items_in_bill(bill_id):\n",
    "    cur.execute('''\n",
    "        SELECT item_id, item_name, quantity, price FROM items WHERE bill_id = ?\n",
    "    ''', (bill_id,))\n",
    "    items = cur.fetchall()\n",
    "\n",
    "    if not items:\n",
    "        print(\" No items found in this bill.\")\n",
    "        return []\n",
    "\n",
    "    print(\"\\nItems in Bill:\")\n",
    "    print(\"{} {} {} {}\".format(\"Item ID\", \"Item Name\", \"Qty\", \"Price\"))\n",
    "    for item in items:\n",
    "        item_id, name, qty, price = item\n",
    "        print(\"{} {} {} {}\".format(item_id, name, qty, price))\n",
    "    return items\n",
    "\n",
    "# Function to delete an item from bill\n",
    "def delete_item_from_bill():\n",
    "    try:\n",
    "        bill_id = int(input(\"Enter Bill ID: \"))\n",
    "        items = view_items_in_bill(bill_id)\n",
    "        if not items:\n",
    "            return\n",
    "\n",
    "        item_id = int(input(\"Enter Item ID to delete: \"))\n",
    "        cur.execute(\"DELETE FROM items WHERE item_id = ? AND bill_id = ?\", (item_id, bill_id))\n",
    "        conn.commit()\n",
    "        print(f\" Item ID {item_id} deleted successfully from Bill ID {bill_id}.\")\n",
    "    except Exception as e:\n",
    "        print(\" Error deleting item:\", e)\n",
    "\n",
    "# Main menu\n",
    "def bill_menu():\n",
    "    while True:\n",
    "        print(\"\\n===== Bill Management System =====\")\n",
    "        print(\"1. Create New Bill\")\n",
    "        print(\"2. Add Item to Bill\")\n",
    "        print(\"3. View Bill\")\n",
    "        print(\"4. Delete Item from Bill\")\n",
    "        print(\"5. Exit\")\n",
    "        choice = input(\"Enter your choice: \")\n",
    "\n",
    "        if choice == '1':\n",
    "            name = input(\"Enter customer name: \")\n",
    "            phone = input(\"Enter phone number: \")\n",
    "            create_bill(name, phone)\n",
    "        elif choice == '2':\n",
    "            bill_id = int(input(\"Enter Bill ID: \"))\n",
    "            item_name = input(\"Enter item name: \")\n",
    "            qty = int(input(\"Enter quantity: \"))\n",
    "            price = float(input(\"Enter price per unit: ₹\"))\n",
    "            add_item_to_bill(bill_id, item_name, qty, price)\n",
    "        elif choice == '3':\n",
    "            bill_id = int(input(\"Enter Bill ID to view: \"))\n",
    "            view_bill(bill_id)\n",
    "        elif choice == '4':\n",
    "            delete_item_from_bill()\n",
    "        elif choice == '5':\n",
    "            print(\"Exiting Bill Management System. Goodbye!\")\n",
    "            break\n",
    "        else:\n",
    "            print(\"Invalid choice. Please try again.\")\n",
    "\n",
    "bill_menu()\n",
    "conn.close()"
   ]
  },
  {
   "cell_type": "code",
   "execution_count": 8,
   "id": "d451ccc8-9e22-4409-8d5b-d310fdd66e43",
   "metadata": {},
   "outputs": [
    {
     "name": "stdout",
     "output_type": "stream",
     "text": [
      "\n",
      "===== Library Management System =====\n",
      "1. List Books\n",
      "2. Issue Book\n",
      "3. Return Book\n",
      "4. Exit\n"
     ]
    },
    {
     "name": "stdin",
     "output_type": "stream",
     "text": [
      "Enter your choice:  1\n"
     ]
    },
    {
     "name": "stdout",
     "output_type": "stream",
     "text": [
      "\n",
      "Available Books:\n",
      "ID: 1 | Title: Physics Part 1 - NCERT Class 12 | Author: NCERT | Available: 3\n",
      "ID: 2 | Title: Physics Part 2 - NCERT Class 12 | Author: NCERT | Available: 3\n",
      "ID: 3 | Title: Chemistry - NCERT Class 12 | Author: NCERT | Available: 3\n",
      "ID: 4 | Title: Mathematics - NCERT Class 12 | Author: NCERT | Available: 3\n",
      "ID: 5 | Title: Biology - NCERT Class 12 | Author: NCERT | Available: 2\n",
      "\n",
      "===== Library Management System =====\n",
      "1. List Books\n",
      "2. Issue Book\n",
      "3. Return Book\n",
      "4. Exit\n"
     ]
    },
    {
     "name": "stdin",
     "output_type": "stream",
     "text": [
      "Enter your choice:  2\n",
      "Enter Borrower Name:  Sneha\n",
      "Enter Book ID to issue:  3\n"
     ]
    },
    {
     "name": "stdout",
     "output_type": "stream",
     "text": [
      "Book ID 3 issued to 'Sneha' successfully.\n",
      "\n",
      "===== Library Management System =====\n",
      "1. List Books\n",
      "2. Issue Book\n",
      "3. Return Book\n",
      "4. Exit\n"
     ]
    },
    {
     "name": "stdin",
     "output_type": "stream",
     "text": [
      "Enter your choice:  3\n",
      "Enter Borrower Name:  Sneha\n",
      "Enter Book ID to return:  3\n"
     ]
    },
    {
     "name": "stdout",
     "output_type": "stream",
     "text": [
      "Book ID 3 returned by 'Sneha' successfully.\n",
      "\n",
      "===== Library Management System =====\n",
      "1. List Books\n",
      "2. Issue Book\n",
      "3. Return Book\n",
      "4. Exit\n"
     ]
    },
    {
     "name": "stdin",
     "output_type": "stream",
     "text": [
      "Enter your choice:  4\n"
     ]
    },
    {
     "name": "stdout",
     "output_type": "stream",
     "text": [
      "Exiting Library Management System. Goodbye!\n"
     ]
    }
   ],
   "source": [
    "# Library Management System \n",
    "\n",
    "import sqlite3\n",
    "\n",
    "# Delete existing database file if it exists — fresh database every run\n",
    "if os.path.exists(\"lib.db\"):\n",
    "    os.remove(\"lib.db\")\n",
    "\n",
    "conn = sqlite3.connect(\"lib.db\")\n",
    "cur = conn.cursor()\n",
    "\n",
    "# Drop old tables (optional since DB is fresh)\n",
    "cur.execute(\"DROP TABLE IF EXISTS issues\")\n",
    "cur.execute(\"DROP TABLE IF EXISTS borrowers\")\n",
    "\n",
    "# Create tables\n",
    "cur.execute('''\n",
    "CREATE TABLE IF NOT EXISTS borrowers (\n",
    "    borrower_id INTEGER PRIMARY KEY AUTOINCREMENT,\n",
    "    name TEXT NOT NULL\n",
    ")\n",
    "''')\n",
    "\n",
    "cur.execute('''\n",
    "CREATE TABLE IF NOT EXISTS books (\n",
    "    book_id INTEGER PRIMARY KEY AUTOINCREMENT,\n",
    "    title TEXT NOT NULL,\n",
    "    author TEXT,\n",
    "    copies INTEGER DEFAULT 1\n",
    ")\n",
    "''')\n",
    "\n",
    "cur.execute('''\n",
    "CREATE TABLE IF NOT EXISTS issues (\n",
    "    issue_id INTEGER PRIMARY KEY AUTOINCREMENT,\n",
    "    borrower_id INTEGER,\n",
    "    book_id INTEGER,\n",
    "    issue_date TIMESTAMP DEFAULT CURRENT_TIMESTAMP,\n",
    "    return_date INTEGER,  -- store 1 if returned, NULL if not\n",
    "    FOREIGN KEY(borrower_id) REFERENCES borrowers(borrower_id),\n",
    "    FOREIGN KEY(book_id) REFERENCES books(book_id)\n",
    ")\n",
    "''')\n",
    "\n",
    "conn.commit()\n",
    "\n",
    "# Preload NCERT Class 12 books into fresh database\n",
    "books_to_add = [\n",
    "    (\"Physics Part 1 - NCERT Class 12\", \"NCERT\", 3),\n",
    "    (\"Physics Part 2 - NCERT Class 12\", \"NCERT\", 3),\n",
    "    (\"Chemistry - NCERT Class 12\", \"NCERT\", 3),\n",
    "    (\"Mathematics - NCERT Class 12\", \"NCERT\", 3),\n",
    "    (\"Biology - NCERT Class 12\", \"NCERT\", 2)\n",
    "]\n",
    "cur.executemany(\"INSERT INTO books (title, author, copies) VALUES (?, ?, ?)\", books_to_add)\n",
    "conn.commit()\n",
    "\n",
    "def issue_book(borrower_name, book_id):\n",
    "    cur.execute(\"INSERT INTO borrowers (name) VALUES (?)\", (borrower_name,))\n",
    "    borrower_id = cur.lastrowid\n",
    "\n",
    "    cur.execute(\"SELECT copies FROM books WHERE book_id = ?\", (book_id,))\n",
    "    book = cur.fetchone()\n",
    "    if not book:\n",
    "        print(\"Book not found.\")\n",
    "        return\n",
    "    copies = book[0]\n",
    "\n",
    "    cur.execute('''SELECT COUNT(*) FROM issues \n",
    "                   WHERE book_id = ? AND return_date IS NULL''', (book_id,))\n",
    "    issued_count = cur.fetchone()[0]\n",
    "\n",
    "    if issued_count >= copies:\n",
    "        print(\"No copies available to issue.\")\n",
    "        return\n",
    "\n",
    "    cur.execute(\"INSERT INTO issues (borrower_id, book_id) VALUES (?, ?)\", (borrower_id, book_id))\n",
    "    conn.commit()\n",
    "    print(f\"Book ID {book_id} issued to '{borrower_name}' successfully.\")\n",
    "\n",
    "def return_book(borrower_name, book_id):\n",
    "    cur.execute(\"SELECT borrower_id FROM borrowers WHERE name = ? ORDER BY borrower_id DESC LIMIT 1\", (borrower_name,))\n",
    "    borrower = cur.fetchone()\n",
    "    if not borrower:\n",
    "        print(\"Borrower not found.\")\n",
    "        return\n",
    "    borrower_id = borrower[0]\n",
    "\n",
    "    cur.execute('''SELECT issue_id FROM issues \n",
    "                   WHERE borrower_id = ? AND book_id = ? AND return_date IS NULL''', (borrower_id, book_id))\n",
    "    issue = cur.fetchone()\n",
    "    if not issue:\n",
    "        print(\"No active issue found for this book and borrower.\")\n",
    "        return\n",
    "\n",
    "    issue_id = issue[0]\n",
    "    # Instead of datetime, just mark return_date as 1 (means returned)\n",
    "    cur.execute(\"UPDATE issues SET return_date = 1 WHERE issue_id = ?\", (issue_id,))\n",
    "    conn.commit()\n",
    "    print(f\"Book ID {book_id} returned by '{borrower_name}' successfully.\")\n",
    "\n",
    "def list_books():\n",
    "    cur.execute(\"SELECT book_id, title, author, copies FROM books\")\n",
    "    books = cur.fetchall()\n",
    "    print(\"\\nAvailable Books:\")\n",
    "    for book_id, title, author, copies in books:\n",
    "        cur.execute('''SELECT COUNT(*) FROM issues WHERE book_id = ? AND return_date IS NULL''', (book_id,))\n",
    "        issued = cur.fetchone()[0]\n",
    "        available = copies - issued\n",
    "        print(f\"ID: {book_id} | Title: {title} | Author: {author} | Available: {available}\")\n",
    "\n",
    "def library_menu():\n",
    "    while True:\n",
    "        print(\"\\n===== Library Management System =====\")\n",
    "        print(\"1. List Books\")\n",
    "        print(\"2. Issue Book\")\n",
    "        print(\"3. Return Book\")\n",
    "        print(\"4. Exit\")\n",
    "        choice = input(\"Enter your choice: \")\n",
    "\n",
    "        if choice == '1':\n",
    "            list_books()\n",
    "        elif choice == '2':\n",
    "            borrower_name = input(\"Enter Borrower Name: \")\n",
    "            try:\n",
    "                book_id = int(input(\"Enter Book ID to issue: \"))\n",
    "                issue_book(borrower_name, book_id)\n",
    "            except ValueError:\n",
    "                print(\"Invalid input! Book ID must be a number.\")\n",
    "        elif choice == '3':\n",
    "            borrower_name = input(\"Enter Borrower Name: \")\n",
    "            try:\n",
    "                book_id = int(input(\"Enter Book ID to return: \"))\n",
    "                return_book(borrower_name, book_id)\n",
    "            except ValueError:\n",
    "                print(\"Invalid input! Book ID must be a number.\")\n",
    "        elif choice == '4':\n",
    "            print(\"Exiting Library Management System. Goodbye!\")\n",
    "            break\n",
    "        else:\n",
    "            print(\"Invalid choice. Please try again.\")\n",
    "\n",
    "library_menu()\n",
    "conn.close()\n"
   ]
  }
 ],
 "metadata": {
  "kernelspec": {
   "display_name": "Python 3 (ipykernel)",
   "language": "python",
   "name": "python3"
  },
  "language_info": {
   "codemirror_mode": {
    "name": "ipython",
    "version": 3
   },
   "file_extension": ".py",
   "mimetype": "text/x-python",
   "name": "python",
   "nbconvert_exporter": "python",
   "pygments_lexer": "ipython3",
   "version": "3.13.5"
  }
 },
 "nbformat": 4,
 "nbformat_minor": 5
}
