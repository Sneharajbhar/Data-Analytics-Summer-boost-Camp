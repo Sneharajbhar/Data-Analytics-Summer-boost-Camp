{
 "cells": [
  {
   "cell_type": "code",
   "execution_count": 5,
   "id": "7bb2927d-e0d8-4086-8155-c3bafd4d081a",
   "metadata": {},
   "outputs": [
    {
     "name": "stdout",
     "output_type": "stream",
     "text": [
      "\n",
      "===== Bill Management System =====\n",
      "1. Create New Bill\n",
      "2. Add Item to Bill\n",
      "3. View Bill\n",
      "4. Delete Item from Bill\n",
      "5. Exit\n"
     ]
    },
    {
     "name": "stdin",
     "output_type": "stream",
     "text": [
      "Enter your choice:  1\n",
      "Enter customer name:  Sneha Rajbhar\n",
      "Enter phone number:  72138129312\n"
     ]
    },
    {
     "name": "stdout",
     "output_type": "stream",
     "text": [
      " Bill created successfully for Sneha Rajbhar. Bill ID: 3\n",
      "\n",
      "===== Bill Management System =====\n",
      "1. Create New Bill\n",
      "2. Add Item to Bill\n",
      "3. View Bill\n",
      "4. Delete Item from Bill\n",
      "5. Exit\n"
     ]
    },
    {
     "name": "stdin",
     "output_type": "stream",
     "text": [
      "Enter your choice:  2\n",
      "Enter Bill ID:  3\n",
      "Enter item name:  Pen\n",
      "Enter quantity:  10\n",
      "Enter price per unit: ₹ 10\n"
     ]
    },
    {
     "name": "stdout",
     "output_type": "stream",
     "text": [
      " Item 'Pen' added to Bill ID: 3\n",
      "\n",
      "===== Bill Management System =====\n",
      "1. Create New Bill\n",
      "2. Add Item to Bill\n",
      "3. View Bill\n",
      "4. Delete Item from Bill\n",
      "5. Exit\n"
     ]
    },
    {
     "name": "stdin",
     "output_type": "stream",
     "text": [
      "Enter your choice:  3\n",
      "Enter Bill ID to view:  3\n"
     ]
    },
    {
     "name": "stdout",
     "output_type": "stream",
     "text": [
      "\n",
      "--- Bill ID: 3 ---\n",
      "Customer: Sneha Rajbhar\n",
      "Phone: 72138129312\n",
      "Date: 2025-07-24 10:19:26\n",
      "\n",
      "Items:\n",
      "Item Qty Price Total\n",
      "Pen 10 10.0 100.0\n",
      "\n",
      "Total Amount: ₹100.0\n",
      "\n",
      "===== Bill Management System =====\n",
      "1. Create New Bill\n",
      "2. Add Item to Bill\n",
      "3. View Bill\n",
      "4. Delete Item from Bill\n",
      "5. Exit\n"
     ]
    },
    {
     "name": "stdin",
     "output_type": "stream",
     "text": [
      "Enter your choice:  4\n",
      "Enter Bill ID:  3\n"
     ]
    },
    {
     "name": "stdout",
     "output_type": "stream",
     "text": [
      "\n",
      "Items in Bill:\n",
      "Item ID Item Name Qty Price\n",
      "3 Pen 10 10.0\n"
     ]
    },
    {
     "name": "stdin",
     "output_type": "stream",
     "text": [
      "Enter Item ID to delete:  3\n"
     ]
    },
    {
     "name": "stdout",
     "output_type": "stream",
     "text": [
      " Item ID 3 deleted successfully from Bill ID 3.\n",
      "\n",
      "===== Bill Management System =====\n",
      "1. Create New Bill\n",
      "2. Add Item to Bill\n",
      "3. View Bill\n",
      "4. Delete Item from Bill\n",
      "5. Exit\n"
     ]
    },
    {
     "name": "stdin",
     "output_type": "stream",
     "text": [
      "Enter your choice:  5\n"
     ]
    },
    {
     "name": "stdout",
     "output_type": "stream",
     "text": [
      "Exiting Bill Management System. Goodbye!\n"
     ]
    }
   ],
   "source": [
    "# bill management system\n",
    "import sqlite3\n",
    "# Connect to the database\n",
    "conn = sqlite3.connect(\"bills.db\")\n",
    "cur = conn.cursor()\n",
    "\n",
    "# Create tables\n",
    "cur.execute('''\n",
    "CREATE TABLE IF NOT EXISTS customers (\n",
    "    customer_id INTEGER PRIMARY KEY AUTOINCREMENT,\n",
    "    name TEXT NOT NULL,\n",
    "    phone TEXT\n",
    ")\n",
    "''')\n",
    "\n",
    "cur.execute('''\n",
    "CREATE TABLE IF NOT EXISTS bills (\n",
    "    bill_id INTEGER PRIMARY KEY AUTOINCREMENT,\n",
    "    customer_id INTEGER,\n",
    "    date TIMESTAMP DEFAULT CURRENT_TIMESTAMP,\n",
    "    FOREIGN KEY(customer_id) REFERENCES customers(customer_id)\n",
    ")\n",
    "''')\n",
    "\n",
    "cur.execute('''\n",
    "CREATE TABLE IF NOT EXISTS items (\n",
    "    item_id INTEGER PRIMARY KEY AUTOINCREMENT,\n",
    "    bill_id INTEGER,\n",
    "    item_name TEXT,\n",
    "    quantity INTEGER,\n",
    "    price REAL,\n",
    "    FOREIGN KEY(bill_id) REFERENCES bills(bill_id)\n",
    ")\n",
    "''')\n",
    "\n",
    "conn.commit()\n",
    "\n",
    "# Function to create a new bill\n",
    "def create_bill(name, phone):\n",
    "    cur.execute(\"INSERT INTO customers (name, phone) VALUES (?, ?)\", (name, phone))\n",
    "    customer_id = cur.lastrowid\n",
    "    cur.execute(\"INSERT INTO bills (customer_id) VALUES (?)\", (customer_id,))\n",
    "    bill_id = cur.lastrowid\n",
    "    conn.commit()\n",
    "    print(f\" Bill created successfully for {name}. Bill ID: {bill_id}\")\n",
    "    return bill_id\n",
    "\n",
    "# Function to add an item to a bill\n",
    "def add_item_to_bill(bill_id, item_name, quantity, price):\n",
    "    cur.execute(\"INSERT INTO items (bill_id, item_name, quantity, price) VALUES (?, ?, ?, ?)\",\n",
    "                (bill_id, item_name, quantity, price))\n",
    "    conn.commit()\n",
    "    print(f\" Item '{item_name}' added to Bill ID: {bill_id}\")\n",
    "\n",
    "# Function to view a bill\n",
    "def view_bill(bill_id):\n",
    "    cur.execute('''\n",
    "        SELECT c.name, c.phone, b.date\n",
    "        FROM bills b\n",
    "        JOIN customers c ON b.customer_id = c.customer_id\n",
    "        WHERE b.bill_id = ?\n",
    "    ''', (bill_id,))\n",
    "    bill_info = cur.fetchone()\n",
    "\n",
    "    if not bill_info:\n",
    "        print(\" Bill not found.\")\n",
    "        return\n",
    "\n",
    "    print(f\"\\n--- Bill ID: {bill_id} ---\")\n",
    "    print(f\"Customer: {bill_info[0]}\")\n",
    "    print(f\"Phone: {bill_info[1]}\")\n",
    "    print(f\"Date: {bill_info[2]}\")\n",
    "    print(\"\\nItems:\")\n",
    "    print(\"{} {} {} {}\".format(\"Item\", \"Qty\", \"Price\", \"Total\"))\n",
    "\n",
    "    cur.execute('''\n",
    "        SELECT item_name, quantity, price FROM items WHERE bill_id = ?\n",
    "    ''', (bill_id,))\n",
    "    items = cur.fetchall()\n",
    "\n",
    "    grand_total = 0\n",
    "    for item in items:\n",
    "        name, qty, price = item\n",
    "        total = qty * price\n",
    "        grand_total += total\n",
    "        print(\"{} {} {} {}\".format(name, qty, price, total))\n",
    "\n",
    "    print(f\"\\nTotal Amount: ₹{grand_total}\")\n",
    "\n",
    "# Function to view items in a bill with item_id\n",
    "def view_items_in_bill(bill_id):\n",
    "    cur.execute('''\n",
    "        SELECT item_id, item_name, quantity, price FROM items WHERE bill_id = ?\n",
    "    ''', (bill_id,))\n",
    "    items = cur.fetchall()\n",
    "\n",
    "    if not items:\n",
    "        print(\" No items found in this bill.\")\n",
    "        return []\n",
    "\n",
    "    print(\"\\nItems in Bill:\")\n",
    "    print(\"{} {} {} {}\".format(\"Item ID\", \"Item Name\", \"Qty\", \"Price\"))\n",
    "    for item in items:\n",
    "        item_id, name, qty, price = item\n",
    "        print(\"{} {} {} {}\".format(item_id, name, qty, price))\n",
    "    return items\n",
    "\n",
    "# Function to delete an item from bill\n",
    "def delete_item_from_bill():\n",
    "    try:\n",
    "        bill_id = int(input(\"Enter Bill ID: \"))\n",
    "        items = view_items_in_bill(bill_id)\n",
    "        if not items:\n",
    "            return\n",
    "\n",
    "        item_id = int(input(\"Enter Item ID to delete: \"))\n",
    "        cur.execute(\"DELETE FROM items WHERE item_id = ? AND bill_id = ?\", (item_id, bill_id))\n",
    "        conn.commit()\n",
    "        print(f\" Item ID {item_id} deleted successfully from Bill ID {bill_id}.\")\n",
    "    except Exception as e:\n",
    "        print(\" Error deleting item:\", e)\n",
    "\n",
    "# Main menu\n",
    "def bill_menu():\n",
    "    while True:\n",
    "        print(\"\\n===== Bill Management System =====\")\n",
    "        print(\"1. Create New Bill\")\n",
    "        print(\"2. Add Item to Bill\")\n",
    "        print(\"3. View Bill\")\n",
    "        print(\"4. Delete Item from Bill\")\n",
    "        print(\"5. Exit\")\n",
    "        choice = input(\"Enter your choice: \")\n",
    "\n",
    "        if choice == '1':\n",
    "            name = input(\"Enter customer name: \")\n",
    "            phone = input(\"Enter phone number: \")\n",
    "            create_bill(name, phone)\n",
    "        elif choice == '2':\n",
    "            bill_id = int(input(\"Enter Bill ID: \"))\n",
    "            item_name = input(\"Enter item name: \")\n",
    "            qty = int(input(\"Enter quantity: \"))\n",
    "            price = float(input(\"Enter price per unit: ₹\"))\n",
    "            add_item_to_bill(bill_id, item_name, qty, price)\n",
    "        elif choice == '3':\n",
    "            bill_id = int(input(\"Enter Bill ID to view: \"))\n",
    "            view_bill(bill_id)\n",
    "        elif choice == '4':\n",
    "            delete_item_from_bill()\n",
    "        elif choice == '5':\n",
    "            print(\"Exiting Bill Management System. Goodbye!\")\n",
    "            break\n",
    "        else:\n",
    "            print(\"Invalid choice. Please try again.\")\n",
    "\n",
    "bill_menu()\n",
    "conn.close()"
   ]
  }
 ],
 "metadata": {
  "kernelspec": {
   "display_name": "Python 3 (ipykernel)",
   "language": "python",
   "name": "python3"
  },
  "language_info": {
   "codemirror_mode": {
    "name": "ipython",
    "version": 3
   },
   "file_extension": ".py",
   "mimetype": "text/x-python",
   "name": "python",
   "nbconvert_exporter": "python",
   "pygments_lexer": "ipython3",
   "version": "3.13.5"
  }
 },
 "nbformat": 4,
 "nbformat_minor": 5
}
